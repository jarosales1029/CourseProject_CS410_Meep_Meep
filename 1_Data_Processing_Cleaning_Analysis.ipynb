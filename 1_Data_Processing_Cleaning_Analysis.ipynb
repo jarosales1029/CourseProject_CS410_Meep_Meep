{
 "cells": [
  {
   "cell_type": "markdown",
   "id": "4d22f2b9",
   "metadata": {},
   "source": [
    "# Prerequisites and Importing libraries\n",
    "\n",
    "We opted for a single Data Preprocessing, Data Cleaning, and Sentiment Analysis script to create a usable dataset ready to be implemented into a backend solution and/or used for Streamlit and Tableau to create visualizations out of the final product.  Essentially, this script ensures a smoothless exploration of the Sentiment Analysis performed on the Airbnb dataset since there will be no processing when users interface with our product."
   ]
  },
  {
   "cell_type": "code",
   "execution_count": 1,
   "id": "c2e07f86",
   "metadata": {
    "scrolled": true
   },
   "outputs": [
    {
     "name": "stderr",
     "output_type": "stream",
     "text": [
      "[nltk_data] Downloading package stopwords to\n",
      "[nltk_data]     C:\\Users\\jrucs\\AppData\\Roaming\\nltk_data...\n",
      "[nltk_data]   Package stopwords is already up-to-date!\n",
      "[nltk_data] Downloading package vader_lexicon to\n",
      "[nltk_data]     C:\\Users\\jrucs\\AppData\\Roaming\\nltk_data...\n",
      "[nltk_data]   Package vader_lexicon is already up-to-date!\n",
      "[nltk_data] Downloading package punkt to\n",
      "[nltk_data]     C:\\Users\\jrucs\\AppData\\Roaming\\nltk_data...\n",
      "[nltk_data]   Package punkt is already up-to-date!\n"
     ]
    }
   ],
   "source": [
    "#import the libraries\n",
    "import pandas as pd\n",
    "import seaborn as sns\n",
    "import matplotlib.pyplot as plt\n",
    "import sqlite3 as sql\n",
    "\n",
    "import nltk\n",
    "from nltk.tokenize import word_tokenize\n",
    "from nltk.corpus import stopwords\n",
    "nltk.download('stopwords')\n",
    "stop = stopwords.words('english')\n",
    "from nltk.stem import PorterStemmer\n",
    "stemmer = PorterStemmer()\n",
    "nltk.download('vader_lexicon')\n",
    "nltk.download('punkt')\n",
    "\n",
    "from nltk.sentiment.vader import SentimentIntensityAnalyzer as vad\n",
    "\n",
    "from sklearn import feature_extraction\n",
    "from sklearn.metrics import confusion_matrix\n",
    "from sklearn import model_selection as ms\n",
    "from sklearn import naive_bayes\n",
    "from sklearn import preprocessing\n",
    "import warnings\n",
    "warnings.filterwarnings(\"ignore\")"
   ]
  },
  {
   "cell_type": "markdown",
   "id": "70e9f6c4",
   "metadata": {},
   "source": [
    "# Data Preprocessing and Data Cleaning\n",
    "\n",
    "Our project required the Airbnb dataset which unfortunately, Airbnb does not have an official API to implement in code for pulling their datasets automatically.  For convenience, we have posted the raw datasets on Box found at this link: https://uofi.box.com/s/tlfd2gd2h40nq90110u72c7p750zogqd.  To gather these datasets, we had to navigate to http://insideairbnb.com/get-the-data/ and ctrl + f to search for our desired city of interest.  Specifically, we are interested in downloading the \"listings.csv.gz\" and the \"reviews.csv.gz\" for our use case.  We downloaded each city's dataset into its own folder named after the city and then uncompressed the \"listings.csv.gz\" and the \"reviews.csv.gz\" in there.\n",
    "\n",
    "After downloading and uncompressing our raw datasets, we initiate four variables which consists of two lists, one counter named \"s\", and an empty DataFrame.  The first list \"cities\", consists of the cities we targeted and the second list \"state\", includes the state where the city resides.  The \"s\" variable is used as a counter to call the state list as an index in the below \\#4 comment.  As the script iterates through each city, the empty DataFrame will be used to append the preprocessed and cleaned DataFrames.  We will now step through each numbered comment in this Data Preprocessing and Data Cleaning script.\n",
    "\n",
    "\n",
    "<b>\\#1 comment:</b><br>\n",
    "The for loop iterates through each city's raw datasets of \"listings.csv\" and \"reviews.csv\".  The code here specifically targets the \"listings.csv\" and keeps only the columns required for our use case.<br>\n",
    "\n",
    "<b>\\#2 comment:</b><br>\n",
    "Targets the \"review.csv\" and only keeps the two columns, \"listing_id\" and \"comments\".<br>\n",
    "\n",
    "<b>\\#3 comment:</b><br>\n",
    "Accomplishes a merge of the \"listings\" on the \"id\" column and \"reviews\" on the \"listing_id\" column.  This merge would add the comments of reviews to the listing's properties.  We then drop the \"listing_id\" column in the final DataFrame.<br>\n",
    "\n",
    "<b>\\#4 comment:</b><br>\n",
    "Renames the \"host_location\" to \"location\" and \"review_scores_value\" to \"review_scores\" for easier readability. Then the \"location\" column is reassigned new values based on the city and state it is currently iterating to.  This is done to identify which initial dataset the record derived from.<br>\n",
    "\n",
    "<b>\\#5 comment:</b><br>\n",
    "Pivots over to data cleaning.  This part of the script handles non-English characters utilizing a lambda function.  A lambda function was implemented since OpenRefine was not handling the removal of non-English characters correctly.<br>\n",
    "\n",
    "<b>\\#6 comment:</b><br>\n",
    "Removes all html tags in the \"comments\" column.  OpenRefine was letting us down again by not removing html tags with the given options.  Specifically, we had \\<br> tags after accomplishing some Exploratory Data Analysis (EDA).<br>\n",
    "\n",
    "<b>\\#7 comment:</b><br>\n",
    "Removes punctuations in the \"comments\" column.  After removing non-English characters, html tags and punctuations, we ended up with empty values.<br>\n",
    "\n",
    "<b>\\#8 comment:</b><br>\n",
    "Removes whitespace in the \"comments\" column.  Lastly, OpenRefine was not properly removing whitespace with its built in functions.  Instead of cleaning with OpenRefine, we just decided to implement all the required steps in this script.<br>\n",
    "\n",
    "<b>\\#9 comment:</b><br>\n",
    "Drops any duplicate records when the \"comments\" value are the same.  This was necessary since many records were duplicated.<br>\n",
    "\n",
    "<b>\\#10 comment:</b><br>\n",
    "Drops any records which are empty or have a null value.  The intial dataset had null values and after implementing the above cleaning steps, we ended up with a few more so we removed them before proceeding to the next step.<br>\n",
    "\n",
    "<b>\\#11 comment:</b><br>\n",
    "Queries the DataFrame for any \"review_scores\" that are less than or equal to \"3.0\".  It then groups the records by their \"id\" so that we target all listings and then takes a sample of \"10\" from each listing with the replace option set to True.  Replace set to True in this instance allows us to retrieve up to 10 records while not throwing an error if a listing does not have 10 records.  The negative part is that if a listing has less than 10 records, it will add duplicates until it reaches 10 but this can be handled later by dropping duplicates again.  We then assign the 10 records for each listing with a score of less than or equal to \"3.0\" into a new DataFrame variable.  Next, we query the original DataFrame for any \"review_scores\" for greater than \"3.0\" and groupby \"id\" to target all listing and then take a sample of \"5\" from each listing with the replace option set to True.  We only queried for \"5\" because after accomplishing some EAD and researching, Airbnb mentions their listings have over 95% positive reviews.  Additionally, lower scored listings have less reviews.  These queries were implemented instead of accomplishing a random selection from each listing to combat this imbalanced dataset.  The lower \"review_scores\" DataFrame is then appended to the higher \"review_scores\" DataFrame.<br>\n",
    "\n",
    "<b>\\#12 comment:</b><br>\n",
    "Drops any duplicates when the \"comments\" value is the same.<br>\n",
    "\n",
    "<b>\\#13 comment:</b><br>\n",
    "Drops any records with missing values.<br>\n",
    "\n",
    "<b>\\#14 comment:</b><br>\n",
    "We begin pivoting over to the analysis portion by converting the \"comments\" values to strings and lowercasing.<br>\n",
    "\n",
    "<b>\\#15 comment:</b><br>\n",
    "We then tokenize the values in the \"comments\" column.<br>\n",
    "\n",
    "<b>\\#16 comment:</b><br>\n",
    "We then remove the stop words in the \"comments\" column after tokenization utlizing a lambda function.<br>\n",
    "\n",
    "<b>\\#17 comment:</b><br>\n",
    "Append the prepared and cleaned DataFrame into the empty DataFrame we created at the beginning.<br>\n",
    "\n",
    "<b>\\#18 comment:</b><br>\n",
    "Increment the \"s\" counter variable to iterate through the state list for what happens in the \\#4 comment."
   ]
  },
  {
   "cell_type": "code",
   "execution_count": 2,
   "id": "d1466843",
   "metadata": {
    "scrolled": false
   },
   "outputs": [
    {
     "name": "stdout",
     "output_type": "stream",
     "text": [
      "Los Angeles\n",
      "San Francisco\n",
      "Chicago\n",
      "Nashville\n",
      "Boston\n",
      "New Orleans\n",
      "Austin\n",
      "Denver\n"
     ]
    }
   ],
   "source": [
    "cities = ['Los Angeles', 'San Francisco', 'Chicago', 'Nashville', 'Boston', 'New Orleans', 'Austin', 'Denver']\n",
    "state = ['CA', 'CA', 'IL', 'TN', 'MA', 'LA', 'TX', 'CO']\n",
    "s = 0\n",
    "df_main = pd.DataFrame()\n",
    "\n",
    "#1 iterate and read listings local file directory/keep the required columns for merging\n",
    "for city in cities:\n",
    "    print(city)\n",
    "    listings = pd.read_csv(f'{city}/listings.csv')\n",
    "    listings = listings.loc[:, ['id',\n",
    "                         'name',\n",
    "                         'host_location',\n",
    "                         'neighbourhood_cleansed',\n",
    "                         'latitude',\n",
    "                         'longitude',\n",
    "                         'price',\n",
    "                         'review_scores_value']]\n",
    "\n",
    "    #2 read reviews local file directory/keep the required columns for merging\n",
    "    reviews = pd.read_csv(f'{city}/reviews.csv')\n",
    "    reviews = reviews.loc[:, ['listing_id', 'comments']]\n",
    "\n",
    "    #3 merge the listing and reviews datasets and keep only the required columns for our use case\n",
    "    df = listings.merge(reviews, left_on='id', right_on='listing_id')\n",
    "    df = df.loc[:, ['id',\n",
    "                    'name',\n",
    "                    'host_location',\n",
    "                    'neighbourhood_cleansed',\n",
    "                    'latitude',\n",
    "                    'longitude',\n",
    "                    'price',\n",
    "                    'review_scores_value',\n",
    "                    'comments']]\n",
    "\n",
    "    #4 rename columns & from identified list variables, change the value to city, state\n",
    "    df = df.rename(columns={'host_location':'location', 'review_scores_value':'review_scores'})\n",
    "    df['location'] = f'{city}, {state[s]}'\n",
    "\n",
    "    #5 remove non-ASCII characters\n",
    "    u = df.select_dtypes(object)\n",
    "    df[u.columns] = u.apply(lambda x: x.str.encode('ascii', 'ignore').str.decode('ascii'))\n",
    "\n",
    "    #6 remove html tags from the comments\n",
    "    df['comments'] = df['comments'].str.replace(r'<[^<>]*>', '', regex=True)\n",
    "\n",
    "    #7 remove punctuation\n",
    "    df['comments'] = df['comments'].str.replace(r'[^\\w\\s]+', '', regex=True)\n",
    "\n",
    "    #8 remove whitespace\n",
    "    df['comments'] = df['comments'].str.strip()\n",
    "\n",
    "    #9 drop any rows with duplicate comments\n",
    "    df = df.drop_duplicates(['comments'])\n",
    "\n",
    "    #10 drop rows that are missing values\n",
    "    df = df.dropna()\n",
    "    \n",
    "    #11 query review_scores column for <= 3.0 and > 3.0, then groupby the id column\n",
    "    # take 10 samples from <= 3.0 and 5 samples from > 3.0\n",
    "    df_tail = df.query('review_scores <= 3.0').groupby('id').sample(10, replace=True)\n",
    "    df = df.query('review_scores > 3.0').groupby('id').sample(5, replace=True)\n",
    "    df = df.append(df_tail)\n",
    "\n",
    "    #12 drop any rows with duplicate comments\n",
    "    df = df.drop_duplicates(['comments'])\n",
    "\n",
    "    #13 drop rows that are missing values\n",
    "    df = df.dropna()\n",
    "\n",
    "    #14 convert the comments values to string and lowercase\n",
    "    df['comments'] = df['comments'].astype(str)\n",
    "    df['comments'] = df['comments'].str.lower()\n",
    "\n",
    "    #15 tokenize words in the comments\n",
    "    df['comments'] = df['comments'].apply(word_tokenize)\n",
    "\n",
    "    #16 remove stop words from the tokens\n",
    "    df['comments'] = df['comments'].apply(lambda x: ' '.join([item for item in x if item not in stop]))\n",
    "\n",
    "    #17 merging files\n",
    "    df_main = df_main.append(df)\n",
    "\n",
    "    #18 increment s to iterate through given city/state lists\n",
    "    s += 1"
   ]
  },
  {
   "cell_type": "markdown",
   "id": "5de6e7de",
   "metadata": {},
   "source": [
    "# Vader Sentiment Analysis\n",
    "\n",
    "<b>Introduction to Vader:</b><br>\n",
    "After spending some time researching about which tool to leverage for performing sentiment analysis, we decided to go forward with VADER. “VADER (Valence Aware Dictionary and SentimentReasoner) is a lexicon and rule-based sentiment analysis tool”. It is known to perform well with the review’s dataset spanning from social media to movies and products. Since we were utilizing the Airbnb dataset and review field, we decided to use the VADER algorithm to perform sentiment analysis.\n",
    "\n",
    "\n",
    "<b>How Vader Works:</b><br>\n",
    "There are three different values within the algorithm including Positive, Negative, and Neutral. One nice advantage of Vader is that in addition to displaying whether a review is positive or negative, it also specifies how positive or negative the review is. This can easily be seen by looking at our results. When we pass our data frame to VADER, it first looks to see if any of the words from the data frame exists in the VADER lexicon. From there using the polarity function, we can then retrieve the polarity values. The compound score sums up the lexicon ratings and normalize the values to create a final value which displays the sentiment.\n",
    "\n",
    "<b>How the scores work:</b><br>\n",
    "There are different ways of setting up the threshold, but we went with the standard way. In our case, we have kept the positive sentiment as having the compound score greater than equal to 0.05. The negative reviews are the ones with compound scores less than equal to 0.05. Everything else is kept neutral.\n",
    "\n",
    "<b>Plotting the values:</b><br>\n",
    "Once we get through the process of retrieving the sentiment based on the dataframe, we then plot the values that we got from using VADER algorithm. As discussed earlier, since our dataset comprises of mostly positive reviews; we see a big set of positive reviews.\n",
    "\n",
    "<b>Reference:</b><br>\n",
    "https://www.researchgate.net/profile/Janardhan-Naulegari/publication/333602124_A_Comprehensive_Study_on_Lexicon_Based_Approaches_for_Sentiment_Analysis/links/5d13452ca6fdcc2462a688ed/A-Comprehensive-Study-on-Lexicon-Based-Approaches-for-Sentiment-Analysis"
   ]
  },
  {
   "cell_type": "code",
   "execution_count": 3,
   "id": "703b7e00",
   "metadata": {},
   "outputs": [],
   "source": [
    "from nltk.sentiment.vader import SentimentIntensityAnalyzer as vad\n",
    "\n",
    "# copying the data into a new dataframe called vader\n",
    "#vader = df_main.copy()\n",
    "sentiment = vad()\n",
    "\n",
    "# making additional columns for sentiment score in the vader dataframe\n",
    "sen = ['Positive', 'Negative', 'Neutral']\n",
    "sentiments = [sentiment.polarity_scores(i) for i in df_main['comments'].values]\n",
    "df_main['Vad_Negative_Score'] = [i['neg'] for i in sentiments]\n",
    "df_main['Vad_Positive_Score'] = [i['pos'] for i in sentiments]\n",
    "df_main['Vad_Neutral_Score'] = [i['neu'] for i in sentiments]\n",
    "df_main['Vad_Compound_Score'] = [i['compound'] for i in sentiments]\n",
    "score = df_main['Vad_Compound_Score'].values\n",
    "t = []\n",
    "\n",
    "for i in score:\n",
    "    if i >= 0.05:\n",
    "        t.append('Positive')\n",
    "    elif i <= -0.05:\n",
    "        t.append('Negative')\n",
    "    else:\n",
    "        t.append('Neutral')\n",
    "        \n",
    "df_main['Overall_Sentiment'] = t"
   ]
  },
  {
   "cell_type": "code",
   "execution_count": 4,
   "id": "8bab5847",
   "metadata": {},
   "outputs": [
    {
     "data": {
      "text/plain": [
       "<AxesSubplot:title={'center':'Over All Sentiment'}, ylabel='Overall_Sentiment'>"
      ]
     },
     "execution_count": 4,
     "metadata": {},
     "output_type": "execute_result"
    },
    {
     "data": {
      "image/png": "[encoded data removed]",
      "text/plain": [
       "<Figure size 432x288 with 1 Axes>"
      ]
     },
     "metadata": {},
     "output_type": "display_data"
    }
   ],
   "source": [
    "# pie chart\n",
    "explode = [0, 0.1, 0.1]\n",
    "df_main[\"Overall_Sentiment\"].value_counts().plot.pie(title=\"Over All Sentiment\",autopct='%1.1f%%', explode = explode)"
   ]
  },
  {
   "cell_type": "markdown",
   "id": "84de9163",
   "metadata": {},
   "source": [
    "# Evaluating our Sentiment Analysis using Classifiers\n",
    "CountVectorizer is part of the scikit-learn python library. It is used to transform the given text which in our case is the data frame which is preprocessed and then converts it into a vector based on the frequency of each word in that entire data frame. It converts each word into its own vector and that way it can be a very powerful tool if we wanted to inquire about the unique words. For our data set, we can see that it gives us a value of (318067, 89) which essentially means that we have 318067 rows of data with 89 unique words.\n",
    "Reference:\n",
    "https://www.geeksforgeeks.org/using-countvectorizer-to-extracting-features-from-text/"
   ]
  },
  {
   "cell_type": "code",
   "execution_count": 5,
   "id": "e9e4f2df",
   "metadata": {},
   "outputs": [
    {
     "data": {
      "text/plain": [
       "(318067, 89)"
      ]
     },
     "execution_count": 5,
     "metadata": {},
     "output_type": "execute_result"
    }
   ],
   "source": [
    "# Count Vectorization\n",
    "counts = feature_extraction.text.CountVectorizer()\n",
    "X = counts.fit_transform(df_main['review_scores'].astype(str).values)\n",
    "X.shape"
   ]
  },
  {
   "cell_type": "code",
   "execution_count": 6,
   "id": "b89a67a3",
   "metadata": {},
   "outputs": [],
   "source": [
    "# Import label encoder\n",
    "from sklearn import preprocessing\n",
    "  \n",
    "# label_encoder object knows how to understand word labels.\n",
    "label_encoder = preprocessing.LabelEncoder()\n",
    "  \n",
    "# Encode labels in column 'species'.\n",
    "df_main['Overall_Sentiment']= label_encoder.fit_transform(df_main['Overall_Sentiment'])\n",
    "df_main['Overall_Sentiment'].unique()\n",
    "y = df_main['Overall_Sentiment'].values"
   ]
  },
  {
   "cell_type": "code",
   "execution_count": 7,
   "id": "d63f4286",
   "metadata": {},
   "outputs": [],
   "source": [
    "# Train Test Split\n",
    "X_train, X_test, y_train, y_test = ms.train_test_split(X, y, test_size=0.2, random_state=42)"
   ]
  },
  {
   "cell_type": "code",
   "execution_count": 8,
   "id": "a80c5637",
   "metadata": {},
   "outputs": [],
   "source": [
    "# print final dataset\n",
    "df1 = df_main.to_csv('Dataset_Final.csv', sep=',', index=False)"
   ]
  },
  {
   "cell_type": "markdown",
   "id": "3f2127fd",
   "metadata": {},
   "source": [
    "# Multinomial Naive Bayes\n",
    "\n",
    "Naive Bayes is a fairly simple group of probabilistic algorithms that, for sentiment analysis classification, assigns a probability that a given word or phrase should be considered neutral, positive or negative. Naive Bayes calculates words against each other. So, with machine learning models trained for word polarity, we can calculate the likelihood that a word, phrase, or text is neutral, positive or negative.<br>\n",
    "\n",
    "In this case, we have split train and test sample into 80:20 ratio. Trained the algorithm on 80 % data and tested on 20 %. We were able to score 96% of precision score on test data."
   ]
  },
  {
   "cell_type": "code",
   "execution_count": 9,
   "id": "96931b39",
   "metadata": {},
   "outputs": [
    {
     "name": "stdout",
     "output_type": "stream",
     "text": [
      "\n",
      "\n",
      "MultinomialNB: 95.76351117678499 \n",
      "\n",
      "              precision    recall  f1-score   support\n",
      "\n",
      "           0       0.00      0.00      0.00      1155\n",
      "           1       0.00      0.00      0.00      1540\n",
      "           2       0.96      1.00      0.98     60919\n",
      "\n",
      "    accuracy                           0.96     63614\n",
      "   macro avg       0.32      0.33      0.33     63614\n",
      "weighted avg       0.92      0.96      0.94     63614\n",
      "\n"
     ]
    }
   ],
   "source": [
    "# Multinomial Naive Bayes\n",
    "from sklearn.naive_bayes import MultinomialNB\n",
    "from sklearn.metrics import confusion_matrix\n",
    "from sklearn.metrics import accuracy_score\n",
    "from sklearn.metrics import classification_report\n",
    "from sklearn.metrics import precision_score, recall_score, f1_score, accuracy_score\n",
    "\n",
    "m3 = 'MultinomialNB'\n",
    "rf = MultinomialNB()\n",
    "classifier = rf.fit(X_train, y_train)\n",
    "rf_predicted = rf.predict(X_test)\n",
    "rf_conf_matrix = confusion_matrix(y_test, rf_predicted)           \n",
    "rf_acc_score = accuracy_score(y_test, rf_predicted)\n",
    "print(\"\\n\")\n",
    "\n",
    "score_rf = rf_acc_score*100\n",
    "print(\"MultinomialNB:\",rf_acc_score*100,'\\n')\n",
    "print(classification_report(y_test,rf_predicted))"
   ]
  },
  {
   "cell_type": "code",
   "execution_count": 10,
   "id": "67a7bb19",
   "metadata": {},
   "outputs": [
    {
     "name": "stdout",
     "output_type": "stream",
     "text": [
      "Requirement already satisfied: mlxtend in c:\\users\\jrucs\\anaconda3\\lib\\site-packages (0.21.0)\n",
      "Requirement already satisfied: pandas>=0.24.2 in c:\\users\\jrucs\\anaconda3\\lib\\site-packages (from mlxtend) (1.2.4)\n",
      "Requirement already satisfied: matplotlib>=3.0.0 in c:\\users\\jrucs\\anaconda3\\lib\\site-packages (from mlxtend) (3.3.4)\n",
      "Requirement already satisfied: numpy>=1.16.2 in c:\\users\\jrucs\\anaconda3\\lib\\site-packages (from mlxtend) (1.20.1)\n",
      "Requirement already satisfied: joblib>=0.13.2 in c:\\users\\jrucs\\anaconda3\\lib\\site-packages (from mlxtend) (1.0.1)\n",
      "Requirement already satisfied: scikit-learn>=1.0.2 in c:\\users\\jrucs\\anaconda3\\lib\\site-packages (from mlxtend) (1.1.3)\n",
      "Requirement already satisfied: scipy>=1.2.1 in c:\\users\\jrucs\\anaconda3\\lib\\site-packages (from mlxtend) (1.6.2)\n",
      "Requirement already satisfied: setuptools in c:\\users\\jrucs\\anaconda3\\lib\\site-packages (from mlxtend) (52.0.0.post20210125)\n",
      "Requirement already satisfied: cycler>=0.10 in c:\\users\\jrucs\\anaconda3\\lib\\site-packages (from matplotlib>=3.0.0->mlxtend) (0.10.0)\n",
      "Requirement already satisfied: pyparsing!=2.0.4,!=2.1.2,!=2.1.6,>=2.0.3 in c:\\users\\jrucs\\anaconda3\\lib\\site-packages (from matplotlib>=3.0.0->mlxtend) (2.4.7)\n",
      "Requirement already satisfied: kiwisolver>=1.0.1 in c:\\users\\jrucs\\anaconda3\\lib\\site-packages (from matplotlib>=3.0.0->mlxtend) (1.3.1)\n",
      "Requirement already satisfied: python-dateutil>=2.1 in c:\\users\\jrucs\\anaconda3\\lib\\site-packages (from matplotlib>=3.0.0->mlxtend) (2.8.1)\n",
      "Requirement already satisfied: pillow>=6.2.0 in c:\\users\\jrucs\\anaconda3\\lib\\site-packages (from matplotlib>=3.0.0->mlxtend) (8.2.0)\n",
      "Requirement already satisfied: six in c:\\users\\jrucs\\anaconda3\\lib\\site-packages (from cycler>=0.10->matplotlib>=3.0.0->mlxtend) (1.15.0)\n",
      "Requirement already satisfied: pytz>=2017.3 in c:\\users\\jrucs\\anaconda3\\lib\\site-packages (from pandas>=0.24.2->mlxtend) (2021.1)\n",
      "Requirement already satisfied: threadpoolctl>=2.0.0 in c:\\users\\jrucs\\anaconda3\\lib\\site-packages (from scikit-learn>=1.0.2->mlxtend) (2.1.0)\n"
     ]
    }
   ],
   "source": [
    "!pip install mlxtend"
   ]
  },
  {
   "cell_type": "code",
   "execution_count": 11,
   "id": "43d11bdd",
   "metadata": {},
   "outputs": [
    {
     "data": {
      "image/png": "[encoded data removed]",
      "text/plain": [
       "<Figure size 432x288 with 2 Axes>"
      ]
     },
     "metadata": {
      "needs_background": "light"
     },
     "output_type": "display_data"
    }
   ],
   "source": [
    "# Imports\n",
    "from mlxtend.plotting import plot_confusion_matrix\n",
    "import matplotlib.pyplot as plt\n",
    "\n",
    "figure, ax = plot_confusion_matrix(conf_mat = rf_conf_matrix,\n",
    "                                  #  class_names = classes,\n",
    "                                   show_absolute = False,\n",
    "                                   show_normed = True,\n",
    "                                   colorbar = True)\n",
    "\n",
    "plt.show()"
   ]
  },
  {
   "cell_type": "markdown",
   "id": "6ff58f32",
   "metadata": {},
   "source": [
    "# Support Vector Machine (SVM)\n",
    "\n",
    "A support vector machine is another supervised machine learning model, similar to linear regression but more advanced. SVM uses algorithms to train and classify text within our sentiment polarity model, taking it a step beyond X/Y prediction. We have used SVM as multi class classification algorithm.<br>\n",
    "\n",
    "In case of SVM, We trained the algorithm on 80 % data and tested on 20 % data and achieved the precision of 96%."
   ]
  },
  {
   "cell_type": "code",
   "execution_count": 12,
   "id": "34da26b0",
   "metadata": {},
   "outputs": [
    {
     "name": "stdout",
     "output_type": "stream",
     "text": [
      "\n",
      "\n",
      "SVM: 95.76351117678499 \n",
      "\n",
      "              precision    recall  f1-score   support\n",
      "\n",
      "           0       0.00      0.00      0.00      1155\n",
      "           1       0.00      0.00      0.00      1540\n",
      "           2       0.96      1.00      0.98     60919\n",
      "\n",
      "    accuracy                           0.96     63614\n",
      "   macro avg       0.32      0.33      0.33     63614\n",
      "weighted avg       0.92      0.96      0.94     63614\n",
      "\n"
     ]
    }
   ],
   "source": [
    "# SVM\n",
    "from sklearn import svm\n",
    "\n",
    "m3 = 'SVM'\n",
    "rf =  svm.SVC(decision_function_shape='ovo')\n",
    "classifier = rf.fit(X_train,y_train)\n",
    "rf_predicted = rf.predict(X_test)\n",
    "rf_conf_matrix = confusion_matrix(y_test, rf_predicted)           \n",
    "rf_acc_score = accuracy_score(y_test, rf_predicted)\n",
    "print(\"\\n\")\n",
    "\n",
    "score_rf = rf_acc_score*100\n",
    "print(\"SVM:\",rf_acc_score*100,'\\n')\n",
    "print(classification_report(y_test,rf_predicted))"
   ]
  },
  {
   "cell_type": "code",
   "execution_count": 13,
   "id": "094ea831",
   "metadata": {},
   "outputs": [
    {
     "data": {
      "image/png": "[encoded data removed]",
      "text/plain": [
       "<Figure size 432x288 with 2 Axes>"
      ]
     },
     "metadata": {
      "needs_background": "light"
     },
     "output_type": "display_data"
    }
   ],
   "source": [
    "# Confusion Matrix\n",
    "from mlxtend.plotting import plot_confusion_matrix\n",
    "import matplotlib.pyplot as plt\n",
    "\n",
    "figure, ax = plot_confusion_matrix(conf_mat = rf_conf_matrix,\n",
    "                                  #  class_names = classes,\n",
    "                                   show_absolute = False,\n",
    "                                   show_normed = True,\n",
    "                                   colorbar = True)\n",
    "\n",
    "plt.show()"
   ]
  },
  {
   "cell_type": "markdown",
   "id": "6062736c",
   "metadata": {},
   "source": [
    "# Random Forest Classifier\n",
    "\n",
    "Random forest classifier is a Supervised Machine Learning Algorithm that is used widely in Classification and Regression problems. It builds decision trees on different samples and takes their majority vote for classification and average in case of regression. We have used it as multiclass classification algorithm to calculate the neutral, negative, and positive sentiments.<br>\n",
    "\n",
    "We have achieved the precision score of 96% on test data."
   ]
  },
  {
   "cell_type": "code",
   "execution_count": 14,
   "id": "4b56ae55",
   "metadata": {},
   "outputs": [
    {
     "name": "stdout",
     "output_type": "stream",
     "text": [
      "\n",
      "\n",
      "Random Forest : 95.76351117678499 \n",
      "\n",
      "              precision    recall  f1-score   support\n",
      "\n",
      "           0       0.00      0.00      0.00      1155\n",
      "           1       0.00      0.00      0.00      1540\n",
      "           2       0.96      1.00      0.98     60919\n",
      "\n",
      "    accuracy                           0.96     63614\n",
      "   macro avg       0.32      0.33      0.33     63614\n",
      "weighted avg       0.92      0.96      0.94     63614\n",
      "\n"
     ]
    }
   ],
   "source": [
    "# Random Forest Classifier\n",
    "#!pip install scikit-learn\n",
    "#from sklearn.ensemble import _forest as forest\n",
    "from sklearn.ensemble import RandomForestClassifier\n",
    "\n",
    "rf =  RandomForestClassifier(max_depth=3)\n",
    "classifier = rf.fit(X_train,y_train)\n",
    "rf_predicted = rf.predict(X_test)\n",
    "rf_conf_matrix = confusion_matrix(y_test, rf_predicted)           \n",
    "rf_acc_score = accuracy_score(y_test, rf_predicted)\n",
    "print(\"\\n\")\n",
    "\n",
    "score_rf = rf_acc_score*100\n",
    "print(\"Random Forest :\",rf_acc_score*100,'\\n')\n",
    "print(classification_report(y_test,rf_predicted))"
   ]
  },
  {
   "cell_type": "markdown",
   "id": "c7a70172",
   "metadata": {},
   "source": [
    "# Build a SQLite for Backend\n",
    "\n",
    "SQLite is a small, fast, self-contained, high-reliability, full-featured, SQL database engine. With this project , we explored storing the Airbnb dataset and creating a database so as to integrate it with the front end applications. Here are few instructions/steps how to spin up the data base at run time and start using it for the project:\n",
    "\n",
    "1. Download the precompiled binary files for the sqlite based on your operating system - https://www.sqlite.org/download.html\n",
    "2. Once you download, store it in the following folder - CourseProject_CS410_Meep_Meep\\Archive\\spinupdatabase\\sqlite and run the exe file.\n",
    "3. Download the Airbnb data set from the link and store it in the following directory – CourseProject_CS410_Meep_Meep\\Archive\\spinupdatabase\\dataset(Please know this data set is originally downloaded from a public website - http://insideairbnb.com/get-the-data/ and multiple passes of clean up job is performed on it)\n",
    "4. Now if you look at the spinupdatabase folder in the project repo – there are two python files inside it. The python file named “createdatabase.py” is run locally to create the database and an empty table with the required fields and defined primary and foreign keys. The Second python file “loadlistingdata.py” is run to load the dataset into the database and table. There is also a line of code that will test your database connection and query.\n",
    "5. Now as we moved towards the front end of the project , the streamlit application UX was built to directly upload the cleaned spreadsheet and the results are displayed. So, we did not find a real purpose to integrate the database here. However, we did integrate the databse with jupyter notebook for the sentiment analysis to test and ensure that the database works fine. The \"SentimnentAnalysis_sqlintegrated.ipynb\" file is at teh following location - CourseProject_CS410_Meep_Meep\\Archive\n",
    "\n",
    "Note : Worth noting that we have created the framework which will spin up the data base in minutes and will be ready to be used by anyone who wants to integrate and do an enhancement on the project.All these can be installed and executed as part of the cloned project from the github."
   ]
  },
  {
   "cell_type": "code",
   "execution_count": 15,
   "id": "b13566fe",
   "metadata": {},
   "outputs": [],
   "source": [
    "import sqlite3 as sql\n",
    "\n",
    "# create sql database from csv file\n",
    "dataset = pd.read_csv(\"Dataset_Final.csv\", header=0)\n",
    "db_conn = sql.connect(\"airbnb_dataset.db\")\n",
    "dataset.to_sql(\"airbnb_dataset\", db_conn, if_exists='append', index=False)\n",
    "\n",
    "# test case\n",
    "#austinlisting = pd.read_sql(\"SELECT * FROM airbnb_dataset where id = 5456 LIMIT 5\", db_conn)\n",
    "#print(austinlisting)\n",
    "\n",
    "db_conn.close()"
   ]
  },
  {
   "cell_type": "code",
   "execution_count": 16,
   "id": "6911edb9",
   "metadata": {},
   "outputs": [],
   "source": [
    "# create primary key\n",
    "db_conn = sql.connect(\"airbnb_dataset.db\")\n",
    "con = db_conn.cursor()\n",
    "\n",
    "con.execute(\n",
    "    \"\"\"CREATE TABLE listing (\n",
    "        id INTEGER, \n",
    "        name TEXT,\n",
    "        location TEXT,\n",
    "        neighbourhood TEXT,\n",
    "        latitude REAL,\n",
    "        longitude REAL,\n",
    "        price REAL,\n",
    "        review_scores REAL,\n",
    "        comments TEXT,\n",
    "        PRIMARY KEY(id)\n",
    "        );\"\"\"\n",
    ")\n",
    "\n",
    "db_conn.close()"
   ]
  }
 ],
 "metadata": {
  "kernelspec": {
   "display_name": "Python 3 (ipykernel)",
   "language": "python",
   "name": "python3"
  },
  "language_info": {
   "codemirror_mode": {
    "name": "ipython",
    "version": 3
   },
   "file_extension": ".py",
   "mimetype": "text/x-python",
   "name": "python",
   "nbconvert_exporter": "python",
   "pygments_lexer": "ipython3",
   "version": "3.7.7"
  }
 },
 "nbformat": 4,
 "nbformat_minor": 5
}
