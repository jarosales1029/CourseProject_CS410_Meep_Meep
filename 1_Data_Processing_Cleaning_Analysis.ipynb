{
 "cells": [
  {
   "cell_type": "markdown",
   "id": "aca7a354",
   "metadata": {},
   "source": [
    "# Importing libraries\n"
   ]
  },
  {
   "cell_type": "code",
   "execution_count": 2,
   "id": "271230bc",
   "metadata": {},
   "outputs": [
    {
     "name": "stderr",
     "output_type": "stream",
     "text": [
      "[nltk_data] Downloading package stopwords to\n",
      "[nltk_data]     C:\\Users\\jrucs\\AppData\\Roaming\\nltk_data...\n",
      "[nltk_data]   Package stopwords is already up-to-date!\n",
      "[nltk_data] Downloading package vader_lexicon to\n",
      "[nltk_data]     C:\\Users\\jrucs\\AppData\\Roaming\\nltk_data...\n",
      "[nltk_data]   Package vader_lexicon is already up-to-date!\n",
      "[nltk_data] Downloading package punkt to\n",
      "[nltk_data]     C:\\Users\\jrucs\\AppData\\Roaming\\nltk_data...\n",
      "[nltk_data]   Package punkt is already up-to-date!\n"
     ]
    }
   ],
   "source": [
    "#import the libraries\n",
    "import pandas as pd\n",
    "import seaborn as sns\n",
    "import matplotlib.pyplot as plt\n",
    "import sqlite3 as sql\n",
    "\n",
    "import nltk\n",
    "from nltk.tokenize import word_tokenize\n",
    "from nltk.corpus import stopwords\n",
    "nltk.download('stopwords')\n",
    "stop = stopwords.words('english')\n",
    "from nltk.stem import PorterStemmer\n",
    "stemmer = PorterStemmer()\n",
    "nltk.download('vader_lexicon')\n",
    "nltk.download('punkt')\n",
    "\n",
    "from nltk.sentiment.vader import SentimentIntensityAnalyzer as vad\n",
    "\n",
    "from sklearn import feature_extraction\n",
    "from sklearn.metrics import confusion_matrix\n",
    "from sklearn import model_selection as ms\n",
    "from sklearn import naive_bayes\n",
    "from sklearn import preprocessing\n",
    "from sklearn.metrics import confusion_matrix\n",
    "import warnings\n",
    "warnings.filterwarnings(\"ignore\")"
   ]
  },
  {
   "cell_type": "markdown",
   "id": "5d41793a",
   "metadata": {},
   "source": [
    "# Data Preprocessing and Data Cleaning"
   ]
  },
  {
   "cell_type": "code",
   "execution_count": 4,
   "id": "29ac277c",
   "metadata": {},
   "outputs": [
    {
     "name": "stdout",
     "output_type": "stream",
     "text": [
      "Los Angeles\n",
      "San Francisco\n",
      "Chicago\n",
      "Nashville\n",
      "Boston\n",
      "New Orleans\n",
      "Austin\n",
      "Denver\n"
     ]
    }
   ],
   "source": [
    "cities = ['Los Angeles', 'San Francisco', 'Chicago', 'Nashville', 'Boston', 'New Orleans', 'Austin', 'Denver']\n",
    "state = ['CA', 'CA', 'IL', 'TN', 'MA', 'LA', 'TX', 'CO']\n",
    "s = 0\n",
    "df_main = pd.DataFrame()\n",
    "\n",
    "# iterate and read listings local file directory/keep the required columns for merging\n",
    "\n",
    "for city in cities:\n",
    "    print(city)\n",
    "    listings = pd.read_csv(f'{city}/listings.csv')\n",
    "    listings = listings.loc[:, ['id',\n",
    "                         'name',\n",
    "                         'host_location',\n",
    "                         'neighbourhood_cleansed',\n",
    "                         'latitude',\n",
    "                         'longitude',\n",
    "                         'price',\n",
    "                         'review_scores_value']]\n",
    "\n",
    "    # read reviews local file directory/keep the required columns for merging\n",
    "    reviews = pd.read_csv(f'{city}/reviews.csv')\n",
    "    reviews = reviews.loc[:, ['listing_id', 'comments']]\n",
    "\n",
    "    # merge the listing and reviews datasets and keep only the required columns for our use case\n",
    "    df = listings.merge(reviews, left_on='id', right_on='listing_id')\n",
    "    df = df.loc[:, ['id',\n",
    "                    'name',\n",
    "                    'host_location',\n",
    "                    'neighbourhood_cleansed',\n",
    "                    'latitude',\n",
    "                    'longitude',\n",
    "                    'price',\n",
    "                    'review_scores_value',\n",
    "                    'comments']]\n",
    "\n",
    "    # rename columns & from identified list variables, change the value to city, state\n",
    "    df = df.rename(columns={'host_location':'location', 'review_scores_value':'review_scores'})\n",
    "    df['location'] = f'{city}, {state[s]}'\n",
    "\n",
    "    # remove non-ASCII characters\n",
    "    u = df.select_dtypes(object)\n",
    "    df[u.columns] = u.apply(lambda x: x.str.encode('ascii', 'ignore').str.decode('ascii'))\n",
    "\n",
    "    # remove html tags from the comments\n",
    "    df['comments'] = df['comments'].str.replace(r'<[^<>]*>', '', regex=True)\n",
    "\n",
    "    # remove punctuation\n",
    "    df['comments'] = df['comments'].str.replace(r'[^\\w\\s]+', '', regex=True)\n",
    "\n",
    "    # remove whitespace\n",
    "    df['comments'] = df['comments'].str.strip()\n",
    "\n",
    "    # drop any rows with duplicate comments\n",
    "    df = df.drop_duplicates(['comments'])\n",
    "\n",
    "    # drop rows that are missing values\n",
    "    df = df.dropna()\n",
    "    \n",
    "    # query review_scores column for <= 3.0 and > 3.0, then groupby the id column\n",
    "    # take 10 samples from <= 3.0 and 5 samples from > 3.0\n",
    "    df_tail = df.query('review_scores <= 3.0').groupby('id').sample(10, replace=True)\n",
    "    df = df.query('review_scores > 3.0').groupby('id').sample(5, replace=True)\n",
    "    df = df.append(df_tail)\n",
    "\n",
    "    # drop any rows with duplicate comments\n",
    "    df = df.drop_duplicates(['comments'])\n",
    "\n",
    "    # drop rows that are missing values\n",
    "    df = df.dropna()\n",
    "\n",
    "    # convert the comments values to string and lowercase\n",
    "    df['comments'] = df['comments'].astype(str)\n",
    "    df['comments'] = df['comments'].str.lower()\n",
    "\n",
    "    # tokenize words in the comments\n",
    "    df['comments'] = df['comments'].apply(word_tokenize)\n",
    "\n",
    "    # remove stop words from the tokens\n",
    "    df['comments'] = df['comments'].apply(lambda x: ' '.join([item for item in x if item not in stop]))\n",
    "\n",
    "    # merging files\n",
    "    df_main = df_main.append(df)\n",
    "\n",
    "    # increment s to iterate through given city/state lists\n",
    "    s += 1"
   ]
  },
  {
   "cell_type": "markdown",
   "id": "7b3742a4",
   "metadata": {},
   "source": [
    "# Vader Sentiment Analysis"
   ]
  },
  {
   "cell_type": "code",
   "execution_count": 5,
   "id": "0ebcb532",
   "metadata": {},
   "outputs": [],
   "source": [
    "from nltk.sentiment.vader import SentimentIntensityAnalyzer as vad\n",
    "\n",
    "# copying the data into a new dataframe called vader\n",
    "#vader = df_main.copy()\n",
    "sentiment = vad()\n",
    "\n",
    "# making additional columns for sentiment score in the vader dataframe\n",
    "sen = ['Positive', 'Negative', 'Neutral']\n",
    "sentiments = [sentiment.polarity_scores(i) for i in df_main['comments'].values]\n",
    "df_main['Vad_Negative_Score'] = [i['neg'] for i in sentiments]\n",
    "df_main['Vad_Positive_Score'] = [i['pos'] for i in sentiments]\n",
    "df_main['Vad_Neutral_Score'] = [i['neu'] for i in sentiments]\n",
    "df_main['Vad_Compound_Score'] = [i['compound'] for i in sentiments]\n",
    "score = df_main['Vad_Compound_Score'].values\n",
    "t = []\n",
    "\n",
    "for i in score:\n",
    "    if i >= 0.05:\n",
    "        t.append('Positive')\n",
    "    elif i <= -0.05:\n",
    "        t.append('Negative')\n",
    "    else:\n",
    "        t.append('Neutral')\n",
    "        \n",
    "df_main['Overall_Sentiment'] = t"
   ]
  },
  {
   "cell_type": "code",
   "execution_count": 6,
   "id": "5e1006c2",
   "metadata": {},
   "outputs": [
    {
     "data": {
      "text/plain": [
       "<AxesSubplot:title={'center':'Over All Sentiment'}, ylabel='Overall_Sentiment'>"
      ]
     },
     "execution_count": 6,
     "metadata": {},
     "output_type": "execute_result"
    },
    {
     "data": {
      "image/png": "[encoded data removed]",
      "text/plain": [
       "<Figure size 432x288 with 1 Axes>"
      ]
     },
     "metadata": {},
     "output_type": "display_data"
    }
   ],
   "source": [
    "# pie chart\n",
    "explode = [0, 0.1, 0.1]\n",
    "df_main[\"Overall_Sentiment\"].value_counts().plot.pie(title=\"Over All Sentiment\",autopct='%1.1f%%',\n",
    "                        explode = explode\n",
    "                                 )"
   ]
  },
  {
   "cell_type": "markdown",
   "id": "702aaa6f",
   "metadata": {},
   "source": [
    "# Building Classifiers"
   ]
  },
  {
   "cell_type": "code",
   "execution_count": 7,
   "id": "2ca679fc",
   "metadata": {},
   "outputs": [
    {
     "data": {
      "text/plain": [
       "(318140, 89)"
      ]
     },
     "execution_count": 7,
     "metadata": {},
     "output_type": "execute_result"
    }
   ],
   "source": [
    "# Count Vectorization\n",
    "counts = feature_extraction.text.CountVectorizer()\n",
    "X = counts.fit_transform(df_main['review_scores'].astype(str).values)\n",
    "X.shape"
   ]
  },
  {
   "cell_type": "code",
   "execution_count": 8,
   "id": "7587b991",
   "metadata": {},
   "outputs": [],
   "source": [
    "# Import label encoder\n",
    "from sklearn import preprocessing\n",
    "  \n",
    "# label_encoder object knows how to understand word labels.\n",
    "label_encoder = preprocessing.LabelEncoder()\n",
    "  \n",
    "# Encode labels in column 'species'.\n",
    "df_main['Overall_Sentiment']= label_encoder.fit_transform(df_main['Overall_Sentiment'])\n",
    "df_main['Overall_Sentiment'].unique()\n",
    "y = df_main['Overall_Sentiment'].values"
   ]
  },
  {
   "cell_type": "code",
   "execution_count": 9,
   "id": "af5d46ef",
   "metadata": {},
   "outputs": [],
   "source": [
    "# Train Test Split\n",
    "X_train, X_test, y_train, y_test = ms.train_test_split(X, y, test_size=0.2, random_state=42)"
   ]
  },
  {
   "cell_type": "code",
   "execution_count": null,
   "id": "fcf187d4",
   "metadata": {},
   "outputs": [],
   "source": [
    "# print final dataset\n",
    "df1 = df_main.to_csv('Dataset_Final.csv', sep=',', index=False)"
   ]
  },
  {
   "cell_type": "markdown",
   "id": "6dcbd46c",
   "metadata": {},
   "source": [
    "# Multinomial Naive Bayes"
   ]
  },
  {
   "cell_type": "code",
   "execution_count": 10,
   "id": "c4eb31b1",
   "metadata": {},
   "outputs": [
    {
     "name": "stdout",
     "output_type": "stream",
     "text": [
      "\n",
      "\n",
      "MultinomialNB: 95.85874143458855 \n",
      "\n",
      "              precision    recall  f1-score   support\n",
      "\n",
      "           0       0.00      0.00      0.00      1103\n",
      "           1       0.00      0.00      0.00      1532\n",
      "           2       0.96      1.00      0.98     60993\n",
      "\n",
      "    accuracy                           0.96     63628\n",
      "   macro avg       0.32      0.33      0.33     63628\n",
      "weighted avg       0.92      0.96      0.94     63628\n",
      "\n",
      "Precision: 0.959\n",
      "Recall: 0.959\n",
      "F-Measure: 0.959\n"
     ]
    }
   ],
   "source": [
    "# Multinomial Naive Bayes\n",
    "from sklearn.naive_bayes import MultinomialNB\n",
    "from sklearn.metrics import confusion_matrix\n",
    "from sklearn.metrics import accuracy_score\n",
    "from sklearn.metrics import classification_report\n",
    "from sklearn.metrics import precision_score, recall_score, f1_score, accuracy_score\n",
    "\n",
    "m3 = 'MultinomialNB'\n",
    "rf = MultinomialNB()\n",
    "classifier = rf.fit(X_train,y_train)\n",
    "rf_predicted = rf.predict(X_test)\n",
    "rf_conf_matrix = confusion_matrix(y_test, rf_predicted)           \n",
    "rf_acc_score = accuracy_score(y_test, rf_predicted)\n",
    "print(\"\\n\")\n",
    "\n",
    "score_rf = rf_acc_score*100\n",
    "print(\"MultinomialNB:\",rf_acc_score*100,'\\n')\n",
    "print(classification_report(y_test,rf_predicted))\n",
    "\n",
    "# calculate precision, recall, F-Measure\n",
    "precision = precision_score(y_test, rf_predicted, labels=[2, 0, 1], average='micro')\n",
    "print('Precision: %.3f' % precision)\n",
    "recall = recall_score(y_test, rf_predicted, labels=[2, 0, 1], average='micro')\n",
    "print('Recall: %.3f' % recall)\n",
    "score = f1_score(y_test, rf_predicted,  average='micro')\n",
    "print('F-Measure: %.3f' % score)"
   ]
  },
  {
   "cell_type": "code",
   "execution_count": 11,
   "id": "b92c3351",
   "metadata": {},
   "outputs": [
    {
     "name": "stdout",
     "output_type": "stream",
     "text": [
      "Requirement already satisfied: mlxtend in c:\\users\\jrucs\\anaconda3\\lib\\site-packages (0.21.0)\n",
      "Requirement already satisfied: scipy>=1.2.1 in c:\\users\\jrucs\\anaconda3\\lib\\site-packages (from mlxtend) (1.6.2)\n",
      "Requirement already satisfied: numpy>=1.16.2 in c:\\users\\jrucs\\anaconda3\\lib\\site-packages (from mlxtend) (1.20.1)\n",
      "Requirement already satisfied: matplotlib>=3.0.0 in c:\\users\\jrucs\\anaconda3\\lib\\site-packages (from mlxtend) (3.3.4)\n",
      "Requirement already satisfied: joblib>=0.13.2 in c:\\users\\jrucs\\anaconda3\\lib\\site-packages (from mlxtend) (1.0.1)\n",
      "Requirement already satisfied: scikit-learn>=1.0.2 in c:\\users\\jrucs\\anaconda3\\lib\\site-packages (from mlxtend) (1.1.3)\n",
      "Requirement already satisfied: pandas>=0.24.2 in c:\\users\\jrucs\\anaconda3\\lib\\site-packages (from mlxtend) (1.2.4)\n",
      "Requirement already satisfied: setuptools in c:\\users\\jrucs\\anaconda3\\lib\\site-packages (from mlxtend) (52.0.0.post20210125)\n",
      "Requirement already satisfied: kiwisolver>=1.0.1 in c:\\users\\jrucs\\anaconda3\\lib\\site-packages (from matplotlib>=3.0.0->mlxtend) (1.3.1)\n",
      "Requirement already satisfied: python-dateutil>=2.1 in c:\\users\\jrucs\\anaconda3\\lib\\site-packages (from matplotlib>=3.0.0->mlxtend) (2.8.1)\n",
      "Requirement already satisfied: pyparsing!=2.0.4,!=2.1.2,!=2.1.6,>=2.0.3 in c:\\users\\jrucs\\anaconda3\\lib\\site-packages (from matplotlib>=3.0.0->mlxtend) (2.4.7)\n",
      "Requirement already satisfied: pillow>=6.2.0 in c:\\users\\jrucs\\anaconda3\\lib\\site-packages (from matplotlib>=3.0.0->mlxtend) (8.2.0)\n",
      "Requirement already satisfied: cycler>=0.10 in c:\\users\\jrucs\\anaconda3\\lib\\site-packages (from matplotlib>=3.0.0->mlxtend) (0.10.0)\n",
      "Requirement already satisfied: six in c:\\users\\jrucs\\anaconda3\\lib\\site-packages (from cycler>=0.10->matplotlib>=3.0.0->mlxtend) (1.15.0)\n",
      "Requirement already satisfied: pytz>=2017.3 in c:\\users\\jrucs\\anaconda3\\lib\\site-packages (from pandas>=0.24.2->mlxtend) (2021.1)\n",
      "Requirement already satisfied: threadpoolctl>=2.0.0 in c:\\users\\jrucs\\anaconda3\\lib\\site-packages (from scikit-learn>=1.0.2->mlxtend) (2.1.0)\n"
     ]
    }
   ],
   "source": [
    "!pip install mlxtend"
   ]
  },
  {
   "cell_type": "code",
   "execution_count": 12,
   "id": "f3b2fb51",
   "metadata": {},
   "outputs": [
    {
     "data": {
      "image/png": "[encoded data removed]",
      "text/plain": [
       "<Figure size 432x288 with 2 Axes>"
      ]
     },
     "metadata": {
      "needs_background": "light"
     },
     "output_type": "display_data"
    }
   ],
   "source": [
    "# Imports\n",
    "from mlxtend.plotting import plot_confusion_matrix\n",
    "import matplotlib.pyplot as plt\n",
    "\n",
    "figure, ax = plot_confusion_matrix(conf_mat = rf_conf_matrix,\n",
    "                                  #  class_names = classes,\n",
    "                                   show_absolute = False,\n",
    "                                   show_normed = True,\n",
    "                                   colorbar = True)\n",
    "\n",
    "plt.show()"
   ]
  },
  {
   "cell_type": "markdown",
   "id": "7ca182bd",
   "metadata": {},
   "source": [
    "# Support Vector Machine (SVM)"
   ]
  },
  {
   "cell_type": "code",
   "execution_count": 13,
   "id": "8c24fe56",
   "metadata": {},
   "outputs": [
    {
     "name": "stdout",
     "output_type": "stream",
     "text": [
      "\n",
      "\n",
      "SVM: 95.85874143458855 \n",
      "\n",
      "              precision    recall  f1-score   support\n",
      "\n",
      "           0       0.00      0.00      0.00      1103\n",
      "           1       0.00      0.00      0.00      1532\n",
      "           2       0.96      1.00      0.98     60993\n",
      "\n",
      "    accuracy                           0.96     63628\n",
      "   macro avg       0.32      0.33      0.33     63628\n",
      "weighted avg       0.92      0.96      0.94     63628\n",
      "\n"
     ]
    }
   ],
   "source": [
    "# SVM\n",
    "from sklearn import svm\n",
    "\n",
    "m3 = 'SVM'\n",
    "rf =  svm.SVC(decision_function_shape='ovo')\n",
    "classifier = rf.fit(X_train,y_train)\n",
    "rf_predicted = rf.predict(X_test)\n",
    "rf_conf_matrix = confusion_matrix(y_test, rf_predicted)           \n",
    "rf_acc_score = accuracy_score(y_test, rf_predicted)\n",
    "print(\"\\n\")\n",
    "\n",
    "score_rf = rf_acc_score*100\n",
    "print(\"SVM:\",rf_acc_score*100,'\\n')\n",
    "print(classification_report(y_test,rf_predicted))"
   ]
  },
  {
   "cell_type": "code",
   "execution_count": 14,
   "id": "dcda99dd",
   "metadata": {},
   "outputs": [
    {
     "data": {
      "image/png": "[encoded data removed]",
      "text/plain": [
       "<Figure size 432x288 with 2 Axes>"
      ]
     },
     "metadata": {
      "needs_background": "light"
     },
     "output_type": "display_data"
    },
    {
     "name": "stdout",
     "output_type": "stream",
     "text": [
      "Precision: 0.959\n",
      "Recall: 0.959\n",
      "F-Measure: 0.959\n"
     ]
    }
   ],
   "source": [
    "# Confusion Matrix\n",
    "from mlxtend.plotting import plot_confusion_matrix\n",
    "import matplotlib.pyplot as plt\n",
    "\n",
    "figure, ax = plot_confusion_matrix(conf_mat = rf_conf_matrix,\n",
    "                                  #  class_names = classes,\n",
    "                                   show_absolute = False,\n",
    "                                   show_normed = True,\n",
    "                                   colorbar = True)\n",
    "\n",
    "plt.show()\n",
    "\n",
    "# calculate precision, recall, F-Measure\n",
    "precision = precision_score(y_test, rf_predicted, labels=[2, 0, 1], average='micro')\n",
    "print('Precision: %.3f' % precision)\n",
    "recall = recall_score(y_test, rf_predicted, labels=[2, 0, 1], average='micro')\n",
    "print('Recall: %.3f' % recall)\n",
    "score = f1_score(y_test, rf_predicted,  average='micro')\n",
    "print('F-Measure: %.3f' % score)"
   ]
  },
  {
   "cell_type": "markdown",
   "id": "8ba3d1f3",
   "metadata": {},
   "source": [
    "# Random Forest Classifier"
   ]
  },
  {
   "cell_type": "code",
   "execution_count": 15,
   "id": "8494c3b1",
   "metadata": {},
   "outputs": [
    {
     "name": "stdout",
     "output_type": "stream",
     "text": [
      "Requirement already satisfied: scikit-learn in c:\\users\\jrucs\\anaconda3\\lib\\site-packages (1.1.3)\n",
      "Requirement already satisfied: scipy>=1.3.2 in c:\\users\\jrucs\\anaconda3\\lib\\site-packages (from scikit-learn) (1.6.2)\n",
      "Requirement already satisfied: joblib>=1.0.0 in c:\\users\\jrucs\\anaconda3\\lib\\site-packages (from scikit-learn) (1.0.1)\n",
      "Requirement already satisfied: threadpoolctl>=2.0.0 in c:\\users\\jrucs\\anaconda3\\lib\\site-packages (from scikit-learn) (2.1.0)\n",
      "Requirement already satisfied: numpy>=1.17.3 in c:\\users\\jrucs\\anaconda3\\lib\\site-packages (from scikit-learn) (1.20.1)\n",
      "\n",
      "\n",
      "Random Forest : 95.85874143458855 \n",
      "\n",
      "              precision    recall  f1-score   support\n",
      "\n",
      "           0       0.00      0.00      0.00      1103\n",
      "           1       0.00      0.00      0.00      1532\n",
      "           2       0.96      1.00      0.98     60993\n",
      "\n",
      "    accuracy                           0.96     63628\n",
      "   macro avg       0.32      0.33      0.33     63628\n",
      "weighted avg       0.92      0.96      0.94     63628\n",
      "\n",
      "Precision: 0.959\n",
      "Recall: 0.959\n",
      "F-Measure: 0.959\n"
     ]
    }
   ],
   "source": [
    "# Random Forest Classifier\n",
    "#!pip install scikit-learn\n",
    "#from sklearn.ensemble import _forest as forest\n",
    "from sklearn.ensemble import RandomForestClassifier\n",
    "\n",
    "rf =  RandomForestClassifier(max_depth=3)\n",
    "classifier = rf.fit(X_train,y_train)\n",
    "rf_predicted = rf.predict(X_test)\n",
    "rf_conf_matrix = confusion_matrix(y_test, rf_predicted)           \n",
    "rf_acc_score = accuracy_score(y_test, rf_predicted)\n",
    "print(\"\\n\")\n",
    "\n",
    "score_rf = rf_acc_score*100\n",
    "print(\"Random Forest :\",rf_acc_score*100,'\\n')\n",
    "print(classification_report(y_test,rf_predicted))\n",
    "\n",
    "# calculate precision, recall, F-Measure\n",
    "precision = precision_score(y_test, rf_predicted, labels=[2, 0, 1], average='micro')\n",
    "print('Precision: %.3f' % precision)\n",
    "recall = recall_score(y_test, rf_predicted, labels=[2, 0, 1], average='micro')\n",
    "print('Recall: %.3f' % recall)\n",
    "score = f1_score(y_test, rf_predicted,  average='micro')\n",
    "print('F-Measure: %.3f' % score)"
   ]
  },
  {
   "cell_type": "markdown",
   "id": "25060573",
   "metadata": {},
   "source": [
    "# Build a SQLite for Backend"
   ]
  },
  {
   "cell_type": "code",
   "execution_count": null,
   "id": "24163b38",
   "metadata": {},
   "outputs": [],
   "source": [
    "import sqlite3 as sql\n",
    "\n",
    "# create sql database from csv file\n",
    "dataset = pd.read_csv(\"Dataset_Final.csv\", header=0)\n",
    "db_conn = sql.connect(\"airbnb_dataset.db\")\n",
    "dataset.to_sql(\"airbnb_dataset\", db_conn, if_exists='append', index=False)\n",
    "\n",
    "# test case\n",
    "#austinlisting = pd.read_sql(\"SELECT * FROM airbnb_dataset where id = 5456 LIMIT 5\", db_conn)\n",
    "#print(austinlisting)\n",
    "\n",
    "db_conn.close()"
   ]
  },
  {
   "cell_type": "code",
   "execution_count": null,
   "id": "20205da4",
   "metadata": {},
   "outputs": [],
   "source": [
    "# create primary key\n",
    "db_conn = sql.connect(\"airbnb_dataset.db\")\n",
    "con = db_conn.cursor()\n",
    "\n",
    "con.execute(\n",
    "    \"\"\"CREATE TABLE listing (\n",
    "        id INTEGER, \n",
    "        name TEXT,\n",
    "        location TEXT,\n",
    "        neighbourhood TEXT,\n",
    "        latitude REAL,\n",
    "        longitude REAL,\n",
    "        price REAL,\n",
    "        review_scores REAL,\n",
    "        comments TEXT,\n",
    "        PRIMARY KEY(id)\n",
    "        );\"\"\"\n",
    ")\n",
    "\n",
    "db_conn.close()"
   ]
  }
 ],
 "metadata": {
  "kernelspec": {
   "display_name": "Python 3",
   "language": "python",
   "name": "python3"
  },
  "language_info": {
   "codemirror_mode": {
    "name": "ipython",
    "version": 3
   },
   "file_extension": ".py",
   "mimetype": "text/x-python",
   "name": "python",
   "nbconvert_exporter": "python",
   "pygments_lexer": "ipython3",
   "version": "3.8.8"
  }
 },
 "nbformat": 4,
 "nbformat_minor": 5
}
