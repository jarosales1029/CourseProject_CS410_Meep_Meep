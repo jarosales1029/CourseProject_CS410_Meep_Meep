{
  "nbformat": 4,
  "nbformat_minor": 0,
  "metadata": {
    "colab": {
      "provenance": []
    },
    "kernelspec": {
      "name": "python3",
      "display_name": "Python 3"
    },
    "language_info": {
      "name": "python"
    }
  },
  "cells": [
    {
      "cell_type": "markdown",
      "source": [
        "**Import Library**"
      ],
      "metadata": {
        "id": "cB8cQq0UIIlM"
      }
    },
    {
      "cell_type": "code",
      "execution_count": null,
      "metadata": {
        "colab": {
          "base_uri": "https://localhost:8080/"
        },
        "id": "DBoqvY3Gm57z",
        "outputId": "b79887c5-33b3-4ba1-e7a5-da8b04bab487"
      },
      "outputs": [
        {
          "output_type": "stream",
          "name": "stderr",
          "text": [
            "[nltk_data] Downloading package vader_lexicon to /root/nltk_data...\n",
            "[nltk_data]   Package vader_lexicon is already up-to-date!\n",
            "[nltk_data] Downloading package punkt to /root/nltk_data...\n",
            "[nltk_data]   Package punkt is already up-to-date!\n",
            "[nltk_data] Downloading package stopwords to /root/nltk_data...\n",
            "[nltk_data]   Package stopwords is already up-to-date!\n",
            "[nltk_data] Downloading package vader_lexicon to /root/nltk_data...\n",
            "[nltk_data]   Package vader_lexicon is already up-to-date!\n"
          ]
        }
      ],
      "source": [
        "import pandas as pd\n",
        "import nltk\n",
        "from nltk.corpus import stopwords \n",
        "from nltk.tokenize import word_tokenize \n",
        "from nltk.stem import PorterStemmer\n",
        "stemmer=PorterStemmer()\n",
        "import seaborn as sns\n",
        "nltk.download('vader_lexicon')\n",
        "nltk.download('punkt')\n",
        "nltk.download('stopwords')\n",
        "stop = stopwords.words('english')\n",
        "import seaborn as sns\n",
        "\n",
        "import matplotlib.pyplot as plt\n",
        "nltk.download('vader_lexicon')\n",
        "from sklearn import feature_extraction\n",
        "from sklearn.metrics import confusion_matrix\n",
        "from sklearn import model_selection as ms\n",
        "from sklearn import naive_bayes\n",
        "from sklearn import preprocessing\n",
        "from sklearn.metrics import confusion_matrix\n",
        "import warnings\n",
        "warnings.filterwarnings(\"ignore\")"
      ]
    },
    {
      "cell_type": "markdown",
      "source": [
        "**Import Dataset**"
      ],
      "metadata": {
        "id": "PJl6TOE9INba"
      }
    },
    {
      "cell_type": "code",
      "source": [
        "# Read excel file with sheet name\n",
        "data=pd.read_excel('/content/Test.xlsx',sheet_name=['Sheet1'])\n",
        "# Get DataFrame from Dict\n",
        "df = data .get('Sheet1')"
      ],
      "metadata": {
        "id": "_ZQDphh_n8kM"
      },
      "execution_count": null,
      "outputs": []
    },
    {
      "cell_type": "markdown",
      "source": [
        "**Dataset Info**"
      ],
      "metadata": {
        "id": "q7FQQaNJIQ6E"
      }
    },
    {
      "cell_type": "code",
      "source": [
        "df\n"
      ],
      "metadata": {
        "colab": {
          "base_uri": "https://localhost:8080/",
          "height": 1000
        },
        "id": "zXhJxK6HoVYY",
        "outputId": "bd4d973e-ef8a-424e-8891-b7bed589f1ad"
      },
      "execution_count": null,
      "outputs": [
        {
          "output_type": "execute_result",
          "data": {
            "text/plain": [
              "            id                                               name  \\\n",
              "0         3168                                        TudorStudio   \n",
              "1     30387856     Charismatic 1BR in W. Village w/ Doorman & Gym   \n",
              "2         5506     ** Fort Hill Inn Private! Minutes to center!**   \n",
              "3         6695      Fort Hill Inn *Sunny* 1 bedroom, condo duplex   \n",
              "4         7903         Colorful, modern 2 BR apt shared with host   \n",
              "...        ...                                                ...   \n",
              "5207  24246244                          The Little Green Bungalow   \n",
              "5208  32958841                                      Goodwin Oasis   \n",
              "5209  33013006  Charming and Private Detached Guesthouse in Ea...   \n",
              "5210  34331421   Spacious basement guest suite near airport/dwntn   \n",
              "5211  34388698            *AMAZING View! * Close to EVERYTHING! *   \n",
              "\n",
              "       host_location                             neighbourhood  \\\n",
              "0         Boston, MA      Newton, Massachusetts, United States   \n",
              "1       New York, NY                   New York, United States   \n",
              "2         Boston, MA      Boston, Massachusetts, United States   \n",
              "3         Boston, MA      Boston, Massachusetts, United States   \n",
              "4     Somerville, MA  Somerville, Massachusetts, United States   \n",
              "...              ...                                       ...   \n",
              "5207   Nashville, TN       Nashville, Tennessee, United States   \n",
              "5208   Nashville, TN       Nashville, Tennessee, United States   \n",
              "5209   Nashville, TN       Nashville, Tennessee, United States   \n",
              "5210   Nashville, TN       Nashville, Tennessee, United States   \n",
              "5211   Nashville, TN       Nashville, Tennessee, United States   \n",
              "\n",
              "                    neighbourhood_cleansed   latitude  longitude  price  \\\n",
              "0                                 Brighton  42.351480 -71.193190     99   \n",
              "1     Ward E (councilmember James Solomon)  40.729222 -74.002791    418   \n",
              "2                                  Roxbury  42.328440 -71.095810    149   \n",
              "3                                  Roxbury  42.328020 -71.093870    179   \n",
              "4                              Charlestown  42.390310 -71.093610    116   \n",
              "...                                    ...        ...        ...    ...   \n",
              "5207                            District 7  36.203300 -86.731020    129   \n",
              "5208                           District 29  36.089940 -86.623970    203   \n",
              "5209                            District 8  36.229690 -86.727730     86   \n",
              "5210                           District 15  36.184250 -86.673460    110   \n",
              "5211                           District 21  36.153950 -86.824910    435   \n",
              "\n",
              "      review_scores_value                                            reviews  \n",
              "0                     NaN                                                NaN  \n",
              "1                    1.00  Lots of problems/maintenance ussues with the a...  \n",
              "2                    4.73  I stayed at Terry's for 3 nights. The guest ro...  \n",
              "3                    4.71                                                NaN  \n",
              "4                    4.80                                                NaN  \n",
              "...                   ...                                                ...  \n",
              "5207                 4.99  We were so impressed with the cleanliness of t...  \n",
              "5208                 4.99  The Wildcat Cottage was amazing to stay at! Be...  \n",
              "5209                 4.99  Very clean, even cuter in person than the pict...  \n",
              "5210                 4.99  Beautiful home, incredibly relaxing and enjoya...  \n",
              "5211                 4.99  Cannot say enough good things about our stay a...  \n",
              "\n",
              "[5212 rows x 10 columns]"
            ],
            "text/html": [
              "\n",
              "  <div id=\"df-728c2109-2d13-4cb5-a36b-934b00937c37\">\n",
              "    <div class=\"colab-df-container\">\n",
              "      <div>\n",
              "<style scoped>\n",
              "    .dataframe tbody tr th:only-of-type {\n",
              "        vertical-align: middle;\n",
              "    }\n",
              "\n",
              "    .dataframe tbody tr th {\n",
              "        vertical-align: top;\n",
              "    }\n",
              "\n",
              "    .dataframe thead th {\n",
              "        text-align: right;\n",
              "    }\n",
              "</style>\n",
              "<table border=\"1\" class=\"dataframe\">\n",
              "  <thead>\n",
              "    <tr style=\"text-align: right;\">\n",
              "      <th></th>\n",
              "      <th>id</th>\n",
              "      <th>name</th>\n",
              "      <th>host_location</th>\n",
              "      <th>neighbourhood</th>\n",
              "      <th>neighbourhood_cleansed</th>\n",
              "      <th>latitude</th>\n",
              "      <th>longitude</th>\n",
              "      <th>price</th>\n",
              "      <th>review_scores_value</th>\n",
              "      <th>reviews</th>\n",
              "    </tr>\n",
              "  </thead>\n",
              "  <tbody>\n",
              "    <tr>\n",
              "      <th>0</th>\n",
              "      <td>3168</td>\n",
              "      <td>TudorStudio</td>\n",
              "      <td>Boston, MA</td>\n",
              "      <td>Newton, Massachusetts, United States</td>\n",
              "      <td>Brighton</td>\n",
              "      <td>42.351480</td>\n",
              "      <td>-71.193190</td>\n",
              "      <td>99</td>\n",
              "      <td>NaN</td>\n",
              "      <td>NaN</td>\n",
              "    </tr>\n",
              "    <tr>\n",
              "      <th>1</th>\n",
              "      <td>30387856</td>\n",
              "      <td>Charismatic 1BR in W. Village w/ Doorman &amp; Gym</td>\n",
              "      <td>New York, NY</td>\n",
              "      <td>New York, United States</td>\n",
              "      <td>Ward E (councilmember James Solomon)</td>\n",
              "      <td>40.729222</td>\n",
              "      <td>-74.002791</td>\n",
              "      <td>418</td>\n",
              "      <td>1.00</td>\n",
              "      <td>Lots of problems/maintenance ussues with the a...</td>\n",
              "    </tr>\n",
              "    <tr>\n",
              "      <th>2</th>\n",
              "      <td>5506</td>\n",
              "      <td>** Fort Hill Inn Private! Minutes to center!**</td>\n",
              "      <td>Boston, MA</td>\n",
              "      <td>Boston, Massachusetts, United States</td>\n",
              "      <td>Roxbury</td>\n",
              "      <td>42.328440</td>\n",
              "      <td>-71.095810</td>\n",
              "      <td>149</td>\n",
              "      <td>4.73</td>\n",
              "      <td>I stayed at Terry's for 3 nights. The guest ro...</td>\n",
              "    </tr>\n",
              "    <tr>\n",
              "      <th>3</th>\n",
              "      <td>6695</td>\n",
              "      <td>Fort Hill Inn *Sunny* 1 bedroom, condo duplex</td>\n",
              "      <td>Boston, MA</td>\n",
              "      <td>Boston, Massachusetts, United States</td>\n",
              "      <td>Roxbury</td>\n",
              "      <td>42.328020</td>\n",
              "      <td>-71.093870</td>\n",
              "      <td>179</td>\n",
              "      <td>4.71</td>\n",
              "      <td>NaN</td>\n",
              "    </tr>\n",
              "    <tr>\n",
              "      <th>4</th>\n",
              "      <td>7903</td>\n",
              "      <td>Colorful, modern 2 BR apt shared with host</td>\n",
              "      <td>Somerville, MA</td>\n",
              "      <td>Somerville, Massachusetts, United States</td>\n",
              "      <td>Charlestown</td>\n",
              "      <td>42.390310</td>\n",
              "      <td>-71.093610</td>\n",
              "      <td>116</td>\n",
              "      <td>4.80</td>\n",
              "      <td>NaN</td>\n",
              "    </tr>\n",
              "    <tr>\n",
              "      <th>...</th>\n",
              "      <td>...</td>\n",
              "      <td>...</td>\n",
              "      <td>...</td>\n",
              "      <td>...</td>\n",
              "      <td>...</td>\n",
              "      <td>...</td>\n",
              "      <td>...</td>\n",
              "      <td>...</td>\n",
              "      <td>...</td>\n",
              "      <td>...</td>\n",
              "    </tr>\n",
              "    <tr>\n",
              "      <th>5207</th>\n",
              "      <td>24246244</td>\n",
              "      <td>The Little Green Bungalow</td>\n",
              "      <td>Nashville, TN</td>\n",
              "      <td>Nashville, Tennessee, United States</td>\n",
              "      <td>District 7</td>\n",
              "      <td>36.203300</td>\n",
              "      <td>-86.731020</td>\n",
              "      <td>129</td>\n",
              "      <td>4.99</td>\n",
              "      <td>We were so impressed with the cleanliness of t...</td>\n",
              "    </tr>\n",
              "    <tr>\n",
              "      <th>5208</th>\n",
              "      <td>32958841</td>\n",
              "      <td>Goodwin Oasis</td>\n",
              "      <td>Nashville, TN</td>\n",
              "      <td>Nashville, Tennessee, United States</td>\n",
              "      <td>District 29</td>\n",
              "      <td>36.089940</td>\n",
              "      <td>-86.623970</td>\n",
              "      <td>203</td>\n",
              "      <td>4.99</td>\n",
              "      <td>The Wildcat Cottage was amazing to stay at! Be...</td>\n",
              "    </tr>\n",
              "    <tr>\n",
              "      <th>5209</th>\n",
              "      <td>33013006</td>\n",
              "      <td>Charming and Private Detached Guesthouse in Ea...</td>\n",
              "      <td>Nashville, TN</td>\n",
              "      <td>Nashville, Tennessee, United States</td>\n",
              "      <td>District 8</td>\n",
              "      <td>36.229690</td>\n",
              "      <td>-86.727730</td>\n",
              "      <td>86</td>\n",
              "      <td>4.99</td>\n",
              "      <td>Very clean, even cuter in person than the pict...</td>\n",
              "    </tr>\n",
              "    <tr>\n",
              "      <th>5210</th>\n",
              "      <td>34331421</td>\n",
              "      <td>Spacious basement guest suite near airport/dwntn</td>\n",
              "      <td>Nashville, TN</td>\n",
              "      <td>Nashville, Tennessee, United States</td>\n",
              "      <td>District 15</td>\n",
              "      <td>36.184250</td>\n",
              "      <td>-86.673460</td>\n",
              "      <td>110</td>\n",
              "      <td>4.99</td>\n",
              "      <td>Beautiful home, incredibly relaxing and enjoya...</td>\n",
              "    </tr>\n",
              "    <tr>\n",
              "      <th>5211</th>\n",
              "      <td>34388698</td>\n",
              "      <td>*AMAZING View! * Close to EVERYTHING! *</td>\n",
              "      <td>Nashville, TN</td>\n",
              "      <td>Nashville, Tennessee, United States</td>\n",
              "      <td>District 21</td>\n",
              "      <td>36.153950</td>\n",
              "      <td>-86.824910</td>\n",
              "      <td>435</td>\n",
              "      <td>4.99</td>\n",
              "      <td>Cannot say enough good things about our stay a...</td>\n",
              "    </tr>\n",
              "  </tbody>\n",
              "</table>\n",
              "<p>5212 rows × 10 columns</p>\n",
              "</div>\n",
              "      <button class=\"colab-df-convert\" onclick=\"convertToInteractive('df-728c2109-2d13-4cb5-a36b-934b00937c37')\"\n",
              "              title=\"Convert this dataframe to an interactive table.\"\n",
              "              style=\"display:none;\">\n",
              "        \n",
              "  <svg xmlns=\"http://www.w3.org/2000/svg\" height=\"24px\"viewBox=\"0 0 24 24\"\n",
              "       width=\"24px\">\n",
              "    <path d=\"M0 0h24v24H0V0z\" fill=\"none\"/>\n",
              "    <path d=\"M18.56 5.44l.94 2.06.94-2.06 2.06-.94-2.06-.94-.94-2.06-.94 2.06-2.06.94zm-11 1L8.5 8.5l.94-2.06 2.06-.94-2.06-.94L8.5 2.5l-.94 2.06-2.06.94zm10 10l.94 2.06.94-2.06 2.06-.94-2.06-.94-.94-2.06-.94 2.06-2.06.94z\"/><path d=\"M17.41 7.96l-1.37-1.37c-.4-.4-.92-.59-1.43-.59-.52 0-1.04.2-1.43.59L10.3 9.45l-7.72 7.72c-.78.78-.78 2.05 0 2.83L4 21.41c.39.39.9.59 1.41.59.51 0 1.02-.2 1.41-.59l7.78-7.78 2.81-2.81c.8-.78.8-2.07 0-2.86zM5.41 20L4 18.59l7.72-7.72 1.47 1.35L5.41 20z\"/>\n",
              "  </svg>\n",
              "      </button>\n",
              "      \n",
              "  <style>\n",
              "    .colab-df-container {\n",
              "      display:flex;\n",
              "      flex-wrap:wrap;\n",
              "      gap: 12px;\n",
              "    }\n",
              "\n",
              "    .colab-df-convert {\n",
              "      background-color: #E8F0FE;\n",
              "      border: none;\n",
              "      border-radius: 50%;\n",
              "      cursor: pointer;\n",
              "      display: none;\n",
              "      fill: #1967D2;\n",
              "      height: 32px;\n",
              "      padding: 0 0 0 0;\n",
              "      width: 32px;\n",
              "    }\n",
              "\n",
              "    .colab-df-convert:hover {\n",
              "      background-color: #E2EBFA;\n",
              "      box-shadow: 0px 1px 2px rgba(60, 64, 67, 0.3), 0px 1px 3px 1px rgba(60, 64, 67, 0.15);\n",
              "      fill: #174EA6;\n",
              "    }\n",
              "\n",
              "    [theme=dark] .colab-df-convert {\n",
              "      background-color: #3B4455;\n",
              "      fill: #D2E3FC;\n",
              "    }\n",
              "\n",
              "    [theme=dark] .colab-df-convert:hover {\n",
              "      background-color: #434B5C;\n",
              "      box-shadow: 0px 1px 3px 1px rgba(0, 0, 0, 0.15);\n",
              "      filter: drop-shadow(0px 1px 2px rgba(0, 0, 0, 0.3));\n",
              "      fill: #FFFFFF;\n",
              "    }\n",
              "  </style>\n",
              "\n",
              "      <script>\n",
              "        const buttonEl =\n",
              "          document.querySelector('#df-728c2109-2d13-4cb5-a36b-934b00937c37 button.colab-df-convert');\n",
              "        buttonEl.style.display =\n",
              "          google.colab.kernel.accessAllowed ? 'block' : 'none';\n",
              "\n",
              "        async function convertToInteractive(key) {\n",
              "          const element = document.querySelector('#df-728c2109-2d13-4cb5-a36b-934b00937c37');\n",
              "          const dataTable =\n",
              "            await google.colab.kernel.invokeFunction('convertToInteractive',\n",
              "                                                     [key], {});\n",
              "          if (!dataTable) return;\n",
              "\n",
              "          const docLinkHtml = 'Like what you see? Visit the ' +\n",
              "            '<a target=\"_blank\" href=https://colab.research.google.com/notebooks/data_table.ipynb>data table notebook</a>'\n",
              "            + ' to learn more about interactive tables.';\n",
              "          element.innerHTML = '';\n",
              "          dataTable['output_type'] = 'display_data';\n",
              "          await google.colab.output.renderOutput(dataTable, element);\n",
              "          const docLink = document.createElement('div');\n",
              "          docLink.innerHTML = docLinkHtml;\n",
              "          element.appendChild(docLink);\n",
              "        }\n",
              "      </script>\n",
              "    </div>\n",
              "  </div>\n",
              "  "
            ]
          },
          "metadata": {},
          "execution_count": 20
        }
      ]
    },
    {
      "cell_type": "markdown",
      "source": [
        "**Preprocessing**"
      ],
      "metadata": {
        "id": "v3wGYHjrIWOS"
      }
    },
    {
      "cell_type": "code",
      "source": [
        "df.info()"
      ],
      "metadata": {
        "colab": {
          "base_uri": "https://localhost:8080/"
        },
        "id": "6x8jijrKO0Hg",
        "outputId": "330875b7-3fa9-41aa-b780-5ff4dc1cf70b"
      },
      "execution_count": null,
      "outputs": [
        {
          "output_type": "stream",
          "name": "stdout",
          "text": [
            "<class 'pandas.core.frame.DataFrame'>\n",
            "RangeIndex: 5212 entries, 0 to 5211\n",
            "Data columns (total 10 columns):\n",
            " #   Column                  Non-Null Count  Dtype  \n",
            "---  ------                  --------------  -----  \n",
            " 0   id                      5212 non-null   int64  \n",
            " 1   name                    5209 non-null   object \n",
            " 2   host_location           4505 non-null   object \n",
            " 3   neighbourhood           3453 non-null   object \n",
            " 4   neighbourhood_cleansed  5212 non-null   object \n",
            " 5   latitude                5212 non-null   float64\n",
            " 6   longitude               5212 non-null   float64\n",
            " 7   price                   5212 non-null   int64  \n",
            " 8   review_scores_value     3975 non-null   float64\n",
            " 9   reviews                 79 non-null     object \n",
            "dtypes: float64(3), int64(2), object(5)\n",
            "memory usage: 407.3+ KB\n"
          ]
        }
      ]
    },
    {
      "cell_type": "code",
      "source": [
        " df = df.dropna(subset=['reviews'])"
      ],
      "metadata": {
        "id": "0acEHeIrPBOa"
      },
      "execution_count": null,
      "outputs": []
    },
    {
      "cell_type": "code",
      "source": [
        "df"
      ],
      "metadata": {
        "colab": {
          "base_uri": "https://localhost:8080/",
          "height": 1000
        },
        "id": "ssCmSSRYPV7I",
        "outputId": "11b770cb-585b-41fc-9bd3-17015d006e9e"
      },
      "execution_count": null,
      "outputs": [
        {
          "output_type": "execute_result",
          "data": {
            "text/plain": [
              "            id                                               name  \\\n",
              "1     30387856     Charismatic 1BR in W. Village w/ Doorman & Gym   \n",
              "2         5506     ** Fort Hill Inn Private! Minutes to center!**   \n",
              "183   33607399    FiDi 1BR w/ Roofdeck, Gym & Doorman nr Wall St.   \n",
              "206   34420009  LUX CONDO 15 Min Times Square NYC Organic Smar...   \n",
              "253   46006086  Modern, Clean 1BR in Hudson Exchange w/ Gym + ...   \n",
              "...        ...                                                ...   \n",
              "5207  24246244                          The Little Green Bungalow   \n",
              "5208  32958841                                      Goodwin Oasis   \n",
              "5209  33013006  Charming and Private Detached Guesthouse in Ea...   \n",
              "5210  34331421   Spacious basement guest suite near airport/dwntn   \n",
              "5211  34388698            *AMAZING View! * Close to EVERYTHING! *   \n",
              "\n",
              "      host_location                           neighbourhood  \\\n",
              "1      New York, NY                 New York, United States   \n",
              "2        Boston, MA    Boston, Massachusetts, United States   \n",
              "183    New York, NY                 New York, United States   \n",
              "206             NaN  Jersey City, New Jersey, United States   \n",
              "253             NaN  Jersey City, New Jersey, United States   \n",
              "...             ...                                     ...   \n",
              "5207  Nashville, TN     Nashville, Tennessee, United States   \n",
              "5208  Nashville, TN     Nashville, Tennessee, United States   \n",
              "5209  Nashville, TN     Nashville, Tennessee, United States   \n",
              "5210  Nashville, TN     Nashville, Tennessee, United States   \n",
              "5211  Nashville, TN     Nashville, Tennessee, United States   \n",
              "\n",
              "                           neighbourhood_cleansed   latitude  longitude  \\\n",
              "1            Ward E (councilmember James Solomon)  40.729222 -74.002791   \n",
              "2                                         Roxbury  42.328440 -71.095810   \n",
              "183   Ward F (councilmember Jermaine D. Robinson)  40.705040 -74.008120   \n",
              "206       Ward C (councilmember Richard Boggiano)  40.738130 -74.047990   \n",
              "253          Ward E (councilmember James Solomon)  40.724545 -74.035912   \n",
              "...                                           ...        ...        ...   \n",
              "5207                                   District 7  36.203300 -86.731020   \n",
              "5208                                  District 29  36.089940 -86.623970   \n",
              "5209                                   District 8  36.229690 -86.727730   \n",
              "5210                                  District 15  36.184250 -86.673460   \n",
              "5211                                  District 21  36.153950 -86.824910   \n",
              "\n",
              "      price  review_scores_value  \\\n",
              "1       418                 1.00   \n",
              "2       149                 4.73   \n",
              "183     547                 1.00   \n",
              "206     109                 1.00   \n",
              "253     417                 1.00   \n",
              "...     ...                  ...   \n",
              "5207    129                 4.99   \n",
              "5208    203                 4.99   \n",
              "5209     86                 4.99   \n",
              "5210    110                 4.99   \n",
              "5211    435                 4.99   \n",
              "\n",
              "                                                reviews  \n",
              "1     Lots of problems/maintenance ussues with the a...  \n",
              "2     I stayed at Terry's for 3 nights. The guest ro...  \n",
              "183   This was the worst experience I have had with ...  \n",
              "206   My favorite thing about living here was when I...  \n",
              "253   Terrible experience, waited over 3 hours with ...  \n",
              "...                                                 ...  \n",
              "5207  We were so impressed with the cleanliness of t...  \n",
              "5208  The Wildcat Cottage was amazing to stay at! Be...  \n",
              "5209  Very clean, even cuter in person than the pict...  \n",
              "5210  Beautiful home, incredibly relaxing and enjoya...  \n",
              "5211  Cannot say enough good things about our stay a...  \n",
              "\n",
              "[79 rows x 10 columns]"
            ],
            "text/html": [
              "\n",
              "  <div id=\"df-c4493ffd-dc7f-41da-99f2-d6931e98331e\">\n",
              "    <div class=\"colab-df-container\">\n",
              "      <div>\n",
              "<style scoped>\n",
              "    .dataframe tbody tr th:only-of-type {\n",
              "        vertical-align: middle;\n",
              "    }\n",
              "\n",
              "    .dataframe tbody tr th {\n",
              "        vertical-align: top;\n",
              "    }\n",
              "\n",
              "    .dataframe thead th {\n",
              "        text-align: right;\n",
              "    }\n",
              "</style>\n",
              "<table border=\"1\" class=\"dataframe\">\n",
              "  <thead>\n",
              "    <tr style=\"text-align: right;\">\n",
              "      <th></th>\n",
              "      <th>id</th>\n",
              "      <th>name</th>\n",
              "      <th>host_location</th>\n",
              "      <th>neighbourhood</th>\n",
              "      <th>neighbourhood_cleansed</th>\n",
              "      <th>latitude</th>\n",
              "      <th>longitude</th>\n",
              "      <th>price</th>\n",
              "      <th>review_scores_value</th>\n",
              "      <th>reviews</th>\n",
              "    </tr>\n",
              "  </thead>\n",
              "  <tbody>\n",
              "    <tr>\n",
              "      <th>1</th>\n",
              "      <td>30387856</td>\n",
              "      <td>Charismatic 1BR in W. Village w/ Doorman &amp; Gym</td>\n",
              "      <td>New York, NY</td>\n",
              "      <td>New York, United States</td>\n",
              "      <td>Ward E (councilmember James Solomon)</td>\n",
              "      <td>40.729222</td>\n",
              "      <td>-74.002791</td>\n",
              "      <td>418</td>\n",
              "      <td>1.00</td>\n",
              "      <td>Lots of problems/maintenance ussues with the a...</td>\n",
              "    </tr>\n",
              "    <tr>\n",
              "      <th>2</th>\n",
              "      <td>5506</td>\n",
              "      <td>** Fort Hill Inn Private! Minutes to center!**</td>\n",
              "      <td>Boston, MA</td>\n",
              "      <td>Boston, Massachusetts, United States</td>\n",
              "      <td>Roxbury</td>\n",
              "      <td>42.328440</td>\n",
              "      <td>-71.095810</td>\n",
              "      <td>149</td>\n",
              "      <td>4.73</td>\n",
              "      <td>I stayed at Terry's for 3 nights. The guest ro...</td>\n",
              "    </tr>\n",
              "    <tr>\n",
              "      <th>183</th>\n",
              "      <td>33607399</td>\n",
              "      <td>FiDi 1BR w/ Roofdeck, Gym &amp; Doorman nr Wall St.</td>\n",
              "      <td>New York, NY</td>\n",
              "      <td>New York, United States</td>\n",
              "      <td>Ward F (councilmember Jermaine D. Robinson)</td>\n",
              "      <td>40.705040</td>\n",
              "      <td>-74.008120</td>\n",
              "      <td>547</td>\n",
              "      <td>1.00</td>\n",
              "      <td>This was the worst experience I have had with ...</td>\n",
              "    </tr>\n",
              "    <tr>\n",
              "      <th>206</th>\n",
              "      <td>34420009</td>\n",
              "      <td>LUX CONDO 15 Min Times Square NYC Organic Smar...</td>\n",
              "      <td>NaN</td>\n",
              "      <td>Jersey City, New Jersey, United States</td>\n",
              "      <td>Ward C (councilmember Richard Boggiano)</td>\n",
              "      <td>40.738130</td>\n",
              "      <td>-74.047990</td>\n",
              "      <td>109</td>\n",
              "      <td>1.00</td>\n",
              "      <td>My favorite thing about living here was when I...</td>\n",
              "    </tr>\n",
              "    <tr>\n",
              "      <th>253</th>\n",
              "      <td>46006086</td>\n",
              "      <td>Modern, Clean 1BR in Hudson Exchange w/ Gym + ...</td>\n",
              "      <td>NaN</td>\n",
              "      <td>Jersey City, New Jersey, United States</td>\n",
              "      <td>Ward E (councilmember James Solomon)</td>\n",
              "      <td>40.724545</td>\n",
              "      <td>-74.035912</td>\n",
              "      <td>417</td>\n",
              "      <td>1.00</td>\n",
              "      <td>Terrible experience, waited over 3 hours with ...</td>\n",
              "    </tr>\n",
              "    <tr>\n",
              "      <th>...</th>\n",
              "      <td>...</td>\n",
              "      <td>...</td>\n",
              "      <td>...</td>\n",
              "      <td>...</td>\n",
              "      <td>...</td>\n",
              "      <td>...</td>\n",
              "      <td>...</td>\n",
              "      <td>...</td>\n",
              "      <td>...</td>\n",
              "      <td>...</td>\n",
              "    </tr>\n",
              "    <tr>\n",
              "      <th>5207</th>\n",
              "      <td>24246244</td>\n",
              "      <td>The Little Green Bungalow</td>\n",
              "      <td>Nashville, TN</td>\n",
              "      <td>Nashville, Tennessee, United States</td>\n",
              "      <td>District 7</td>\n",
              "      <td>36.203300</td>\n",
              "      <td>-86.731020</td>\n",
              "      <td>129</td>\n",
              "      <td>4.99</td>\n",
              "      <td>We were so impressed with the cleanliness of t...</td>\n",
              "    </tr>\n",
              "    <tr>\n",
              "      <th>5208</th>\n",
              "      <td>32958841</td>\n",
              "      <td>Goodwin Oasis</td>\n",
              "      <td>Nashville, TN</td>\n",
              "      <td>Nashville, Tennessee, United States</td>\n",
              "      <td>District 29</td>\n",
              "      <td>36.089940</td>\n",
              "      <td>-86.623970</td>\n",
              "      <td>203</td>\n",
              "      <td>4.99</td>\n",
              "      <td>The Wildcat Cottage was amazing to stay at! Be...</td>\n",
              "    </tr>\n",
              "    <tr>\n",
              "      <th>5209</th>\n",
              "      <td>33013006</td>\n",
              "      <td>Charming and Private Detached Guesthouse in Ea...</td>\n",
              "      <td>Nashville, TN</td>\n",
              "      <td>Nashville, Tennessee, United States</td>\n",
              "      <td>District 8</td>\n",
              "      <td>36.229690</td>\n",
              "      <td>-86.727730</td>\n",
              "      <td>86</td>\n",
              "      <td>4.99</td>\n",
              "      <td>Very clean, even cuter in person than the pict...</td>\n",
              "    </tr>\n",
              "    <tr>\n",
              "      <th>5210</th>\n",
              "      <td>34331421</td>\n",
              "      <td>Spacious basement guest suite near airport/dwntn</td>\n",
              "      <td>Nashville, TN</td>\n",
              "      <td>Nashville, Tennessee, United States</td>\n",
              "      <td>District 15</td>\n",
              "      <td>36.184250</td>\n",
              "      <td>-86.673460</td>\n",
              "      <td>110</td>\n",
              "      <td>4.99</td>\n",
              "      <td>Beautiful home, incredibly relaxing and enjoya...</td>\n",
              "    </tr>\n",
              "    <tr>\n",
              "      <th>5211</th>\n",
              "      <td>34388698</td>\n",
              "      <td>*AMAZING View! * Close to EVERYTHING! *</td>\n",
              "      <td>Nashville, TN</td>\n",
              "      <td>Nashville, Tennessee, United States</td>\n",
              "      <td>District 21</td>\n",
              "      <td>36.153950</td>\n",
              "      <td>-86.824910</td>\n",
              "      <td>435</td>\n",
              "      <td>4.99</td>\n",
              "      <td>Cannot say enough good things about our stay a...</td>\n",
              "    </tr>\n",
              "  </tbody>\n",
              "</table>\n",
              "<p>79 rows × 10 columns</p>\n",
              "</div>\n",
              "      <button class=\"colab-df-convert\" onclick=\"convertToInteractive('df-c4493ffd-dc7f-41da-99f2-d6931e98331e')\"\n",
              "              title=\"Convert this dataframe to an interactive table.\"\n",
              "              style=\"display:none;\">\n",
              "        \n",
              "  <svg xmlns=\"http://www.w3.org/2000/svg\" height=\"24px\"viewBox=\"0 0 24 24\"\n",
              "       width=\"24px\">\n",
              "    <path d=\"M0 0h24v24H0V0z\" fill=\"none\"/>\n",
              "    <path d=\"M18.56 5.44l.94 2.06.94-2.06 2.06-.94-2.06-.94-.94-2.06-.94 2.06-2.06.94zm-11 1L8.5 8.5l.94-2.06 2.06-.94-2.06-.94L8.5 2.5l-.94 2.06-2.06.94zm10 10l.94 2.06.94-2.06 2.06-.94-2.06-.94-.94-2.06-.94 2.06-2.06.94z\"/><path d=\"M17.41 7.96l-1.37-1.37c-.4-.4-.92-.59-1.43-.59-.52 0-1.04.2-1.43.59L10.3 9.45l-7.72 7.72c-.78.78-.78 2.05 0 2.83L4 21.41c.39.39.9.59 1.41.59.51 0 1.02-.2 1.41-.59l7.78-7.78 2.81-2.81c.8-.78.8-2.07 0-2.86zM5.41 20L4 18.59l7.72-7.72 1.47 1.35L5.41 20z\"/>\n",
              "  </svg>\n",
              "      </button>\n",
              "      \n",
              "  <style>\n",
              "    .colab-df-container {\n",
              "      display:flex;\n",
              "      flex-wrap:wrap;\n",
              "      gap: 12px;\n",
              "    }\n",
              "\n",
              "    .colab-df-convert {\n",
              "      background-color: #E8F0FE;\n",
              "      border: none;\n",
              "      border-radius: 50%;\n",
              "      cursor: pointer;\n",
              "      display: none;\n",
              "      fill: #1967D2;\n",
              "      height: 32px;\n",
              "      padding: 0 0 0 0;\n",
              "      width: 32px;\n",
              "    }\n",
              "\n",
              "    .colab-df-convert:hover {\n",
              "      background-color: #E2EBFA;\n",
              "      box-shadow: 0px 1px 2px rgba(60, 64, 67, 0.3), 0px 1px 3px 1px rgba(60, 64, 67, 0.15);\n",
              "      fill: #174EA6;\n",
              "    }\n",
              "\n",
              "    [theme=dark] .colab-df-convert {\n",
              "      background-color: #3B4455;\n",
              "      fill: #D2E3FC;\n",
              "    }\n",
              "\n",
              "    [theme=dark] .colab-df-convert:hover {\n",
              "      background-color: #434B5C;\n",
              "      box-shadow: 0px 1px 3px 1px rgba(0, 0, 0, 0.15);\n",
              "      filter: drop-shadow(0px 1px 2px rgba(0, 0, 0, 0.3));\n",
              "      fill: #FFFFFF;\n",
              "    }\n",
              "  </style>\n",
              "\n",
              "      <script>\n",
              "        const buttonEl =\n",
              "          document.querySelector('#df-c4493ffd-dc7f-41da-99f2-d6931e98331e button.colab-df-convert');\n",
              "        buttonEl.style.display =\n",
              "          google.colab.kernel.accessAllowed ? 'block' : 'none';\n",
              "\n",
              "        async function convertToInteractive(key) {\n",
              "          const element = document.querySelector('#df-c4493ffd-dc7f-41da-99f2-d6931e98331e');\n",
              "          const dataTable =\n",
              "            await google.colab.kernel.invokeFunction('convertToInteractive',\n",
              "                                                     [key], {});\n",
              "          if (!dataTable) return;\n",
              "\n",
              "          const docLinkHtml = 'Like what you see? Visit the ' +\n",
              "            '<a target=\"_blank\" href=https://colab.research.google.com/notebooks/data_table.ipynb>data table notebook</a>'\n",
              "            + ' to learn more about interactive tables.';\n",
              "          element.innerHTML = '';\n",
              "          dataTable['output_type'] = 'display_data';\n",
              "          await google.colab.output.renderOutput(dataTable, element);\n",
              "          const docLink = document.createElement('div');\n",
              "          docLink.innerHTML = docLinkHtml;\n",
              "          element.appendChild(docLink);\n",
              "        }\n",
              "      </script>\n",
              "    </div>\n",
              "  </div>\n",
              "  "
            ]
          },
          "metadata": {},
          "execution_count": 23
        }
      ]
    },
    {
      "cell_type": "code",
      "source": [
        "# convert the text to string type\n",
        "df['reviews']=df['reviews'].astype(str)\n",
        "df['reviews']"
      ],
      "metadata": {
        "id": "X51QAcFbosOd",
        "colab": {
          "base_uri": "https://localhost:8080/"
        },
        "outputId": "122680d5-cca5-41e3-adfb-6b57dc4161af"
      },
      "execution_count": null,
      "outputs": [
        {
          "output_type": "execute_result",
          "data": {
            "text/plain": [
              "1       Lots of problems/maintenance ussues with the a...\n",
              "2       I stayed at Terry's for 3 nights. The guest ro...\n",
              "183     This was the worst experience I have had with ...\n",
              "206     My favorite thing about living here was when I...\n",
              "253     Terrible experience, waited over 3 hours with ...\n",
              "                              ...                        \n",
              "5207    We were so impressed with the cleanliness of t...\n",
              "5208    The Wildcat Cottage was amazing to stay at! Be...\n",
              "5209    Very clean, even cuter in person than the pict...\n",
              "5210    Beautiful home, incredibly relaxing and enjoya...\n",
              "5211    Cannot say enough good things about our stay a...\n",
              "Name: reviews, Length: 79, dtype: object"
            ]
          },
          "metadata": {},
          "execution_count": 24
        }
      ]
    },
    {
      "cell_type": "code",
      "source": [
        "#re library for making regex\n",
        "import re\n",
        "\n",
        "#convert the text to lower\n",
        "df['reviews']=df['reviews'].str.lower()\n",
        "\n",
        "# # Proprocessing the data\n",
        "# Code to remove the Hashtags from the reviews\n",
        "df['reviews']=df['reviews'].apply(lambda x:re.sub(r'\\B#\\S+',' ',str(x)))\n",
        "\n",
        "# Code to remove the links from the reviews\n",
        "df['reviews']=df['reviews'].apply(lambda x:re.sub(r\"http\\S+\", \" \", x))\n",
        "\n",
        "# Code to remove the Special characters from the reviews \n",
        "df['reviews']=df['reviews'].apply(lambda x:' '.join(re.findall(r'\\w+', x)))\n",
        "\n",
        "# Code to substitute the multiple spaces with single spaces\n",
        "df['reviews']=df['reviews'].apply(lambda x:re.sub(r'\\s+', ' ', x, flags=re.I))\n",
        "\n",
        "# Code to remove all the single characters in the reviews\n",
        "df['reviews']=df['reviews'].apply(lambda x:re.sub(r'\\s+[a-zA-Z]\\s+', ' ', x))\n",
        "\n",
        "# Remove the twitter handlers\n",
        "df['reviews']=df['reviews'].apply(lambda x:re.sub('@[^\\s]+',' ',x))\n",
        "\n",
        "# remove html tags\n",
        "clean = re.compile('<.*?>')\n",
        "df['reviews']=df['reviews'].apply(lambda x:re.sub(clean, '', x))\n",
        "    \n",
        "    \n",
        "    \n",
        "df['reviews']\n"
      ],
      "metadata": {
        "colab": {
          "base_uri": "https://localhost:8080/"
        },
        "id": "F_hlnu2EozKU",
        "outputId": "394381d4-b75b-4b87-8eb5-d6d9ab4e380d"
      },
      "execution_count": null,
      "outputs": [
        {
          "output_type": "execute_result",
          "data": {
            "text/plain": [
              "1       lots of problems maintenance ussues with the a...\n",
              "2       i stayed at terry for 3 nights the guest room ...\n",
              "183     this was the worst experience have had with ai...\n",
              "206     my favorite thing about living here was when g...\n",
              "253     terrible experience waited over 3 hours with a...\n",
              "                              ...                        \n",
              "5207    we were so impressed with the cleanliness of t...\n",
              "5208    the wildcat cottage was amazing to stay at bea...\n",
              "5209    very clean even cuter in person than the pictu...\n",
              "5210    beautiful home incredibly relaxing and enjoyab...\n",
              "5211    cannot say enough good things about our stay a...\n",
              "Name: reviews, Length: 79, dtype: object"
            ]
          },
          "metadata": {},
          "execution_count": 25
        }
      ]
    },
    {
      "cell_type": "code",
      "source": [
        "!pip install langdetect"
      ],
      "metadata": {
        "colab": {
          "base_uri": "https://localhost:8080/"
        },
        "id": "axlBjsaqQeLW",
        "outputId": "db2a9619-a31f-45a8-aabb-5aa3f62a6fb1"
      },
      "execution_count": null,
      "outputs": [
        {
          "output_type": "stream",
          "name": "stdout",
          "text": [
            "Looking in indexes: https://pypi.org/simple, https://us-python.pkg.dev/colab-wheels/public/simple/\n",
            "Requirement already satisfied: langdetect in /usr/local/lib/python3.7/dist-packages (1.0.9)\n",
            "Requirement already satisfied: six in /usr/local/lib/python3.7/dist-packages (from langdetect) (1.15.0)\n"
          ]
        }
      ]
    },
    {
      "cell_type": "code",
      "source": [
        "pip install googletrans"
      ],
      "metadata": {
        "colab": {
          "base_uri": "https://localhost:8080/"
        },
        "id": "QVtzGHozRC_N",
        "outputId": "4d5ddda0-d287-4266-ecdd-108b1fb4158b"
      },
      "execution_count": null,
      "outputs": [
        {
          "output_type": "stream",
          "name": "stdout",
          "text": [
            "Looking in indexes: https://pypi.org/simple, https://us-python.pkg.dev/colab-wheels/public/simple/\n",
            "Requirement already satisfied: googletrans in /usr/local/lib/python3.7/dist-packages (3.0.0)\n",
            "Requirement already satisfied: httpx==0.13.3 in /usr/local/lib/python3.7/dist-packages (from googletrans) (0.13.3)\n",
            "Requirement already satisfied: certifi in /usr/local/lib/python3.7/dist-packages (from httpx==0.13.3->googletrans) (2022.9.24)\n",
            "Requirement already satisfied: chardet==3.* in /usr/local/lib/python3.7/dist-packages (from httpx==0.13.3->googletrans) (3.0.4)\n",
            "Requirement already satisfied: httpcore==0.9.* in /usr/local/lib/python3.7/dist-packages (from httpx==0.13.3->googletrans) (0.9.1)\n",
            "Requirement already satisfied: sniffio in /usr/local/lib/python3.7/dist-packages (from httpx==0.13.3->googletrans) (1.3.0)\n",
            "Requirement already satisfied: idna==2.* in /usr/local/lib/python3.7/dist-packages (from httpx==0.13.3->googletrans) (2.10)\n",
            "Requirement already satisfied: rfc3986<2,>=1.3 in /usr/local/lib/python3.7/dist-packages (from httpx==0.13.3->googletrans) (1.5.0)\n",
            "Requirement already satisfied: hstspreload in /usr/local/lib/python3.7/dist-packages (from httpx==0.13.3->googletrans) (2022.11.1)\n",
            "Requirement already satisfied: h11<0.10,>=0.8 in /usr/local/lib/python3.7/dist-packages (from httpcore==0.9.*->httpx==0.13.3->googletrans) (0.9.0)\n",
            "Requirement already satisfied: h2==3.* in /usr/local/lib/python3.7/dist-packages (from httpcore==0.9.*->httpx==0.13.3->googletrans) (3.2.0)\n",
            "Requirement already satisfied: hpack<4,>=3.0 in /usr/local/lib/python3.7/dist-packages (from h2==3.*->httpcore==0.9.*->httpx==0.13.3->googletrans) (3.0.0)\n",
            "Requirement already satisfied: hyperframe<6,>=5.2.0 in /usr/local/lib/python3.7/dist-packages (from h2==3.*->httpcore==0.9.*->httpx==0.13.3->googletrans) (5.2.0)\n"
          ]
        }
      ]
    },
    {
      "cell_type": "code",
      "source": [
        "from langdetect import detect\n",
        "from googletrans import Translator\n",
        "translator = Translator()"
      ],
      "metadata": {
        "id": "alE80KdxNvHp"
      },
      "execution_count": null,
      "outputs": []
    },
    {
      "cell_type": "code",
      "source": [
        "\n",
        "#defining function to detect language and convert to english if it not in english\n",
        "def detectlan(x):\n",
        "  tex=detect(x)\n",
        "  if(tex!='en'):\n",
        "    translator.translate(x, dest='en')\n",
        "    return x\n",
        "  return x\n",
        "\n",
        "  \n",
        "            \n",
        "   #calling the the function             \n",
        "df['reviews'] = df['reviews'].apply(lambda x: detectlan(x))"
      ],
      "metadata": {
        "id": "60H0DqNYOgbv"
      },
      "execution_count": null,
      "outputs": []
    },
    {
      "cell_type": "code",
      "source": [
        "#seeing the results\n",
        "df['reviews']"
      ],
      "metadata": {
        "colab": {
          "base_uri": "https://localhost:8080/"
        },
        "id": "84_n2eDcRzuP",
        "outputId": "589b280f-6533-4fd7-fff7-ced57bbb8575"
      },
      "execution_count": null,
      "outputs": [
        {
          "output_type": "execute_result",
          "data": {
            "text/plain": [
              "1       lots of problems maintenance ussues with the a...\n",
              "2       i stayed at terry for 3 nights the guest room ...\n",
              "183     this was the worst experience have had with ai...\n",
              "206     my favorite thing about living here was when g...\n",
              "253     terrible experience waited over 3 hours with a...\n",
              "                              ...                        \n",
              "5207    we were so impressed with the cleanliness of t...\n",
              "5208    the wildcat cottage was amazing to stay at bea...\n",
              "5209    very clean even cuter in person than the pictu...\n",
              "5210    beautiful home incredibly relaxing and enjoyab...\n",
              "5211    cannot say enough good things about our stay a...\n",
              "Name: reviews, Length: 79, dtype: object"
            ]
          },
          "metadata": {},
          "execution_count": 30
        }
      ]
    },
    {
      "cell_type": "markdown",
      "source": [
        "**Stop Word Remove**"
      ],
      "metadata": {
        "id": "8n96lsHLIemM"
      }
    },
    {
      "cell_type": "code",
      "source": [
        "\n",
        "#toknize the reviews to word token\n",
        "df['reviews']=df['reviews'].apply(word_tokenize)\n",
        "\n",
        "#remove stop words from the tokens\n",
        "df['reviews'] = df['reviews'].apply(lambda x: ' '.join([item for item in x if item not in stop]))\n",
        "df['reviews'] "
      ],
      "metadata": {
        "id": "MA-o0J8co7_l",
        "colab": {
          "base_uri": "https://localhost:8080/"
        },
        "outputId": "4b962cbe-34f8-4a62-e37e-5d8ee68f46e7"
      },
      "execution_count": null,
      "outputs": [
        {
          "output_type": "execute_result",
          "data": {
            "text/plain": [
              "1       lots problems maintenance ussues apartment mov...\n",
              "2       stayed terry 3 nights guest room great clean e...\n",
              "183     worst experience airbnb br br blueground horri...\n",
              "206     favorite thing living got check absolutely ter...\n",
              "253     terrible experience waited 3 hours baggage che...\n",
              "                              ...                        \n",
              "5207    impressed cleanliness house inside decorations...\n",
              "5208    wildcat cottage amazing stay beautiful decor f...\n",
              "5209    clean even cuter person pictures convenient do...\n",
              "5210    beautiful home incredibly relaxing enjoyable i...\n",
              "5211    say enough good things stay wildcat cottage as...\n",
              "Name: reviews, Length: 79, dtype: object"
            ]
          },
          "metadata": {},
          "execution_count": 31
        }
      ]
    },
    {
      "cell_type": "code",
      "source": [],
      "metadata": {
        "id": "Ga8LfCWCR3Xc"
      },
      "execution_count": null,
      "outputs": []
    },
    {
      "cell_type": "code",
      "source": [
        "data=df[['reviews']]"
      ],
      "metadata": {
        "id": "SGLbigT7DyQz"
      },
      "execution_count": null,
      "outputs": []
    },
    {
      "cell_type": "markdown",
      "metadata": {
        "id": "CM7gRyLCXxNT"
      },
      "source": [
        "<div style=\"color:white;\n",
        "           display:fill;\n",
        "           border-radius:5px;\n",
        "           background-color:#EA570E;\n",
        "           font-size:110%;\n",
        "           font-family:Verdana;\n",
        "           letter-spacing:0.5px\">\n",
        "\n",
        "<h1 style=\"padding: 10px;\n",
        "              color:white;\">\n",
        "    <center>Vader Sentiment Analysis</center>\n",
        "</h1>\n",
        "</div>"
      ]
    },
    {
      "cell_type": "markdown",
      "source": [
        "<blockquote><h1 style=\" color:#159364; font-family:verdana;\">🕵️ What is Vader ?</h1></blockquote>\n",
        "\n",
        "<div class=\"alert alert-block alert-info\" style=\"font-size:14px; font-family:verdana; line-height: 1.7em;\">\n",
        "📌 &nbsp;VADER ( Valence Aware Dictionary for Sentiment Reasoning) is a model used for text sentiment analysis that is sensitive to both polarity (positive/negative) and intensity (strength) of emotion.\n",
        "</div>"
      ],
      "metadata": {
        "id": "DhDdvkdCHmXd"
      }
    },
    {
      "cell_type": "markdown",
      "source": [
        "<blockquote><h1 style=\" color:#159364; font-family:verdana;\">🕵️ How does vader work ?</h1></blockquote>\n",
        "\n",
        "<div class=\"alert alert-block alert-info\" style=\"font-size:14px; font-family:verdana; line-height: 1.7em;\">\n",
        "📌 &nbsp;VADER belongs to a type of sentiment analysis that is based on lexicons of sentiment-related words. In this approach, each of the words in the lexicon is rated as to whether it is positive or negative, and in many cases, how positive or negative it is .\n",
        "</div>"
      ],
      "metadata": {
        "id": "LhuUySd7HpCu"
      }
    },
    {
      "cell_type": "markdown",
      "source": [
        "<blockquote><h1 style=\" color:#159364; font-family:verdana;\">🕵️ What is Compound Score in Vader Sentiment Analysis ?</h1></blockquote>\n",
        "\n",
        "<div class=\"alert alert-block alert-info\" style=\"font-size:14px; font-family:verdana; line-height: 1.7em;\">\n",
        "📌 &nbsp;The Compound score is a metric that calculates the sum of all the lexicon ratings which have been normalized between -1(most extreme negative) and +1 (most extreme positive).\n",
        "</div>"
      ],
      "metadata": {
        "id": "3Q-myBjVHrBn"
      }
    },
    {
      "cell_type": "markdown",
      "source": [
        "<blockquote><h1 style=\" color:#159364; font-family:verdana;\">🕵️ What is polarity in Vader Sentiment Analysis ?</h1></blockquote>\n",
        "\n",
        "<div class=\"alert alert-block alert-info\" style=\"font-size:14px; font-family:verdana; line-height: 1.7em;\">\n",
        "📌 &nbsp;The key aspect of sentiment analysis is to analyze a body of text for understanding the opinion expressed by it. Typically, we quantify this sentiment with a positive or negative value, called polarity. The overall sentiment is often inferred as positive, neutral or negative from the sign of the polarity score.\n",
        "</div>"
      ],
      "metadata": {
        "id": "2IEitpDpHwMY"
      }
    },
    {
      "cell_type": "code",
      "source": [
        "from nltk.sentiment.vader import SentimentIntensityAnalyzer as vad\n",
        "# Copying the data into a new dataframe called vader\n",
        "vader=data.copy()\n",
        "\n",
        "sentiment=vad()\n",
        "# Making additional columns for sentiment score in the vader dataframe\n",
        "sen=['Positive','Negative','Neutral']\n",
        "sentiments=[sentiment.polarity_scores(i) for i in vader['reviews'].values]\n",
        "vader['Negative Score']=[i['neg'] for i in sentiments]\n",
        "vader['Positive Score']=[i['pos'] for i in sentiments]\n",
        "vader['Neutral Score']=[i['neu'] for i in sentiments]\n",
        "vader['Compound Score']=[i['compound'] for i in sentiments]\n",
        "score=vader['Compound Score'].values\n",
        "t=[]\n",
        "for i in score:\n",
        "    if i >=0.05 :\n",
        "        t.append('Positive')\n",
        "    elif i<=-0.05 :\n",
        "        t.append('Negative')\n",
        "    else:\n",
        "        t.append('Neutral')\n",
        "vader['Overall Sentiment']=t"
      ],
      "metadata": {
        "id": "VJbcAFeRD44y"
      },
      "execution_count": null,
      "outputs": []
    },
    {
      "cell_type": "code",
      "source": [
        "# Having a look at the vader datafram\n",
        "vader.head()"
      ],
      "metadata": {
        "colab": {
          "base_uri": "https://localhost:8080/",
          "height": 354
        },
        "id": "l-wHOC3bEXC9",
        "outputId": "7d5e2ea8-3c18-4f09-a773-aefce11f1a21"
      },
      "execution_count": null,
      "outputs": [
        {
          "output_type": "execute_result",
          "data": {
            "text/plain": [
              "                                               reviews  Negative Score  \\\n",
              "1    lots problems maintenance ussues apartment mov...           0.163   \n",
              "2    stayed terry 3 nights guest room great clean e...           0.000   \n",
              "183  worst experience airbnb br br blueground horri...           0.311   \n",
              "206  favorite thing living got check absolutely ter...           0.072   \n",
              "253  terrible experience waited 3 hours baggage che...           0.259   \n",
              "\n",
              "     Positive Score  Neutral Score  Compound Score Overall Sentiment  \n",
              "1             0.175          0.663          0.0516          Positive  \n",
              "2             0.548          0.452          0.9618          Positive  \n",
              "183           0.071          0.618         -0.9934          Negative  \n",
              "206           0.166          0.763          0.9433          Positive  \n",
              "253           0.187          0.555         -0.5994          Negative  "
            ],
            "text/html": [
              "\n",
              "  <div id=\"df-5ef6ef78-b2fb-42d9-bc56-fc0b1e9625d7\">\n",
              "    <div class=\"colab-df-container\">\n",
              "      <div>\n",
              "<style scoped>\n",
              "    .dataframe tbody tr th:only-of-type {\n",
              "        vertical-align: middle;\n",
              "    }\n",
              "\n",
              "    .dataframe tbody tr th {\n",
              "        vertical-align: top;\n",
              "    }\n",
              "\n",
              "    .dataframe thead th {\n",
              "        text-align: right;\n",
              "    }\n",
              "</style>\n",
              "<table border=\"1\" class=\"dataframe\">\n",
              "  <thead>\n",
              "    <tr style=\"text-align: right;\">\n",
              "      <th></th>\n",
              "      <th>reviews</th>\n",
              "      <th>Negative Score</th>\n",
              "      <th>Positive Score</th>\n",
              "      <th>Neutral Score</th>\n",
              "      <th>Compound Score</th>\n",
              "      <th>Overall Sentiment</th>\n",
              "    </tr>\n",
              "  </thead>\n",
              "  <tbody>\n",
              "    <tr>\n",
              "      <th>1</th>\n",
              "      <td>lots problems maintenance ussues apartment mov...</td>\n",
              "      <td>0.163</td>\n",
              "      <td>0.175</td>\n",
              "      <td>0.663</td>\n",
              "      <td>0.0516</td>\n",
              "      <td>Positive</td>\n",
              "    </tr>\n",
              "    <tr>\n",
              "      <th>2</th>\n",
              "      <td>stayed terry 3 nights guest room great clean e...</td>\n",
              "      <td>0.000</td>\n",
              "      <td>0.548</td>\n",
              "      <td>0.452</td>\n",
              "      <td>0.9618</td>\n",
              "      <td>Positive</td>\n",
              "    </tr>\n",
              "    <tr>\n",
              "      <th>183</th>\n",
              "      <td>worst experience airbnb br br blueground horri...</td>\n",
              "      <td>0.311</td>\n",
              "      <td>0.071</td>\n",
              "      <td>0.618</td>\n",
              "      <td>-0.9934</td>\n",
              "      <td>Negative</td>\n",
              "    </tr>\n",
              "    <tr>\n",
              "      <th>206</th>\n",
              "      <td>favorite thing living got check absolutely ter...</td>\n",
              "      <td>0.072</td>\n",
              "      <td>0.166</td>\n",
              "      <td>0.763</td>\n",
              "      <td>0.9433</td>\n",
              "      <td>Positive</td>\n",
              "    </tr>\n",
              "    <tr>\n",
              "      <th>253</th>\n",
              "      <td>terrible experience waited 3 hours baggage che...</td>\n",
              "      <td>0.259</td>\n",
              "      <td>0.187</td>\n",
              "      <td>0.555</td>\n",
              "      <td>-0.5994</td>\n",
              "      <td>Negative</td>\n",
              "    </tr>\n",
              "  </tbody>\n",
              "</table>\n",
              "</div>\n",
              "      <button class=\"colab-df-convert\" onclick=\"convertToInteractive('df-5ef6ef78-b2fb-42d9-bc56-fc0b1e9625d7')\"\n",
              "              title=\"Convert this dataframe to an interactive table.\"\n",
              "              style=\"display:none;\">\n",
              "        \n",
              "  <svg xmlns=\"http://www.w3.org/2000/svg\" height=\"24px\"viewBox=\"0 0 24 24\"\n",
              "       width=\"24px\">\n",
              "    <path d=\"M0 0h24v24H0V0z\" fill=\"none\"/>\n",
              "    <path d=\"M18.56 5.44l.94 2.06.94-2.06 2.06-.94-2.06-.94-.94-2.06-.94 2.06-2.06.94zm-11 1L8.5 8.5l.94-2.06 2.06-.94-2.06-.94L8.5 2.5l-.94 2.06-2.06.94zm10 10l.94 2.06.94-2.06 2.06-.94-2.06-.94-.94-2.06-.94 2.06-2.06.94z\"/><path d=\"M17.41 7.96l-1.37-1.37c-.4-.4-.92-.59-1.43-.59-.52 0-1.04.2-1.43.59L10.3 9.45l-7.72 7.72c-.78.78-.78 2.05 0 2.83L4 21.41c.39.39.9.59 1.41.59.51 0 1.02-.2 1.41-.59l7.78-7.78 2.81-2.81c.8-.78.8-2.07 0-2.86zM5.41 20L4 18.59l7.72-7.72 1.47 1.35L5.41 20z\"/>\n",
              "  </svg>\n",
              "      </button>\n",
              "      \n",
              "  <style>\n",
              "    .colab-df-container {\n",
              "      display:flex;\n",
              "      flex-wrap:wrap;\n",
              "      gap: 12px;\n",
              "    }\n",
              "\n",
              "    .colab-df-convert {\n",
              "      background-color: #E8F0FE;\n",
              "      border: none;\n",
              "      border-radius: 50%;\n",
              "      cursor: pointer;\n",
              "      display: none;\n",
              "      fill: #1967D2;\n",
              "      height: 32px;\n",
              "      padding: 0 0 0 0;\n",
              "      width: 32px;\n",
              "    }\n",
              "\n",
              "    .colab-df-convert:hover {\n",
              "      background-color: #E2EBFA;\n",
              "      box-shadow: 0px 1px 2px rgba(60, 64, 67, 0.3), 0px 1px 3px 1px rgba(60, 64, 67, 0.15);\n",
              "      fill: #174EA6;\n",
              "    }\n",
              "\n",
              "    [theme=dark] .colab-df-convert {\n",
              "      background-color: #3B4455;\n",
              "      fill: #D2E3FC;\n",
              "    }\n",
              "\n",
              "    [theme=dark] .colab-df-convert:hover {\n",
              "      background-color: #434B5C;\n",
              "      box-shadow: 0px 1px 3px 1px rgba(0, 0, 0, 0.15);\n",
              "      filter: drop-shadow(0px 1px 2px rgba(0, 0, 0, 0.3));\n",
              "      fill: #FFFFFF;\n",
              "    }\n",
              "  </style>\n",
              "\n",
              "      <script>\n",
              "        const buttonEl =\n",
              "          document.querySelector('#df-5ef6ef78-b2fb-42d9-bc56-fc0b1e9625d7 button.colab-df-convert');\n",
              "        buttonEl.style.display =\n",
              "          google.colab.kernel.accessAllowed ? 'block' : 'none';\n",
              "\n",
              "        async function convertToInteractive(key) {\n",
              "          const element = document.querySelector('#df-5ef6ef78-b2fb-42d9-bc56-fc0b1e9625d7');\n",
              "          const dataTable =\n",
              "            await google.colab.kernel.invokeFunction('convertToInteractive',\n",
              "                                                     [key], {});\n",
              "          if (!dataTable) return;\n",
              "\n",
              "          const docLinkHtml = 'Like what you see? Visit the ' +\n",
              "            '<a target=\"_blank\" href=https://colab.research.google.com/notebooks/data_table.ipynb>data table notebook</a>'\n",
              "            + ' to learn more about interactive tables.';\n",
              "          element.innerHTML = '';\n",
              "          dataTable['output_type'] = 'display_data';\n",
              "          await google.colab.output.renderOutput(dataTable, element);\n",
              "          const docLink = document.createElement('div');\n",
              "          docLink.innerHTML = docLinkHtml;\n",
              "          element.appendChild(docLink);\n",
              "        }\n",
              "      </script>\n",
              "    </div>\n",
              "  </div>\n",
              "  "
            ]
          },
          "metadata": {},
          "execution_count": 34
        }
      ]
    },
    {
      "cell_type": "code",
      "source": [
        "import seaborn as sns\n",
        "sns.countplot(vader['Overall Sentiment'])"
      ],
      "metadata": {
        "colab": {
          "base_uri": "https://localhost:8080/",
          "height": 296
        },
        "id": "5SaePOOnEaSK",
        "outputId": "9aa1b56e-cc4b-4f34-cc19-cfd8f38915a8"
      },
      "execution_count": null,
      "outputs": [
        {
          "output_type": "execute_result",
          "data": {
            "text/plain": [
              "<matplotlib.axes._subplots.AxesSubplot at 0x7f7381889210>"
            ]
          },
          "metadata": {},
          "execution_count": 35
        },
        {
          "output_type": "display_data",
          "data": {
            "text/plain": [
              "<Figure size 432x288 with 1 Axes>"
            ],
            "image/png": "[encoded data removed]"
          },
          "metadata": {
            "needs_background": "light"
          }
        }
      ]
    },
    {
      "cell_type": "code",
      "source": [
        "explode = [0, 0.1, 0.1]\n",
        "vader[\"Overall Sentiment\"].value_counts().plot.pie(title=\"over all sentiment\",autopct='%1.1f%%', \n",
        "                        explode = explode\n",
        "                                 )"
      ],
      "metadata": {
        "colab": {
          "base_uri": "https://localhost:8080/",
          "height": 281
        },
        "id": "D71HZLssEg2L",
        "outputId": "739adc3c-3995-4dec-c45a-519215f5b29e"
      },
      "execution_count": null,
      "outputs": [
        {
          "output_type": "execute_result",
          "data": {
            "text/plain": [
              "<matplotlib.axes._subplots.AxesSubplot at 0x7f73818e7cd0>"
            ]
          },
          "metadata": {},
          "execution_count": 36
        },
        {
          "output_type": "display_data",
          "data": {
            "text/plain": [
              "<Figure size 432x288 with 1 Axes>"
            ],
            "image/png": "[encoded data removed]"
          },
          "metadata": {}
        }
      ]
    },
    {
      "cell_type": "code",
      "source": [
        "df['overallSentiment']=vader[\"Overall Sentiment\"]"
      ],
      "metadata": {
        "id": "psD3lptFVx8O"
      },
      "execution_count": null,
      "outputs": []
    },
    {
      "cell_type": "code",
      "source": [
        "time_df = df.groupby(['overallSentiment','host_location'])['reviews'].count().reset_index()\n",
        "# time_df=time_df.loc[time_df['Overall Sentiment'] != 'Neutral']\n",
        "plt.figure(figsize=(30,8))\n",
        "sns.barplot(data=time_df,x='host_location',y='reviews',hue='overallSentiment')\n",
        "plt.show()"
      ],
      "metadata": {
        "colab": {
          "base_uri": "https://localhost:8080/",
          "height": 255
        },
        "id": "NkKTs3RcWXen",
        "outputId": "d4e152d6-8a31-4433-a0b8-b8e028b43951"
      },
      "execution_count": null,
      "outputs": [
        {
          "output_type": "display_data",
          "data": {
            "text/plain": [
              "<Figure size 2160x576 with 1 Axes>"
            ],
            "image/png": "[encoded data removed]"
          },
          "metadata": {
            "needs_background": "light"
          }
        }
      ]
    },
    {
      "cell_type": "code",
      "source": [
        "time_df = df.groupby(['overallSentiment','review_scores_value'])['reviews'].count().reset_index()\n",
        "# time_df=time_df.loc[time_df['Overall Sentiment'] != 'Neutral']\n",
        "plt.figure(figsize=(30,8))\n",
        "sns.barplot(data=time_df,x='review_scores_value',y='reviews',hue='overallSentiment')\n",
        "plt.show()"
      ],
      "metadata": {
        "colab": {
          "base_uri": "https://localhost:8080/",
          "height": 256
        },
        "id": "Uo9Z6H-rXgrn",
        "outputId": "cef9354e-c738-4a2a-d140-f38159c878ad"
      },
      "execution_count": null,
      "outputs": [
        {
          "output_type": "display_data",
          "data": {
            "text/plain": [
              "<Figure size 2160x576 with 1 Axes>"
            ],
            "image/png": "[encoded data removed]"
          },
          "metadata": {
            "needs_background": "light"
          }
        }
      ]
    },
    {
      "cell_type": "code",
      "source": [
        "df"
      ],
      "metadata": {
        "colab": {
          "base_uri": "https://localhost:8080/",
          "height": 1000
        },
        "id": "MG6O3hfFV9L0",
        "outputId": "6e9e0101-2f54-499c-8412-24ff9804d992"
      },
      "execution_count": null,
      "outputs": [
        {
          "output_type": "execute_result",
          "data": {
            "text/plain": [
              "            id                                               name  \\\n",
              "1     30387856     Charismatic 1BR in W. Village w/ Doorman & Gym   \n",
              "2         5506     ** Fort Hill Inn Private! Minutes to center!**   \n",
              "183   33607399    FiDi 1BR w/ Roofdeck, Gym & Doorman nr Wall St.   \n",
              "206   34420009  LUX CONDO 15 Min Times Square NYC Organic Smar...   \n",
              "253   46006086  Modern, Clean 1BR in Hudson Exchange w/ Gym + ...   \n",
              "...        ...                                                ...   \n",
              "5207  24246244                          The Little Green Bungalow   \n",
              "5208  32958841                                      Goodwin Oasis   \n",
              "5209  33013006  Charming and Private Detached Guesthouse in Ea...   \n",
              "5210  34331421   Spacious basement guest suite near airport/dwntn   \n",
              "5211  34388698            *AMAZING View! * Close to EVERYTHING! *   \n",
              "\n",
              "      host_location                           neighbourhood  \\\n",
              "1      New York, NY                 New York, United States   \n",
              "2        Boston, MA    Boston, Massachusetts, United States   \n",
              "183    New York, NY                 New York, United States   \n",
              "206             NaN  Jersey City, New Jersey, United States   \n",
              "253             NaN  Jersey City, New Jersey, United States   \n",
              "...             ...                                     ...   \n",
              "5207  Nashville, TN     Nashville, Tennessee, United States   \n",
              "5208  Nashville, TN     Nashville, Tennessee, United States   \n",
              "5209  Nashville, TN     Nashville, Tennessee, United States   \n",
              "5210  Nashville, TN     Nashville, Tennessee, United States   \n",
              "5211  Nashville, TN     Nashville, Tennessee, United States   \n",
              "\n",
              "                           neighbourhood_cleansed   latitude  longitude  \\\n",
              "1            Ward E (councilmember James Solomon)  40.729222 -74.002791   \n",
              "2                                         Roxbury  42.328440 -71.095810   \n",
              "183   Ward F (councilmember Jermaine D. Robinson)  40.705040 -74.008120   \n",
              "206       Ward C (councilmember Richard Boggiano)  40.738130 -74.047990   \n",
              "253          Ward E (councilmember James Solomon)  40.724545 -74.035912   \n",
              "...                                           ...        ...        ...   \n",
              "5207                                   District 7  36.203300 -86.731020   \n",
              "5208                                  District 29  36.089940 -86.623970   \n",
              "5209                                   District 8  36.229690 -86.727730   \n",
              "5210                                  District 15  36.184250 -86.673460   \n",
              "5211                                  District 21  36.153950 -86.824910   \n",
              "\n",
              "      price  review_scores_value  \\\n",
              "1       418                 1.00   \n",
              "2       149                 4.73   \n",
              "183     547                 1.00   \n",
              "206     109                 1.00   \n",
              "253     417                 1.00   \n",
              "...     ...                  ...   \n",
              "5207    129                 4.99   \n",
              "5208    203                 4.99   \n",
              "5209     86                 4.99   \n",
              "5210    110                 4.99   \n",
              "5211    435                 4.99   \n",
              "\n",
              "                                                reviews overallSentiment  \n",
              "1     lots problems maintenance ussues apartment mov...         Positive  \n",
              "2     stayed terry 3 nights guest room great clean e...         Positive  \n",
              "183   worst experience airbnb br br blueground horri...         Negative  \n",
              "206   favorite thing living got check absolutely ter...         Positive  \n",
              "253   terrible experience waited 3 hours baggage che...         Negative  \n",
              "...                                                 ...              ...  \n",
              "5207  impressed cleanliness house inside decorations...         Positive  \n",
              "5208  wildcat cottage amazing stay beautiful decor f...         Positive  \n",
              "5209  clean even cuter person pictures convenient do...         Positive  \n",
              "5210  beautiful home incredibly relaxing enjoyable i...         Positive  \n",
              "5211  say enough good things stay wildcat cottage as...         Positive  \n",
              "\n",
              "[79 rows x 11 columns]"
            ],
            "text/html": [
              "\n",
              "  <div id=\"df-708fb4ed-6fc5-4c50-bdc7-285fc88f6741\">\n",
              "    <div class=\"colab-df-container\">\n",
              "      <div>\n",
              "<style scoped>\n",
              "    .dataframe tbody tr th:only-of-type {\n",
              "        vertical-align: middle;\n",
              "    }\n",
              "\n",
              "    .dataframe tbody tr th {\n",
              "        vertical-align: top;\n",
              "    }\n",
              "\n",
              "    .dataframe thead th {\n",
              "        text-align: right;\n",
              "    }\n",
              "</style>\n",
              "<table border=\"1\" class=\"dataframe\">\n",
              "  <thead>\n",
              "    <tr style=\"text-align: right;\">\n",
              "      <th></th>\n",
              "      <th>id</th>\n",
              "      <th>name</th>\n",
              "      <th>host_location</th>\n",
              "      <th>neighbourhood</th>\n",
              "      <th>neighbourhood_cleansed</th>\n",
              "      <th>latitude</th>\n",
              "      <th>longitude</th>\n",
              "      <th>price</th>\n",
              "      <th>review_scores_value</th>\n",
              "      <th>reviews</th>\n",
              "      <th>overallSentiment</th>\n",
              "    </tr>\n",
              "  </thead>\n",
              "  <tbody>\n",
              "    <tr>\n",
              "      <th>1</th>\n",
              "      <td>30387856</td>\n",
              "      <td>Charismatic 1BR in W. Village w/ Doorman &amp; Gym</td>\n",
              "      <td>New York, NY</td>\n",
              "      <td>New York, United States</td>\n",
              "      <td>Ward E (councilmember James Solomon)</td>\n",
              "      <td>40.729222</td>\n",
              "      <td>-74.002791</td>\n",
              "      <td>418</td>\n",
              "      <td>1.00</td>\n",
              "      <td>lots problems maintenance ussues apartment mov...</td>\n",
              "      <td>Positive</td>\n",
              "    </tr>\n",
              "    <tr>\n",
              "      <th>2</th>\n",
              "      <td>5506</td>\n",
              "      <td>** Fort Hill Inn Private! Minutes to center!**</td>\n",
              "      <td>Boston, MA</td>\n",
              "      <td>Boston, Massachusetts, United States</td>\n",
              "      <td>Roxbury</td>\n",
              "      <td>42.328440</td>\n",
              "      <td>-71.095810</td>\n",
              "      <td>149</td>\n",
              "      <td>4.73</td>\n",
              "      <td>stayed terry 3 nights guest room great clean e...</td>\n",
              "      <td>Positive</td>\n",
              "    </tr>\n",
              "    <tr>\n",
              "      <th>183</th>\n",
              "      <td>33607399</td>\n",
              "      <td>FiDi 1BR w/ Roofdeck, Gym &amp; Doorman nr Wall St.</td>\n",
              "      <td>New York, NY</td>\n",
              "      <td>New York, United States</td>\n",
              "      <td>Ward F (councilmember Jermaine D. Robinson)</td>\n",
              "      <td>40.705040</td>\n",
              "      <td>-74.008120</td>\n",
              "      <td>547</td>\n",
              "      <td>1.00</td>\n",
              "      <td>worst experience airbnb br br blueground horri...</td>\n",
              "      <td>Negative</td>\n",
              "    </tr>\n",
              "    <tr>\n",
              "      <th>206</th>\n",
              "      <td>34420009</td>\n",
              "      <td>LUX CONDO 15 Min Times Square NYC Organic Smar...</td>\n",
              "      <td>NaN</td>\n",
              "      <td>Jersey City, New Jersey, United States</td>\n",
              "      <td>Ward C (councilmember Richard Boggiano)</td>\n",
              "      <td>40.738130</td>\n",
              "      <td>-74.047990</td>\n",
              "      <td>109</td>\n",
              "      <td>1.00</td>\n",
              "      <td>favorite thing living got check absolutely ter...</td>\n",
              "      <td>Positive</td>\n",
              "    </tr>\n",
              "    <tr>\n",
              "      <th>253</th>\n",
              "      <td>46006086</td>\n",
              "      <td>Modern, Clean 1BR in Hudson Exchange w/ Gym + ...</td>\n",
              "      <td>NaN</td>\n",
              "      <td>Jersey City, New Jersey, United States</td>\n",
              "      <td>Ward E (councilmember James Solomon)</td>\n",
              "      <td>40.724545</td>\n",
              "      <td>-74.035912</td>\n",
              "      <td>417</td>\n",
              "      <td>1.00</td>\n",
              "      <td>terrible experience waited 3 hours baggage che...</td>\n",
              "      <td>Negative</td>\n",
              "    </tr>\n",
              "    <tr>\n",
              "      <th>...</th>\n",
              "      <td>...</td>\n",
              "      <td>...</td>\n",
              "      <td>...</td>\n",
              "      <td>...</td>\n",
              "      <td>...</td>\n",
              "      <td>...</td>\n",
              "      <td>...</td>\n",
              "      <td>...</td>\n",
              "      <td>...</td>\n",
              "      <td>...</td>\n",
              "      <td>...</td>\n",
              "    </tr>\n",
              "    <tr>\n",
              "      <th>5207</th>\n",
              "      <td>24246244</td>\n",
              "      <td>The Little Green Bungalow</td>\n",
              "      <td>Nashville, TN</td>\n",
              "      <td>Nashville, Tennessee, United States</td>\n",
              "      <td>District 7</td>\n",
              "      <td>36.203300</td>\n",
              "      <td>-86.731020</td>\n",
              "      <td>129</td>\n",
              "      <td>4.99</td>\n",
              "      <td>impressed cleanliness house inside decorations...</td>\n",
              "      <td>Positive</td>\n",
              "    </tr>\n",
              "    <tr>\n",
              "      <th>5208</th>\n",
              "      <td>32958841</td>\n",
              "      <td>Goodwin Oasis</td>\n",
              "      <td>Nashville, TN</td>\n",
              "      <td>Nashville, Tennessee, United States</td>\n",
              "      <td>District 29</td>\n",
              "      <td>36.089940</td>\n",
              "      <td>-86.623970</td>\n",
              "      <td>203</td>\n",
              "      <td>4.99</td>\n",
              "      <td>wildcat cottage amazing stay beautiful decor f...</td>\n",
              "      <td>Positive</td>\n",
              "    </tr>\n",
              "    <tr>\n",
              "      <th>5209</th>\n",
              "      <td>33013006</td>\n",
              "      <td>Charming and Private Detached Guesthouse in Ea...</td>\n",
              "      <td>Nashville, TN</td>\n",
              "      <td>Nashville, Tennessee, United States</td>\n",
              "      <td>District 8</td>\n",
              "      <td>36.229690</td>\n",
              "      <td>-86.727730</td>\n",
              "      <td>86</td>\n",
              "      <td>4.99</td>\n",
              "      <td>clean even cuter person pictures convenient do...</td>\n",
              "      <td>Positive</td>\n",
              "    </tr>\n",
              "    <tr>\n",
              "      <th>5210</th>\n",
              "      <td>34331421</td>\n",
              "      <td>Spacious basement guest suite near airport/dwntn</td>\n",
              "      <td>Nashville, TN</td>\n",
              "      <td>Nashville, Tennessee, United States</td>\n",
              "      <td>District 15</td>\n",
              "      <td>36.184250</td>\n",
              "      <td>-86.673460</td>\n",
              "      <td>110</td>\n",
              "      <td>4.99</td>\n",
              "      <td>beautiful home incredibly relaxing enjoyable i...</td>\n",
              "      <td>Positive</td>\n",
              "    </tr>\n",
              "    <tr>\n",
              "      <th>5211</th>\n",
              "      <td>34388698</td>\n",
              "      <td>*AMAZING View! * Close to EVERYTHING! *</td>\n",
              "      <td>Nashville, TN</td>\n",
              "      <td>Nashville, Tennessee, United States</td>\n",
              "      <td>District 21</td>\n",
              "      <td>36.153950</td>\n",
              "      <td>-86.824910</td>\n",
              "      <td>435</td>\n",
              "      <td>4.99</td>\n",
              "      <td>say enough good things stay wildcat cottage as...</td>\n",
              "      <td>Positive</td>\n",
              "    </tr>\n",
              "  </tbody>\n",
              "</table>\n",
              "<p>79 rows × 11 columns</p>\n",
              "</div>\n",
              "      <button class=\"colab-df-convert\" onclick=\"convertToInteractive('df-708fb4ed-6fc5-4c50-bdc7-285fc88f6741')\"\n",
              "              title=\"Convert this dataframe to an interactive table.\"\n",
              "              style=\"display:none;\">\n",
              "        \n",
              "  <svg xmlns=\"http://www.w3.org/2000/svg\" height=\"24px\"viewBox=\"0 0 24 24\"\n",
              "       width=\"24px\">\n",
              "    <path d=\"M0 0h24v24H0V0z\" fill=\"none\"/>\n",
              "    <path d=\"M18.56 5.44l.94 2.06.94-2.06 2.06-.94-2.06-.94-.94-2.06-.94 2.06-2.06.94zm-11 1L8.5 8.5l.94-2.06 2.06-.94-2.06-.94L8.5 2.5l-.94 2.06-2.06.94zm10 10l.94 2.06.94-2.06 2.06-.94-2.06-.94-.94-2.06-.94 2.06-2.06.94z\"/><path d=\"M17.41 7.96l-1.37-1.37c-.4-.4-.92-.59-1.43-.59-.52 0-1.04.2-1.43.59L10.3 9.45l-7.72 7.72c-.78.78-.78 2.05 0 2.83L4 21.41c.39.39.9.59 1.41.59.51 0 1.02-.2 1.41-.59l7.78-7.78 2.81-2.81c.8-.78.8-2.07 0-2.86zM5.41 20L4 18.59l7.72-7.72 1.47 1.35L5.41 20z\"/>\n",
              "  </svg>\n",
              "      </button>\n",
              "      \n",
              "  <style>\n",
              "    .colab-df-container {\n",
              "      display:flex;\n",
              "      flex-wrap:wrap;\n",
              "      gap: 12px;\n",
              "    }\n",
              "\n",
              "    .colab-df-convert {\n",
              "      background-color: #E8F0FE;\n",
              "      border: none;\n",
              "      border-radius: 50%;\n",
              "      cursor: pointer;\n",
              "      display: none;\n",
              "      fill: #1967D2;\n",
              "      height: 32px;\n",
              "      padding: 0 0 0 0;\n",
              "      width: 32px;\n",
              "    }\n",
              "\n",
              "    .colab-df-convert:hover {\n",
              "      background-color: #E2EBFA;\n",
              "      box-shadow: 0px 1px 2px rgba(60, 64, 67, 0.3), 0px 1px 3px 1px rgba(60, 64, 67, 0.15);\n",
              "      fill: #174EA6;\n",
              "    }\n",
              "\n",
              "    [theme=dark] .colab-df-convert {\n",
              "      background-color: #3B4455;\n",
              "      fill: #D2E3FC;\n",
              "    }\n",
              "\n",
              "    [theme=dark] .colab-df-convert:hover {\n",
              "      background-color: #434B5C;\n",
              "      box-shadow: 0px 1px 3px 1px rgba(0, 0, 0, 0.15);\n",
              "      filter: drop-shadow(0px 1px 2px rgba(0, 0, 0, 0.3));\n",
              "      fill: #FFFFFF;\n",
              "    }\n",
              "  </style>\n",
              "\n",
              "      <script>\n",
              "        const buttonEl =\n",
              "          document.querySelector('#df-708fb4ed-6fc5-4c50-bdc7-285fc88f6741 button.colab-df-convert');\n",
              "        buttonEl.style.display =\n",
              "          google.colab.kernel.accessAllowed ? 'block' : 'none';\n",
              "\n",
              "        async function convertToInteractive(key) {\n",
              "          const element = document.querySelector('#df-708fb4ed-6fc5-4c50-bdc7-285fc88f6741');\n",
              "          const dataTable =\n",
              "            await google.colab.kernel.invokeFunction('convertToInteractive',\n",
              "                                                     [key], {});\n",
              "          if (!dataTable) return;\n",
              "\n",
              "          const docLinkHtml = 'Like what you see? Visit the ' +\n",
              "            '<a target=\"_blank\" href=https://colab.research.google.com/notebooks/data_table.ipynb>data table notebook</a>'\n",
              "            + ' to learn more about interactive tables.';\n",
              "          element.innerHTML = '';\n",
              "          dataTable['output_type'] = 'display_data';\n",
              "          await google.colab.output.renderOutput(dataTable, element);\n",
              "          const docLink = document.createElement('div');\n",
              "          docLink.innerHTML = docLinkHtml;\n",
              "          element.appendChild(docLink);\n",
              "        }\n",
              "      </script>\n",
              "    </div>\n",
              "  </div>\n",
              "  "
            ]
          },
          "metadata": {},
          "execution_count": 40
        }
      ]
    },
    {
      "cell_type": "markdown",
      "source": [
        "**Text Classification**"
      ],
      "metadata": {
        "id": "VbZOBSoBEkjq"
      }
    },
    {
      "cell_type": "markdown",
      "source": [
        "\n",
        "\n",
        "  **Count Vectorization**"
      ],
      "metadata": {
        "id": "ShLdkxgMH0PH"
      }
    },
    {
      "cell_type": "code",
      "source": [
        "counts = feature_extraction.text.CountVectorizer()\n",
        "X = counts.fit_transform(vader['reviews'].values)\n",
        "X.shape"
      ],
      "metadata": {
        "colab": {
          "base_uri": "https://localhost:8080/"
        },
        "id": "NEMQsCcwEjui",
        "outputId": "96ab2cee-1b98-4fbd-83f8-e6e61b1028ae"
      },
      "execution_count": null,
      "outputs": [
        {
          "output_type": "execute_result",
          "data": {
            "text/plain": [
              "(79, 1438)"
            ]
          },
          "metadata": {},
          "execution_count": 41
        }
      ]
    },
    {
      "cell_type": "code",
      "source": [
        "# Import label encoder\n",
        "from sklearn import preprocessing\n",
        "  \n",
        "# label_encoder object knows how to understand word labels.\n",
        "label_encoder = preprocessing.LabelEncoder()\n",
        "  \n",
        "# Encode labels in column 'species'.\n",
        "vader['Overall Sentiment']= label_encoder.fit_transform(vader['Overall Sentiment'])\n",
        "\n",
        "vader['Overall Sentiment'].unique()"
      ],
      "metadata": {
        "colab": {
          "base_uri": "https://localhost:8080/"
        },
        "id": "Eic3tTHOeG9r",
        "outputId": "6560db53-62f9-4290-843d-e182ebf3b1fe"
      },
      "execution_count": null,
      "outputs": [
        {
          "output_type": "execute_result",
          "data": {
            "text/plain": [
              "array([2, 0, 1])"
            ]
          },
          "metadata": {},
          "execution_count": 42
        }
      ]
    },
    {
      "cell_type": "code",
      "source": [
        "\n",
        "y = vader['Overall Sentiment'].values"
      ],
      "metadata": {
        "id": "45lKBj1jGGwj"
      },
      "execution_count": null,
      "outputs": []
    },
    {
      "cell_type": "markdown",
      "source": [
        "**Train Test Split**"
      ],
      "metadata": {
        "id": "FBkw3GIpH6Z9"
      }
    },
    {
      "cell_type": "code",
      "source": [
        "X_train, X_test, y_train, y_test = ms.train_test_split(X, y, test_size=0.2, random_state=42)"
      ],
      "metadata": {
        "id": "lm8QePYYGOQl"
      },
      "execution_count": null,
      "outputs": []
    },
    {
      "cell_type": "markdown",
      "source": [
        "**MultinomialNB**"
      ],
      "metadata": {
        "id": "NneOELUQH-LY"
      }
    },
    {
      "cell_type": "code",
      "source": [
        "from sklearn.naive_bayes import MultinomialNB\n",
        "from sklearn.metrics import confusion_matrix\n",
        "from sklearn.metrics import accuracy_score\n",
        "from sklearn.metrics import classification_report\n",
        "from sklearn.metrics import precision_score, recall_score, f1_score, accuracy_score\n",
        "m3 = 'MultinomialNB'\n",
        "rf = MultinomialNB()\n",
        "classifier=rf.fit(X_train,y_train)\n",
        "rf_predicted = rf.predict(X_test)\n",
        "rf_conf_matrix = confusion_matrix(y_test, rf_predicted)           \n",
        "rf_acc_score = accuracy_score(y_test, rf_predicted)\n",
        "print(\"\\n\")\n",
        "score_rf=rf_acc_score*100\n",
        "print(\"MultinomialNB accuracy:\",rf_acc_score*100,'\\n')\n",
        "print(classification_report(y_test,rf_predicted))"
      ],
      "metadata": {
        "colab": {
          "base_uri": "https://localhost:8080/"
        },
        "id": "ohuejL7dclFA",
        "outputId": "3ef3f347-a76a-4612-86ef-0fb627a1b758"
      },
      "execution_count": null,
      "outputs": [
        {
          "output_type": "stream",
          "name": "stdout",
          "text": [
            "\n",
            "\n",
            "MultinomialNB accuracy: 62.5 \n",
            "\n",
            "              precision    recall  f1-score   support\n",
            "\n",
            "           0       0.20      0.33      0.25         3\n",
            "           1       0.00      0.00      0.00         1\n",
            "           2       0.82      0.75      0.78        12\n",
            "\n",
            "    accuracy                           0.62        16\n",
            "   macro avg       0.34      0.36      0.34        16\n",
            "weighted avg       0.65      0.62      0.63        16\n",
            "\n"
          ]
        }
      ]
    },
    {
      "cell_type": "code",
      "source": [
        "# calculate prediction\n",
        "precision = precision_score(y_test, rf_predicted, labels=[2, 0, 1], average='micro')\n",
        "print('Precision: %.3f' % precision)"
      ],
      "metadata": {
        "colab": {
          "base_uri": "https://localhost:8080/"
        },
        "id": "DBWYuH7ddq6o",
        "outputId": "aadd3a3d-cf8c-4a50-c85b-c0211ba4f81a"
      },
      "execution_count": null,
      "outputs": [
        {
          "output_type": "stream",
          "name": "stdout",
          "text": [
            "Precision: 0.625\n"
          ]
        }
      ]
    },
    {
      "cell_type": "code",
      "source": [
        "# calculate recall\n",
        "recall = recall_score(y_test, rf_predicted, labels=[2, 0, 1], average='micro')\n",
        "print('Recall: %.3f' % recall)"
      ],
      "metadata": {
        "colab": {
          "base_uri": "https://localhost:8080/"
        },
        "id": "_tbcy_n4dtiJ",
        "outputId": "9d4859a7-ec08-419b-ec2c-4edcfb0b0af6"
      },
      "execution_count": null,
      "outputs": [
        {
          "output_type": "stream",
          "name": "stdout",
          "text": [
            "Recall: 0.625\n"
          ]
        }
      ]
    },
    {
      "cell_type": "code",
      "source": [
        "# calculate score\n",
        "score = f1_score(y_test, rf_predicted,  average='micro')\n",
        "print('F-Measure: %.3f' % score)"
      ],
      "metadata": {
        "colab": {
          "base_uri": "https://localhost:8080/"
        },
        "id": "_dk_-G4vdv7F",
        "outputId": "24bf7f67-c119-4931-b0da-293292b39118"
      },
      "execution_count": null,
      "outputs": [
        {
          "output_type": "stream",
          "name": "stdout",
          "text": [
            "F-Measure: 0.625\n"
          ]
        }
      ]
    },
    {
      "cell_type": "code",
      "source": [
        "# Imports\n",
        "from mlxtend.plotting import plot_confusion_matrix\n",
        "import matplotlib.pyplot as plt\n",
        "\n",
        "figure, ax = plot_confusion_matrix(conf_mat = rf_conf_matrix,\n",
        "                                  #  class_names = classes,\n",
        "                                   show_absolute = False,\n",
        "                                   show_normed = True,\n",
        "                                   colorbar = True)\n",
        "\n",
        "plt.show()"
      ],
      "metadata": {
        "colab": {
          "base_uri": "https://localhost:8080/",
          "height": 283
        },
        "id": "wFKOlk9QgIAa",
        "outputId": "8ef0824a-477b-41ca-9d00-ebbf9e0f68c3"
      },
      "execution_count": null,
      "outputs": [
        {
          "output_type": "display_data",
          "data": {
            "text/plain": [
              "<Figure size 432x288 with 2 Axes>"
            ],
            "image/png": "[encoded data removed]"
          },
          "metadata": {
            "needs_background": "light"
          }
        }
      ]
    },
    {
      "cell_type": "markdown",
      "source": [
        "**SVM**"
      ],
      "metadata": {
        "id": "ucmkEaIShbrL"
      }
    },
    {
      "cell_type": "code",
      "source": [
        "from sklearn import svm\n",
        "\n",
        "m3 = 'SVM'\n",
        "rf =  svm.SVC(decision_function_shape='ovo')\n",
        "classifier=rf.fit(X_train,y_train)\n",
        "rf_predicted = rf.predict(X_test)\n",
        "rf_conf_matrix = confusion_matrix(y_test, rf_predicted)           \n",
        "rf_acc_score = accuracy_score(y_test, rf_predicted)\n",
        "print(\"\\n\")\n",
        "score_rf=rf_acc_score*100\n",
        "print(\"SVM accuarcy:\",rf_acc_score*100,'\\n')\n",
        "print(classification_report(y_test,rf_predicted))"
      ],
      "metadata": {
        "colab": {
          "base_uri": "https://localhost:8080/"
        },
        "id": "cPuHixmvgTIR",
        "outputId": "220a9a42-c783-48c1-c037-ecd10a7b1f74"
      },
      "execution_count": null,
      "outputs": [
        {
          "output_type": "stream",
          "name": "stdout",
          "text": [
            "\n",
            "\n",
            "SVM accuarcy: 75.0 \n",
            "\n",
            "              precision    recall  f1-score   support\n",
            "\n",
            "           0       0.00      0.00      0.00         3\n",
            "           1       0.00      0.00      0.00         1\n",
            "           2       0.75      1.00      0.86        12\n",
            "\n",
            "    accuracy                           0.75        16\n",
            "   macro avg       0.25      0.33      0.29        16\n",
            "weighted avg       0.56      0.75      0.64        16\n",
            "\n"
          ]
        }
      ]
    },
    {
      "cell_type": "markdown",
      "source": [
        "**Confusion Matrix**"
      ],
      "metadata": {
        "id": "Xy8X6OZzheOP"
      }
    },
    {
      "cell_type": "code",
      "source": [
        "# Imports\n",
        "from mlxtend.plotting import plot_confusion_matrix\n",
        "import matplotlib.pyplot as plt\n",
        "\n",
        "figure, ax = plot_confusion_matrix(conf_mat = rf_conf_matrix,\n",
        "                                  #  class_names = classes,\n",
        "                                   show_absolute = False,\n",
        "                                   show_normed = True,\n",
        "                                   colorbar = True)\n",
        "\n",
        "plt.show()"
      ],
      "metadata": {
        "colab": {
          "base_uri": "https://localhost:8080/",
          "height": 283
        },
        "id": "rCs14Q9pgYDO",
        "outputId": "30043023-e1ed-4d0c-9bc0-4efd6a4cdd4f"
      },
      "execution_count": null,
      "outputs": [
        {
          "output_type": "display_data",
          "data": {
            "text/plain": [
              "<Figure size 432x288 with 2 Axes>"
            ],
            "image/png": "[encoded data removed]"
          },
          "metadata": {
            "needs_background": "light"
          }
        }
      ]
    },
    {
      "cell_type": "code",
      "source": [
        "# calculate prediction\n",
        "precision = precision_score(y_test, rf_predicted, labels=[2, 0, 1], average='micro')\n",
        "print('Precision: %.3f' % precision)"
      ],
      "metadata": {
        "colab": {
          "base_uri": "https://localhost:8080/"
        },
        "id": "Lytndm9xgdaK",
        "outputId": "498a73c7-11d7-4ce9-f582-e55ab6e3f07c"
      },
      "execution_count": null,
      "outputs": [
        {
          "output_type": "stream",
          "name": "stdout",
          "text": [
            "Precision: 0.750\n"
          ]
        }
      ]
    },
    {
      "cell_type": "code",
      "source": [
        "# calculate recall\n",
        "recall = recall_score(y_test, rf_predicted, labels=[2, 0, 1], average='micro')\n",
        "print('Recall: %.3f' % recall)"
      ],
      "metadata": {
        "colab": {
          "base_uri": "https://localhost:8080/"
        },
        "id": "cc9NbG38ggMg",
        "outputId": "6ac0d8d2-0c93-42b4-90e7-2d71a72c91ee"
      },
      "execution_count": null,
      "outputs": [
        {
          "output_type": "stream",
          "name": "stdout",
          "text": [
            "Recall: 0.750\n"
          ]
        }
      ]
    },
    {
      "cell_type": "code",
      "source": [
        "# calculate score\n",
        "score = f1_score(y_test, rf_predicted,  average='micro')\n",
        "print('F-Measure: %.3f' % score)"
      ],
      "metadata": {
        "colab": {
          "base_uri": "https://localhost:8080/"
        },
        "id": "akT2j6qxgi35",
        "outputId": "11221258-5b81-45cc-8799-9109a46b0374"
      },
      "execution_count": null,
      "outputs": [
        {
          "output_type": "stream",
          "name": "stdout",
          "text": [
            "F-Measure: 0.750\n"
          ]
        }
      ]
    },
    {
      "cell_type": "markdown",
      "source": [
        "**RandomForestClassifier**"
      ],
      "metadata": {
        "id": "1Uc0ynXthkwY"
      }
    },
    {
      "cell_type": "code",
      "source": [
        "from sklearn.ensemble import RandomForestClassifier\n",
        "\n",
        "\n",
        "rf =  RandomForestClassifier(max_depth=3)\n",
        "classifier=rf.fit(X_train,y_train)\n",
        "rf_predicted = rf.predict(X_test)\n",
        "rf_conf_matrix = confusion_matrix(y_test, rf_predicted)           \n",
        "rf_acc_score = accuracy_score(y_test, rf_predicted)\n",
        "print(\"\\n\")\n",
        "score_rf=rf_acc_score*100\n",
        "print(\"Random Forest :\",rf_acc_score*100,'\\n')\n",
        "print(classification_report(y_test,rf_predicted))"
      ],
      "metadata": {
        "colab": {
          "base_uri": "https://localhost:8080/"
        },
        "id": "s6649Q4FgmBm",
        "outputId": "271003e9-f972-4ab3-a517-4dd73b3862d1"
      },
      "execution_count": null,
      "outputs": [
        {
          "output_type": "stream",
          "name": "stdout",
          "text": [
            "\n",
            "\n",
            "Random Forest : 75.0 \n",
            "\n",
            "              precision    recall  f1-score   support\n",
            "\n",
            "           0       0.00      0.00      0.00         3\n",
            "           1       0.00      0.00      0.00         1\n",
            "           2       0.75      1.00      0.86        12\n",
            "\n",
            "    accuracy                           0.75        16\n",
            "   macro avg       0.25      0.33      0.29        16\n",
            "weighted avg       0.56      0.75      0.64        16\n",
            "\n"
          ]
        }
      ]
    },
    {
      "cell_type": "code",
      "source": [
        "# Imports\n",
        "from mlxtend.plotting import plot_confusion_matrix\n",
        "import matplotlib.pyplot as plt\n",
        "\n",
        "figure, ax = plot_confusion_matrix(conf_mat = rf_conf_matrix,\n",
        "                                  #  class_names = classes,\n",
        "                                   show_absolute = False,\n",
        "                                   show_normed = True,\n",
        "                                   colorbar = True)\n",
        "\n",
        "plt.show()"
      ],
      "metadata": {
        "colab": {
          "base_uri": "https://localhost:8080/",
          "height": 283
        },
        "id": "202EOeEWgqLE",
        "outputId": "addbd9f3-1d04-42bc-d2b2-90bcbe1c22c5"
      },
      "execution_count": null,
      "outputs": [
        {
          "output_type": "display_data",
          "data": {
            "text/plain": [
              "<Figure size 432x288 with 2 Axes>"
            ],
            "image/png": "[encoded data removed]"
          },
          "metadata": {
            "needs_background": "light"
          }
        }
      ]
    },
    {
      "cell_type": "code",
      "source": [
        "# calculate score\n",
        "score = f1_score(y_test, rf_predicted,  average='micro')\n",
        "print('F-Measure: %.3f' % score)"
      ],
      "metadata": {
        "colab": {
          "base_uri": "https://localhost:8080/"
        },
        "id": "ISOCcjQxgxWd",
        "outputId": "17867da5-5eaf-4c3c-e01f-80b3f06b4194"
      },
      "execution_count": null,
      "outputs": [
        {
          "output_type": "stream",
          "name": "stdout",
          "text": [
            "F-Measure: 0.750\n"
          ]
        }
      ]
    },
    {
      "cell_type": "code",
      "source": [
        "# calculate recall\n",
        "recall = recall_score(y_test, rf_predicted, labels=[2, 0, 1], average='micro')\n",
        "print('Recall: %.3f' % recall)"
      ],
      "metadata": {
        "colab": {
          "base_uri": "https://localhost:8080/"
        },
        "id": "UX9NSNU1gy87",
        "outputId": "a3b85b99-d28b-46ad-ddc1-85a8233eeeff"
      },
      "execution_count": null,
      "outputs": [
        {
          "output_type": "stream",
          "name": "stdout",
          "text": [
            "Recall: 0.750\n"
          ]
        }
      ]
    },
    {
      "cell_type": "code",
      "source": [
        "# calculate prediction\n",
        "precision = precision_score(y_test, rf_predicted, labels=[2, 0, 1], average='micro')\n",
        "print('Precision: %.3f' % precision)"
      ],
      "metadata": {
        "colab": {
          "base_uri": "https://localhost:8080/"
        },
        "id": "jRixaUNmg0dJ",
        "outputId": "170855e6-4d1e-4b61-cd16-a6a4008769e6"
      },
      "execution_count": null,
      "outputs": [
        {
          "output_type": "stream",
          "name": "stdout",
          "text": [
            "Precision: 0.750\n"
          ]
        }
      ]
    }
  ]
}