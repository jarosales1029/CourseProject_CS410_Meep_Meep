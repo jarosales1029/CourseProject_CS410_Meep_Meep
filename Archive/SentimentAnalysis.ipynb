{
 "cells": [
  {
   "cell_type": "markdown",
   "id": "d89f2e48",
   "metadata": {},
   "source": [
    "# Importing libraries"
   ]
  },
  {
   "cell_type": "code",
   "execution_count": 1,
   "id": "865becff-0bbd-4f88-9b62-36444267d436",
   "metadata": {},
   "outputs": [
    {
     "name": "stderr",
     "output_type": "stream",
     "text": [
      "[nltk_data] Downloading package vader_lexicon to\n",
      "[nltk_data]     C:\\Users\\Umar\\AppData\\Roaming\\nltk_data...\n",
      "[nltk_data]   Package vader_lexicon is already up-to-date!\n",
      "[nltk_data] Downloading package punkt to\n",
      "[nltk_data]     C:\\Users\\Umar\\AppData\\Roaming\\nltk_data...\n",
      "[nltk_data]   Package punkt is already up-to-date!\n",
      "[nltk_data] Downloading package stopwords to\n",
      "[nltk_data]     C:\\Users\\Umar\\AppData\\Roaming\\nltk_data...\n",
      "[nltk_data]   Package stopwords is already up-to-date!\n",
      "[nltk_data] Downloading package vader_lexicon to\n",
      "[nltk_data]     C:\\Users\\Umar\\AppData\\Roaming\\nltk_data...\n",
      "[nltk_data]   Package vader_lexicon is already up-to-date!\n"
     ]
    }
   ],
   "source": [
    "import pandas as pd\n",
    "import sqlite3 as sql\n",
    "import nltk\n",
    "from nltk.corpus import stopwords \n",
    "from nltk.tokenize import word_tokenize \n",
    "from nltk.stem import PorterStemmer\n",
    "stemmer=PorterStemmer()\n",
    "import seaborn as sns\n",
    "nltk.download('vader_lexicon')\n",
    "nltk.download('punkt')\n",
    "nltk.download('stopwords')\n",
    "stop = stopwords.words('english')\n",
    "import seaborn as sns\n",
    "\n",
    "import matplotlib.pyplot as plt\n",
    "nltk.download('vader_lexicon')\n",
    "from sklearn import feature_extraction\n",
    "from sklearn.metrics import confusion_matrix\n",
    "from sklearn import model_selection as ms\n",
    "from sklearn import naive_bayes\n",
    "from sklearn import preprocessing\n",
    "from sklearn.metrics import confusion_matrix\n",
    "import warnings\n",
    "warnings.filterwarnings(\"ignore\")"
   ]
  },
  {
   "cell_type": "markdown",
   "id": "bf9b3604",
   "metadata": {},
   "source": [
    "## Importing dataset "
   ]
  },
  {
   "cell_type": "code",
   "execution_count": 2,
   "id": "ad89a274-49e6-4991-b81d-49e30804fb0b",
   "metadata": {},
   "outputs": [],
   "source": [
    "# Read excel file with sheet name\n",
    "data=pd.read_excel('C:/Users/Umar/Desktop/Data/Boston/Test.xlsx',sheet_name=['Sheet1'])\n",
    "# Get DataFrame from Dict\n",
    "df = data .get('Sheet1')"
   ]
  },
  {
   "cell_type": "markdown",
   "id": "f7ec4120",
   "metadata": {},
   "source": [
    "# Dataset Info"
   ]
  },
  {
   "cell_type": "code",
   "execution_count": 3,
   "id": "9e11fbc7-4d28-43ba-ab83-81d6dc353da7",
   "metadata": {},
   "outputs": [
    {
     "data": {
      "text/html": [
       "<div>\n",
       "<style scoped>\n",
       "    .dataframe tbody tr th:only-of-type {\n",
       "        vertical-align: middle;\n",
       "    }\n",
       "\n",
       "    .dataframe tbody tr th {\n",
       "        vertical-align: top;\n",
       "    }\n",
       "\n",
       "    .dataframe thead th {\n",
       "        text-align: right;\n",
       "    }\n",
       "</style>\n",
       "<table border=\"1\" class=\"dataframe\">\n",
       "  <thead>\n",
       "    <tr style=\"text-align: right;\">\n",
       "      <th></th>\n",
       "      <th>id</th>\n",
       "      <th>name</th>\n",
       "      <th>host_location</th>\n",
       "      <th>neighbourhood</th>\n",
       "      <th>neighbourhood_cleansed</th>\n",
       "      <th>latitude</th>\n",
       "      <th>longitude</th>\n",
       "      <th>price</th>\n",
       "      <th>review_scores_value</th>\n",
       "      <th>reviews</th>\n",
       "    </tr>\n",
       "  </thead>\n",
       "  <tbody>\n",
       "    <tr>\n",
       "      <th>0</th>\n",
       "      <td>3168</td>\n",
       "      <td>TudorStudio</td>\n",
       "      <td>Boston, MA</td>\n",
       "      <td>Newton, Massachusetts, United States</td>\n",
       "      <td>Brighton</td>\n",
       "      <td>42.351480</td>\n",
       "      <td>-71.193190</td>\n",
       "      <td>99</td>\n",
       "      <td>NaN</td>\n",
       "      <td>NaN</td>\n",
       "    </tr>\n",
       "    <tr>\n",
       "      <th>1</th>\n",
       "      <td>30387856</td>\n",
       "      <td>Charismatic 1BR in W. Village w/ Doorman &amp; Gym</td>\n",
       "      <td>New York, NY</td>\n",
       "      <td>New York, United States</td>\n",
       "      <td>Ward E (councilmember James Solomon)</td>\n",
       "      <td>40.729222</td>\n",
       "      <td>-74.002791</td>\n",
       "      <td>418</td>\n",
       "      <td>1.00</td>\n",
       "      <td>Lots of problems/maintenance ussues with the a...</td>\n",
       "    </tr>\n",
       "    <tr>\n",
       "      <th>2</th>\n",
       "      <td>5506</td>\n",
       "      <td>** Fort Hill Inn Private! Minutes to center!**</td>\n",
       "      <td>Boston, MA</td>\n",
       "      <td>Boston, Massachusetts, United States</td>\n",
       "      <td>Roxbury</td>\n",
       "      <td>42.328440</td>\n",
       "      <td>-71.095810</td>\n",
       "      <td>149</td>\n",
       "      <td>4.73</td>\n",
       "      <td>I stayed at Terry's for 3 nights. The guest ro...</td>\n",
       "    </tr>\n",
       "    <tr>\n",
       "      <th>3</th>\n",
       "      <td>6695</td>\n",
       "      <td>Fort Hill Inn *Sunny* 1 bedroom, condo duplex</td>\n",
       "      <td>Boston, MA</td>\n",
       "      <td>Boston, Massachusetts, United States</td>\n",
       "      <td>Roxbury</td>\n",
       "      <td>42.328020</td>\n",
       "      <td>-71.093870</td>\n",
       "      <td>179</td>\n",
       "      <td>4.71</td>\n",
       "      <td>NaN</td>\n",
       "    </tr>\n",
       "    <tr>\n",
       "      <th>4</th>\n",
       "      <td>7903</td>\n",
       "      <td>Colorful, modern 2 BR apt shared with host</td>\n",
       "      <td>Somerville, MA</td>\n",
       "      <td>Somerville, Massachusetts, United States</td>\n",
       "      <td>Charlestown</td>\n",
       "      <td>42.390310</td>\n",
       "      <td>-71.093610</td>\n",
       "      <td>116</td>\n",
       "      <td>4.80</td>\n",
       "      <td>NaN</td>\n",
       "    </tr>\n",
       "    <tr>\n",
       "      <th>...</th>\n",
       "      <td>...</td>\n",
       "      <td>...</td>\n",
       "      <td>...</td>\n",
       "      <td>...</td>\n",
       "      <td>...</td>\n",
       "      <td>...</td>\n",
       "      <td>...</td>\n",
       "      <td>...</td>\n",
       "      <td>...</td>\n",
       "      <td>...</td>\n",
       "    </tr>\n",
       "    <tr>\n",
       "      <th>5207</th>\n",
       "      <td>24246244</td>\n",
       "      <td>The Little Green Bungalow</td>\n",
       "      <td>Nashville, TN</td>\n",
       "      <td>Nashville, Tennessee, United States</td>\n",
       "      <td>District 7</td>\n",
       "      <td>36.203300</td>\n",
       "      <td>-86.731020</td>\n",
       "      <td>129</td>\n",
       "      <td>4.99</td>\n",
       "      <td>We were so impressed with the cleanliness of t...</td>\n",
       "    </tr>\n",
       "    <tr>\n",
       "      <th>5208</th>\n",
       "      <td>32958841</td>\n",
       "      <td>Goodwin Oasis</td>\n",
       "      <td>Nashville, TN</td>\n",
       "      <td>Nashville, Tennessee, United States</td>\n",
       "      <td>District 29</td>\n",
       "      <td>36.089940</td>\n",
       "      <td>-86.623970</td>\n",
       "      <td>203</td>\n",
       "      <td>4.99</td>\n",
       "      <td>The Wildcat Cottage was amazing to stay at! Be...</td>\n",
       "    </tr>\n",
       "    <tr>\n",
       "      <th>5209</th>\n",
       "      <td>33013006</td>\n",
       "      <td>Charming and Private Detached Guesthouse in Ea...</td>\n",
       "      <td>Nashville, TN</td>\n",
       "      <td>Nashville, Tennessee, United States</td>\n",
       "      <td>District 8</td>\n",
       "      <td>36.229690</td>\n",
       "      <td>-86.727730</td>\n",
       "      <td>86</td>\n",
       "      <td>4.99</td>\n",
       "      <td>Very clean, even cuter in person than the pict...</td>\n",
       "    </tr>\n",
       "    <tr>\n",
       "      <th>5210</th>\n",
       "      <td>34331421</td>\n",
       "      <td>Spacious basement guest suite near airport/dwntn</td>\n",
       "      <td>Nashville, TN</td>\n",
       "      <td>Nashville, Tennessee, United States</td>\n",
       "      <td>District 15</td>\n",
       "      <td>36.184250</td>\n",
       "      <td>-86.673460</td>\n",
       "      <td>110</td>\n",
       "      <td>4.99</td>\n",
       "      <td>Beautiful home, incredibly relaxing and enjoya...</td>\n",
       "    </tr>\n",
       "    <tr>\n",
       "      <th>5211</th>\n",
       "      <td>34388698</td>\n",
       "      <td>*AMAZING View! * Close to EVERYTHING! *</td>\n",
       "      <td>Nashville, TN</td>\n",
       "      <td>Nashville, Tennessee, United States</td>\n",
       "      <td>District 21</td>\n",
       "      <td>36.153950</td>\n",
       "      <td>-86.824910</td>\n",
       "      <td>435</td>\n",
       "      <td>4.99</td>\n",
       "      <td>Cannot say enough good things about our stay a...</td>\n",
       "    </tr>\n",
       "  </tbody>\n",
       "</table>\n",
       "<p>5212 rows × 10 columns</p>\n",
       "</div>"
      ],
      "text/plain": [
       "            id                                               name  \\\n",
       "0         3168                                        TudorStudio   \n",
       "1     30387856     Charismatic 1BR in W. Village w/ Doorman & Gym   \n",
       "2         5506     ** Fort Hill Inn Private! Minutes to center!**   \n",
       "3         6695      Fort Hill Inn *Sunny* 1 bedroom, condo duplex   \n",
       "4         7903         Colorful, modern 2 BR apt shared with host   \n",
       "...        ...                                                ...   \n",
       "5207  24246244                          The Little Green Bungalow   \n",
       "5208  32958841                                      Goodwin Oasis   \n",
       "5209  33013006  Charming and Private Detached Guesthouse in Ea...   \n",
       "5210  34331421   Spacious basement guest suite near airport/dwntn   \n",
       "5211  34388698            *AMAZING View! * Close to EVERYTHING! *   \n",
       "\n",
       "       host_location                             neighbourhood  \\\n",
       "0         Boston, MA      Newton, Massachusetts, United States   \n",
       "1       New York, NY                   New York, United States   \n",
       "2         Boston, MA      Boston, Massachusetts, United States   \n",
       "3         Boston, MA      Boston, Massachusetts, United States   \n",
       "4     Somerville, MA  Somerville, Massachusetts, United States   \n",
       "...              ...                                       ...   \n",
       "5207   Nashville, TN       Nashville, Tennessee, United States   \n",
       "5208   Nashville, TN       Nashville, Tennessee, United States   \n",
       "5209   Nashville, TN       Nashville, Tennessee, United States   \n",
       "5210   Nashville, TN       Nashville, Tennessee, United States   \n",
       "5211   Nashville, TN       Nashville, Tennessee, United States   \n",
       "\n",
       "                    neighbourhood_cleansed   latitude  longitude  price  \\\n",
       "0                                 Brighton  42.351480 -71.193190     99   \n",
       "1     Ward E (councilmember James Solomon)  40.729222 -74.002791    418   \n",
       "2                                  Roxbury  42.328440 -71.095810    149   \n",
       "3                                  Roxbury  42.328020 -71.093870    179   \n",
       "4                              Charlestown  42.390310 -71.093610    116   \n",
       "...                                    ...        ...        ...    ...   \n",
       "5207                            District 7  36.203300 -86.731020    129   \n",
       "5208                           District 29  36.089940 -86.623970    203   \n",
       "5209                            District 8  36.229690 -86.727730     86   \n",
       "5210                           District 15  36.184250 -86.673460    110   \n",
       "5211                           District 21  36.153950 -86.824910    435   \n",
       "\n",
       "      review_scores_value                                            reviews  \n",
       "0                     NaN                                                NaN  \n",
       "1                    1.00  Lots of problems/maintenance ussues with the a...  \n",
       "2                    4.73  I stayed at Terry's for 3 nights. The guest ro...  \n",
       "3                    4.71                                                NaN  \n",
       "4                    4.80                                                NaN  \n",
       "...                   ...                                                ...  \n",
       "5207                 4.99  We were so impressed with the cleanliness of t...  \n",
       "5208                 4.99  The Wildcat Cottage was amazing to stay at! Be...  \n",
       "5209                 4.99  Very clean, even cuter in person than the pict...  \n",
       "5210                 4.99  Beautiful home, incredibly relaxing and enjoya...  \n",
       "5211                 4.99  Cannot say enough good things about our stay a...  \n",
       "\n",
       "[5212 rows x 10 columns]"
      ]
     },
     "execution_count": 3,
     "metadata": {},
     "output_type": "execute_result"
    }
   ],
   "source": [
    "df"
   ]
  },
  {
   "cell_type": "markdown",
   "id": "d89ff8e3",
   "metadata": {},
   "source": [
    "## Preprocessing "
   ]
  },
  {
   "cell_type": "code",
   "execution_count": 4,
   "id": "75f516b8-b75e-4634-9f5f-aeb31b0f7ecc",
   "metadata": {},
   "outputs": [
    {
     "name": "stdout",
     "output_type": "stream",
     "text": [
      "<class 'pandas.core.frame.DataFrame'>\n",
      "RangeIndex: 5212 entries, 0 to 5211\n",
      "Data columns (total 10 columns):\n",
      " #   Column                  Non-Null Count  Dtype  \n",
      "---  ------                  --------------  -----  \n",
      " 0   id                      5212 non-null   int64  \n",
      " 1   name                    5209 non-null   object \n",
      " 2   host_location           4505 non-null   object \n",
      " 3   neighbourhood           3453 non-null   object \n",
      " 4   neighbourhood_cleansed  5212 non-null   object \n",
      " 5   latitude                5212 non-null   float64\n",
      " 6   longitude               5212 non-null   float64\n",
      " 7   price                   5212 non-null   int64  \n",
      " 8   review_scores_value     3975 non-null   float64\n",
      " 9   reviews                 79 non-null     object \n",
      "dtypes: float64(3), int64(2), object(5)\n",
      "memory usage: 407.3+ KB\n"
     ]
    }
   ],
   "source": [
    "df.info()"
   ]
  },
  {
   "cell_type": "code",
   "execution_count": 5,
   "id": "cc7dfbab-dffc-4372-a0d3-55c7dc064d86",
   "metadata": {},
   "outputs": [],
   "source": [
    "df = df.dropna(subset=['reviews'])"
   ]
  },
  {
   "cell_type": "code",
   "execution_count": 6,
   "id": "0d4bd8d8-4d14-4a88-bbe7-f26f6f6b4e4b",
   "metadata": {},
   "outputs": [
    {
     "data": {
      "text/html": [
       "<div>\n",
       "<style scoped>\n",
       "    .dataframe tbody tr th:only-of-type {\n",
       "        vertical-align: middle;\n",
       "    }\n",
       "\n",
       "    .dataframe tbody tr th {\n",
       "        vertical-align: top;\n",
       "    }\n",
       "\n",
       "    .dataframe thead th {\n",
       "        text-align: right;\n",
       "    }\n",
       "</style>\n",
       "<table border=\"1\" class=\"dataframe\">\n",
       "  <thead>\n",
       "    <tr style=\"text-align: right;\">\n",
       "      <th></th>\n",
       "      <th>id</th>\n",
       "      <th>name</th>\n",
       "      <th>host_location</th>\n",
       "      <th>neighbourhood</th>\n",
       "      <th>neighbourhood_cleansed</th>\n",
       "      <th>latitude</th>\n",
       "      <th>longitude</th>\n",
       "      <th>price</th>\n",
       "      <th>review_scores_value</th>\n",
       "      <th>reviews</th>\n",
       "    </tr>\n",
       "  </thead>\n",
       "  <tbody>\n",
       "    <tr>\n",
       "      <th>1</th>\n",
       "      <td>30387856</td>\n",
       "      <td>Charismatic 1BR in W. Village w/ Doorman &amp; Gym</td>\n",
       "      <td>New York, NY</td>\n",
       "      <td>New York, United States</td>\n",
       "      <td>Ward E (councilmember James Solomon)</td>\n",
       "      <td>40.729222</td>\n",
       "      <td>-74.002791</td>\n",
       "      <td>418</td>\n",
       "      <td>1.00</td>\n",
       "      <td>Lots of problems/maintenance ussues with the a...</td>\n",
       "    </tr>\n",
       "    <tr>\n",
       "      <th>2</th>\n",
       "      <td>5506</td>\n",
       "      <td>** Fort Hill Inn Private! Minutes to center!**</td>\n",
       "      <td>Boston, MA</td>\n",
       "      <td>Boston, Massachusetts, United States</td>\n",
       "      <td>Roxbury</td>\n",
       "      <td>42.328440</td>\n",
       "      <td>-71.095810</td>\n",
       "      <td>149</td>\n",
       "      <td>4.73</td>\n",
       "      <td>I stayed at Terry's for 3 nights. The guest ro...</td>\n",
       "    </tr>\n",
       "    <tr>\n",
       "      <th>183</th>\n",
       "      <td>33607399</td>\n",
       "      <td>FiDi 1BR w/ Roofdeck, Gym &amp; Doorman nr Wall St.</td>\n",
       "      <td>New York, NY</td>\n",
       "      <td>New York, United States</td>\n",
       "      <td>Ward F (councilmember Jermaine D. Robinson)</td>\n",
       "      <td>40.705040</td>\n",
       "      <td>-74.008120</td>\n",
       "      <td>547</td>\n",
       "      <td>1.00</td>\n",
       "      <td>This was the worst experience I have had with ...</td>\n",
       "    </tr>\n",
       "    <tr>\n",
       "      <th>206</th>\n",
       "      <td>34420009</td>\n",
       "      <td>LUX CONDO 15 Min Times Square NYC Organic Smar...</td>\n",
       "      <td>NaN</td>\n",
       "      <td>Jersey City, New Jersey, United States</td>\n",
       "      <td>Ward C (councilmember Richard Boggiano)</td>\n",
       "      <td>40.738130</td>\n",
       "      <td>-74.047990</td>\n",
       "      <td>109</td>\n",
       "      <td>1.00</td>\n",
       "      <td>My favorite thing about living here was when I...</td>\n",
       "    </tr>\n",
       "    <tr>\n",
       "      <th>253</th>\n",
       "      <td>46006086</td>\n",
       "      <td>Modern, Clean 1BR in Hudson Exchange w/ Gym + ...</td>\n",
       "      <td>NaN</td>\n",
       "      <td>Jersey City, New Jersey, United States</td>\n",
       "      <td>Ward E (councilmember James Solomon)</td>\n",
       "      <td>40.724545</td>\n",
       "      <td>-74.035912</td>\n",
       "      <td>417</td>\n",
       "      <td>1.00</td>\n",
       "      <td>Terrible experience, waited over 3 hours with ...</td>\n",
       "    </tr>\n",
       "    <tr>\n",
       "      <th>...</th>\n",
       "      <td>...</td>\n",
       "      <td>...</td>\n",
       "      <td>...</td>\n",
       "      <td>...</td>\n",
       "      <td>...</td>\n",
       "      <td>...</td>\n",
       "      <td>...</td>\n",
       "      <td>...</td>\n",
       "      <td>...</td>\n",
       "      <td>...</td>\n",
       "    </tr>\n",
       "    <tr>\n",
       "      <th>5207</th>\n",
       "      <td>24246244</td>\n",
       "      <td>The Little Green Bungalow</td>\n",
       "      <td>Nashville, TN</td>\n",
       "      <td>Nashville, Tennessee, United States</td>\n",
       "      <td>District 7</td>\n",
       "      <td>36.203300</td>\n",
       "      <td>-86.731020</td>\n",
       "      <td>129</td>\n",
       "      <td>4.99</td>\n",
       "      <td>We were so impressed with the cleanliness of t...</td>\n",
       "    </tr>\n",
       "    <tr>\n",
       "      <th>5208</th>\n",
       "      <td>32958841</td>\n",
       "      <td>Goodwin Oasis</td>\n",
       "      <td>Nashville, TN</td>\n",
       "      <td>Nashville, Tennessee, United States</td>\n",
       "      <td>District 29</td>\n",
       "      <td>36.089940</td>\n",
       "      <td>-86.623970</td>\n",
       "      <td>203</td>\n",
       "      <td>4.99</td>\n",
       "      <td>The Wildcat Cottage was amazing to stay at! Be...</td>\n",
       "    </tr>\n",
       "    <tr>\n",
       "      <th>5209</th>\n",
       "      <td>33013006</td>\n",
       "      <td>Charming and Private Detached Guesthouse in Ea...</td>\n",
       "      <td>Nashville, TN</td>\n",
       "      <td>Nashville, Tennessee, United States</td>\n",
       "      <td>District 8</td>\n",
       "      <td>36.229690</td>\n",
       "      <td>-86.727730</td>\n",
       "      <td>86</td>\n",
       "      <td>4.99</td>\n",
       "      <td>Very clean, even cuter in person than the pict...</td>\n",
       "    </tr>\n",
       "    <tr>\n",
       "      <th>5210</th>\n",
       "      <td>34331421</td>\n",
       "      <td>Spacious basement guest suite near airport/dwntn</td>\n",
       "      <td>Nashville, TN</td>\n",
       "      <td>Nashville, Tennessee, United States</td>\n",
       "      <td>District 15</td>\n",
       "      <td>36.184250</td>\n",
       "      <td>-86.673460</td>\n",
       "      <td>110</td>\n",
       "      <td>4.99</td>\n",
       "      <td>Beautiful home, incredibly relaxing and enjoya...</td>\n",
       "    </tr>\n",
       "    <tr>\n",
       "      <th>5211</th>\n",
       "      <td>34388698</td>\n",
       "      <td>*AMAZING View! * Close to EVERYTHING! *</td>\n",
       "      <td>Nashville, TN</td>\n",
       "      <td>Nashville, Tennessee, United States</td>\n",
       "      <td>District 21</td>\n",
       "      <td>36.153950</td>\n",
       "      <td>-86.824910</td>\n",
       "      <td>435</td>\n",
       "      <td>4.99</td>\n",
       "      <td>Cannot say enough good things about our stay a...</td>\n",
       "    </tr>\n",
       "  </tbody>\n",
       "</table>\n",
       "<p>79 rows × 10 columns</p>\n",
       "</div>"
      ],
      "text/plain": [
       "            id                                               name  \\\n",
       "1     30387856     Charismatic 1BR in W. Village w/ Doorman & Gym   \n",
       "2         5506     ** Fort Hill Inn Private! Minutes to center!**   \n",
       "183   33607399    FiDi 1BR w/ Roofdeck, Gym & Doorman nr Wall St.   \n",
       "206   34420009  LUX CONDO 15 Min Times Square NYC Organic Smar...   \n",
       "253   46006086  Modern, Clean 1BR in Hudson Exchange w/ Gym + ...   \n",
       "...        ...                                                ...   \n",
       "5207  24246244                          The Little Green Bungalow   \n",
       "5208  32958841                                      Goodwin Oasis   \n",
       "5209  33013006  Charming and Private Detached Guesthouse in Ea...   \n",
       "5210  34331421   Spacious basement guest suite near airport/dwntn   \n",
       "5211  34388698            *AMAZING View! * Close to EVERYTHING! *   \n",
       "\n",
       "      host_location                           neighbourhood  \\\n",
       "1      New York, NY                 New York, United States   \n",
       "2        Boston, MA    Boston, Massachusetts, United States   \n",
       "183    New York, NY                 New York, United States   \n",
       "206             NaN  Jersey City, New Jersey, United States   \n",
       "253             NaN  Jersey City, New Jersey, United States   \n",
       "...             ...                                     ...   \n",
       "5207  Nashville, TN     Nashville, Tennessee, United States   \n",
       "5208  Nashville, TN     Nashville, Tennessee, United States   \n",
       "5209  Nashville, TN     Nashville, Tennessee, United States   \n",
       "5210  Nashville, TN     Nashville, Tennessee, United States   \n",
       "5211  Nashville, TN     Nashville, Tennessee, United States   \n",
       "\n",
       "                           neighbourhood_cleansed   latitude  longitude  \\\n",
       "1            Ward E (councilmember James Solomon)  40.729222 -74.002791   \n",
       "2                                         Roxbury  42.328440 -71.095810   \n",
       "183   Ward F (councilmember Jermaine D. Robinson)  40.705040 -74.008120   \n",
       "206       Ward C (councilmember Richard Boggiano)  40.738130 -74.047990   \n",
       "253          Ward E (councilmember James Solomon)  40.724545 -74.035912   \n",
       "...                                           ...        ...        ...   \n",
       "5207                                   District 7  36.203300 -86.731020   \n",
       "5208                                  District 29  36.089940 -86.623970   \n",
       "5209                                   District 8  36.229690 -86.727730   \n",
       "5210                                  District 15  36.184250 -86.673460   \n",
       "5211                                  District 21  36.153950 -86.824910   \n",
       "\n",
       "      price  review_scores_value  \\\n",
       "1       418                 1.00   \n",
       "2       149                 4.73   \n",
       "183     547                 1.00   \n",
       "206     109                 1.00   \n",
       "253     417                 1.00   \n",
       "...     ...                  ...   \n",
       "5207    129                 4.99   \n",
       "5208    203                 4.99   \n",
       "5209     86                 4.99   \n",
       "5210    110                 4.99   \n",
       "5211    435                 4.99   \n",
       "\n",
       "                                                reviews  \n",
       "1     Lots of problems/maintenance ussues with the a...  \n",
       "2     I stayed at Terry's for 3 nights. The guest ro...  \n",
       "183   This was the worst experience I have had with ...  \n",
       "206   My favorite thing about living here was when I...  \n",
       "253   Terrible experience, waited over 3 hours with ...  \n",
       "...                                                 ...  \n",
       "5207  We were so impressed with the cleanliness of t...  \n",
       "5208  The Wildcat Cottage was amazing to stay at! Be...  \n",
       "5209  Very clean, even cuter in person than the pict...  \n",
       "5210  Beautiful home, incredibly relaxing and enjoya...  \n",
       "5211  Cannot say enough good things about our stay a...  \n",
       "\n",
       "[79 rows x 10 columns]"
      ]
     },
     "execution_count": 6,
     "metadata": {},
     "output_type": "execute_result"
    }
   ],
   "source": [
    "df"
   ]
  },
  {
   "cell_type": "code",
   "execution_count": 7,
   "id": "11f7ddfb-6fbf-4afa-a510-4a9984c69161",
   "metadata": {},
   "outputs": [],
   "source": [
    "# convert the text to string type\n",
    "df['reviews']=df['reviews'].astype(str)"
   ]
  },
  {
   "cell_type": "code",
   "execution_count": 8,
   "id": "d55275eb-673d-4fe1-ad1f-13be134dce57",
   "metadata": {},
   "outputs": [
    {
     "data": {
      "text/plain": [
       "1       lots of problems maintenance ussues with the a...\n",
       "2       i stayed at terryfor 3 nights the guest room w...\n",
       "183     this was the worst experiencehave had with air...\n",
       "206     my favorite thing about living here was whengo...\n",
       "253     terrible experience waited over 3 hours with a...\n",
       "                              ...                        \n",
       "5207    we were so impressed with the cleanliness of t...\n",
       "5208    the wildcat cottage was amazing to stay at bea...\n",
       "5209    very clean even cuter in person than the pictu...\n",
       "5210    beautiful home incredibly relaxing and enjoyab...\n",
       "5211    cannot say enough good things about our stay a...\n",
       "Name: reviews, Length: 79, dtype: object"
      ]
     },
     "execution_count": 8,
     "metadata": {},
     "output_type": "execute_result"
    }
   ],
   "source": [
    "#re library for making regex\n",
    "import re\n",
    "\n",
    "#convert the text to lower\n",
    "df['reviews']=df['reviews'].str.lower()\n",
    "\n",
    "# # Proprocessing the data\n",
    "# Code to remove the Hashtags from the reviews\n",
    "df['reviews']=df['reviews'].apply(lambda x:re.sub(r'\\B#\\S+','',str(x)))\n",
    "\n",
    "# Code to remove the links from the reviews\n",
    "df['reviews']=df['reviews'].apply(lambda x:re.sub(r\"http\\S+\", \"\", x))\n",
    "\n",
    "# Code to remove the Special characters from the reviews \n",
    "df['reviews']=df['reviews'].apply(lambda x:' '.join(re.findall(r'\\w+', x)))\n",
    "\n",
    "# Code to substitute the multiple spaces with single spaces\n",
    "df['reviews']=df['reviews'].apply(lambda x:re.sub(r'\\s+', ' ', x, flags=re.I))\n",
    "\n",
    "# Code to remove all the single characters in the reviews\n",
    "df['reviews']=df['reviews'].apply(lambda x:re.sub(r'\\s+[a-zA-Z]\\s+', '', x))\n",
    "\n",
    "# Remove the twitter handlers\n",
    "df['reviews']=df['reviews'].apply(lambda x:re.sub('@[^\\s]+','',x))\n",
    "df['reviews']"
   ]
  },
  {
   "cell_type": "markdown",
   "id": "ca9349a9",
   "metadata": {},
   "source": [
    "## Translating reviews into English "
   ]
  },
  {
   "cell_type": "code",
   "execution_count": 9,
   "id": "09c150a1-753b-4d01-94f3-1acfc6ceef59",
   "metadata": {},
   "outputs": [
    {
     "name": "stdout",
     "output_type": "stream",
     "text": [
      "Requirement already satisfied: langdetect in c:\\users\\umar\\anaconda3\\lib\\site-packages (1.0.9)\n",
      "Requirement already satisfied: six in c:\\users\\umar\\anaconda3\\lib\\site-packages (from langdetect) (1.16.0)\n"
     ]
    }
   ],
   "source": [
    "!pip install langdetect"
   ]
  },
  {
   "cell_type": "code",
   "execution_count": 10,
   "id": "f5a50ce3-8878-49c0-94a4-a1be7bbcff2b",
   "metadata": {},
   "outputs": [
    {
     "name": "stdout",
     "output_type": "stream",
     "text": [
      "Requirement already satisfied: googletrans in c:\\users\\umar\\anaconda3\\lib\\site-packages (3.0.0)\n",
      "Requirement already satisfied: httpx==0.13.3 in c:\\users\\umar\\anaconda3\\lib\\site-packages (from googletrans) (0.13.3)\n",
      "Requirement already satisfied: certifi in c:\\users\\umar\\anaconda3\\lib\\site-packages (from httpx==0.13.3->googletrans) (2021.10.8)\n",
      "Requirement already satisfied: rfc3986<2,>=1.3 in c:\\users\\umar\\anaconda3\\lib\\site-packages (from httpx==0.13.3->googletrans) (1.5.0)\n",
      "Requirement already satisfied: chardet==3.* in c:\\users\\umar\\anaconda3\\lib\\site-packages (from httpx==0.13.3->googletrans) (3.0.4)\n",
      "Requirement already satisfied: httpcore==0.9.* in c:\\users\\umar\\anaconda3\\lib\\site-packages (from httpx==0.13.3->googletrans) (0.9.1)\n",
      "Requirement already satisfied: sniffio in c:\\users\\umar\\anaconda3\\lib\\site-packages (from httpx==0.13.3->googletrans) (1.2.0)\n",
      "Requirement already satisfied: hstspreload in c:\\users\\umar\\anaconda3\\lib\\site-packages (from httpx==0.13.3->googletrans) (2022.11.1)\n",
      "Requirement already satisfied: idna==2.* in c:\\users\\umar\\anaconda3\\lib\\site-packages (from httpx==0.13.3->googletrans) (2.10)\n",
      "Requirement already satisfied: h11<0.10,>=0.8 in c:\\users\\umar\\anaconda3\\lib\\site-packages (from httpcore==0.9.*->httpx==0.13.3->googletrans) (0.9.0)\n",
      "Requirement already satisfied: h2==3.* in c:\\users\\umar\\anaconda3\\lib\\site-packages (from httpcore==0.9.*->httpx==0.13.3->googletrans) (3.2.0)\n",
      "Requirement already satisfied: hpack<4,>=3.0 in c:\\users\\umar\\anaconda3\\lib\\site-packages (from h2==3.*->httpcore==0.9.*->httpx==0.13.3->googletrans) (3.0.0)\n",
      "Requirement already satisfied: hyperframe<6,>=5.2.0 in c:\\users\\umar\\anaconda3\\lib\\site-packages (from h2==3.*->httpcore==0.9.*->httpx==0.13.3->googletrans) (5.2.0)\n",
      "Note: you may need to restart the kernel to use updated packages.\n"
     ]
    }
   ],
   "source": [
    "pip install googletrans"
   ]
  },
  {
   "cell_type": "code",
   "execution_count": 11,
   "id": "068e2c9b-5b3a-44c3-863a-f39c71d2995e",
   "metadata": {},
   "outputs": [],
   "source": [
    "from langdetect import detect\n",
    "from googletrans import Translator\n",
    "translator = Translator()"
   ]
  },
  {
   "cell_type": "code",
   "execution_count": 12,
   "id": "49df11e7-1946-45e6-9daf-4003dbb60c2f",
   "metadata": {},
   "outputs": [],
   "source": [
    "#defining function to detect language and convert to english if it not in english\n",
    "def detectlan(x):\n",
    "  tex=detect(x)\n",
    "  if(tex!='en'):\n",
    "    translator.translate(x, dest='en')\n",
    "    return x\n",
    "  return x\n",
    "\n",
    "  \n",
    "            \n",
    "   #calling the the function             \n",
    "df['reviews'] = df['reviews'].apply(lambda x: detectlan(x))"
   ]
  },
  {
   "cell_type": "code",
   "execution_count": 13,
   "id": "eae4f8bc-2303-46e8-a65a-3532cff19af0",
   "metadata": {},
   "outputs": [
    {
     "data": {
      "text/plain": [
       "1       lots of problems maintenance ussues with the a...\n",
       "2       i stayed at terryfor 3 nights the guest room w...\n",
       "183     this was the worst experiencehave had with air...\n",
       "206     my favorite thing about living here was whengo...\n",
       "253     terrible experience waited over 3 hours with a...\n",
       "                              ...                        \n",
       "5207    we were so impressed with the cleanliness of t...\n",
       "5208    the wildcat cottage was amazing to stay at bea...\n",
       "5209    very clean even cuter in person than the pictu...\n",
       "5210    beautiful home incredibly relaxing and enjoyab...\n",
       "5211    cannot say enough good things about our stay a...\n",
       "Name: reviews, Length: 79, dtype: object"
      ]
     },
     "execution_count": 13,
     "metadata": {},
     "output_type": "execute_result"
    }
   ],
   "source": [
    "#seeing the results\n",
    "df['reviews']"
   ]
  },
  {
   "cell_type": "markdown",
   "id": "b6bcbbf3",
   "metadata": {},
   "source": [
    "## Stop Word Removal "
   ]
  },
  {
   "cell_type": "code",
   "execution_count": 14,
   "id": "d5550544-6ef3-441d-939e-7b9eada669c6",
   "metadata": {},
   "outputs": [
    {
     "data": {
      "text/plain": [
       "1       lots problems maintenance ussues apartment mov...\n",
       "2       stayed terryfor 3 nights guest room great clea...\n",
       "183     worst experiencehave airbnb br br blueground h...\n",
       "206     favorite thing living whengot check outhad abs...\n",
       "253     terrible experience waited 3 hours baggage che...\n",
       "                              ...                        \n",
       "5207    impressed cleanliness house inside decorations...\n",
       "5208    wildcat cottage amazing stay beautiful decor f...\n",
       "5209    clean even cuter person pictures convenient do...\n",
       "5210    beautiful home incredibly relaxing enjoyable i...\n",
       "5211    say enough good things stay wildcat cottage as...\n",
       "Name: reviews, Length: 79, dtype: object"
      ]
     },
     "execution_count": 14,
     "metadata": {},
     "output_type": "execute_result"
    }
   ],
   "source": [
    "#toknize the reviews to word token\n",
    "df['reviews']=df['reviews'].apply(word_tokenize)\n",
    "\n",
    "#remove stop words from the tokens\n",
    "df['reviews'] = df['reviews'].apply(lambda x: ' '.join([item for item in x if item not in stop]))\n",
    "df['reviews']"
   ]
  },
  {
   "cell_type": "code",
   "execution_count": 15,
   "id": "94df7600-e99a-43cb-8d3e-0a09abb2cf0f",
   "metadata": {},
   "outputs": [],
   "source": [
    "data=df[['reviews']]"
   ]
  },
  {
   "cell_type": "markdown",
   "id": "88e6bd16",
   "metadata": {},
   "source": [
    "## Vader Sentiment Analysis "
   ]
  },
  {
   "cell_type": "code",
   "execution_count": 16,
   "id": "771b7ce3-9dd0-4396-807b-d66f4edb28cd",
   "metadata": {},
   "outputs": [],
   "source": [
    "from nltk.sentiment.vader import SentimentIntensityAnalyzer as vad\n",
    "# Copying the data into a new dataframe called vader\n",
    "vader=data.copy()\n",
    "\n",
    "sentiment=vad()\n",
    "# Making additional columns for sentiment score in the vader dataframe\n",
    "sen=['Positive','Negative','Neutral']\n",
    "sentiments=[sentiment.polarity_scores(i) for i in vader['reviews'].values]\n",
    "vader['Negative Score']=[i['neg'] for i in sentiments]\n",
    "vader['Positive Score']=[i['pos'] for i in sentiments]\n",
    "vader['Neutral Score']=[i['neu'] for i in sentiments]\n",
    "vader['Compound Score']=[i['compound'] for i in sentiments]\n",
    "score=vader['Compound Score'].values\n",
    "t=[]\n",
    "for i in score:\n",
    "    if i >=0.05 :\n",
    "        t.append('Positive')\n",
    "    elif i<=-0.05 :\n",
    "        t.append('Negative')\n",
    "    else:\n",
    "        t.append('Neutral')\n",
    "vader['Overall Sentiment']=t"
   ]
  },
  {
   "cell_type": "code",
   "execution_count": 17,
   "id": "f2c39298-583f-455c-950a-251e5428a71f",
   "metadata": {},
   "outputs": [
    {
     "data": {
      "text/html": [
       "<div>\n",
       "<style scoped>\n",
       "    .dataframe tbody tr th:only-of-type {\n",
       "        vertical-align: middle;\n",
       "    }\n",
       "\n",
       "    .dataframe tbody tr th {\n",
       "        vertical-align: top;\n",
       "    }\n",
       "\n",
       "    .dataframe thead th {\n",
       "        text-align: right;\n",
       "    }\n",
       "</style>\n",
       "<table border=\"1\" class=\"dataframe\">\n",
       "  <thead>\n",
       "    <tr style=\"text-align: right;\">\n",
       "      <th></th>\n",
       "      <th>reviews</th>\n",
       "      <th>Negative Score</th>\n",
       "      <th>Positive Score</th>\n",
       "      <th>Neutral Score</th>\n",
       "      <th>Compound Score</th>\n",
       "      <th>Overall Sentiment</th>\n",
       "    </tr>\n",
       "  </thead>\n",
       "  <tbody>\n",
       "    <tr>\n",
       "      <th>1</th>\n",
       "      <td>lots problems maintenance ussues apartment mov...</td>\n",
       "      <td>0.163</td>\n",
       "      <td>0.175</td>\n",
       "      <td>0.663</td>\n",
       "      <td>0.0516</td>\n",
       "      <td>Positive</td>\n",
       "    </tr>\n",
       "    <tr>\n",
       "      <th>2</th>\n",
       "      <td>stayed terryfor 3 nights guest room great clea...</td>\n",
       "      <td>0.000</td>\n",
       "      <td>0.563</td>\n",
       "      <td>0.437</td>\n",
       "      <td>0.9618</td>\n",
       "      <td>Positive</td>\n",
       "    </tr>\n",
       "    <tr>\n",
       "      <th>183</th>\n",
       "      <td>worst experiencehave airbnb br br blueground h...</td>\n",
       "      <td>0.311</td>\n",
       "      <td>0.071</td>\n",
       "      <td>0.618</td>\n",
       "      <td>-0.9934</td>\n",
       "      <td>Negative</td>\n",
       "    </tr>\n",
       "    <tr>\n",
       "      <th>206</th>\n",
       "      <td>favorite thing living whengot check outhad abs...</td>\n",
       "      <td>0.070</td>\n",
       "      <td>0.163</td>\n",
       "      <td>0.766</td>\n",
       "      <td>0.9433</td>\n",
       "      <td>Positive</td>\n",
       "    </tr>\n",
       "    <tr>\n",
       "      <th>253</th>\n",
       "      <td>terrible experience waited 3 hours baggage che...</td>\n",
       "      <td>0.259</td>\n",
       "      <td>0.187</td>\n",
       "      <td>0.555</td>\n",
       "      <td>-0.5994</td>\n",
       "      <td>Negative</td>\n",
       "    </tr>\n",
       "  </tbody>\n",
       "</table>\n",
       "</div>"
      ],
      "text/plain": [
       "                                               reviews  Negative Score  \\\n",
       "1    lots problems maintenance ussues apartment mov...           0.163   \n",
       "2    stayed terryfor 3 nights guest room great clea...           0.000   \n",
       "183  worst experiencehave airbnb br br blueground h...           0.311   \n",
       "206  favorite thing living whengot check outhad abs...           0.070   \n",
       "253  terrible experience waited 3 hours baggage che...           0.259   \n",
       "\n",
       "     Positive Score  Neutral Score  Compound Score Overall Sentiment  \n",
       "1             0.175          0.663          0.0516          Positive  \n",
       "2             0.563          0.437          0.9618          Positive  \n",
       "183           0.071          0.618         -0.9934          Negative  \n",
       "206           0.163          0.766          0.9433          Positive  \n",
       "253           0.187          0.555         -0.5994          Negative  "
      ]
     },
     "execution_count": 17,
     "metadata": {},
     "output_type": "execute_result"
    }
   ],
   "source": [
    "# Having a look at the vader datafram\n",
    "vader.head()"
   ]
  },
  {
   "cell_type": "code",
   "execution_count": 18,
   "id": "d6799260-d101-4e7a-b9a6-1941a3271d8e",
   "metadata": {},
   "outputs": [
    {
     "data": {
      "text/plain": [
       "<AxesSubplot:xlabel='Overall Sentiment', ylabel='count'>"
      ]
     },
     "execution_count": 18,
     "metadata": {},
     "output_type": "execute_result"
    },
    {
     "data": {
      "image/png": "[encoded data removed]",
      "text/plain": [
       "<Figure size 432x288 with 1 Axes>"
      ]
     },
     "metadata": {
      "needs_background": "light"
     },
     "output_type": "display_data"
    }
   ],
   "source": [
    "import seaborn as sns\n",
    "sns.countplot(vader['Overall Sentiment'])"
   ]
  },
  {
   "cell_type": "code",
   "execution_count": 19,
   "id": "f88eec3a-38d4-4cbc-99bc-7e3412c16db4",
   "metadata": {},
   "outputs": [
    {
     "data": {
      "text/plain": [
       "<AxesSubplot:title={'center':'over all sentiment'}, ylabel='Overall Sentiment'>"
      ]
     },
     "execution_count": 19,
     "metadata": {},
     "output_type": "execute_result"
    },
    {
     "data": {
      "image/png": "[encoded data removed]",
      "text/plain": [
       "<Figure size 432x288 with 1 Axes>"
      ]
     },
     "metadata": {},
     "output_type": "display_data"
    }
   ],
   "source": [
    "explode = [0, 0.1, 0.1]\n",
    "vader[\"Overall Sentiment\"].value_counts().plot.pie(title=\"over all sentiment\",autopct='%1.1f%%', \n",
    "                        explode = explode\n",
    "                                 )"
   ]
  },
  {
   "cell_type": "code",
   "execution_count": 20,
   "id": "0913bf93-72e5-4936-90a8-1c6fe4a7198a",
   "metadata": {},
   "outputs": [],
   "source": [
    "df['overallSentiment']=vader[\"Overall Sentiment\"]"
   ]
  },
  {
   "cell_type": "code",
   "execution_count": 21,
   "id": "0891d870-2f6a-4086-be9d-6b3cf98731b7",
   "metadata": {},
   "outputs": [
    {
     "data": {
      "image/png": "[encoded data removed]",
      "text/plain": [
       "<Figure size 2160x576 with 1 Axes>"
      ]
     },
     "metadata": {
      "needs_background": "light"
     },
     "output_type": "display_data"
    }
   ],
   "source": [
    "time_df = df.groupby(['overallSentiment','host_location'])['reviews'].count().reset_index()\n",
    "# time_df=time_df.loc[time_df['Overall Sentiment'] != 'Neutral']\n",
    "plt.figure(figsize=(30,8))\n",
    "sns.barplot(data=time_df,x='host_location',y='reviews',hue='overallSentiment')\n",
    "plt.show()"
   ]
  },
  {
   "cell_type": "code",
   "execution_count": 22,
   "id": "b7a787b3-865c-4aff-ac5b-84e9caa9f31d",
   "metadata": {},
   "outputs": [
    {
     "data": {
      "image/png": "[encoded data removed]",
      "text/plain": [
       "<Figure size 2160x576 with 1 Axes>"
      ]
     },
     "metadata": {
      "needs_background": "light"
     },
     "output_type": "display_data"
    }
   ],
   "source": [
    "time_df = df.groupby(['overallSentiment','review_scores_value'])['reviews'].count().reset_index()\n",
    "# time_df=time_df.loc[time_df['Overall Sentiment'] != 'Neutral']\n",
    "plt.figure(figsize=(30,8))\n",
    "sns.barplot(data=time_df,x='review_scores_value',y='reviews',hue='overallSentiment')\n",
    "plt.show()"
   ]
  },
  {
   "cell_type": "code",
   "execution_count": 23,
   "id": "7695112f-7aec-4375-bf57-ece59919e588",
   "metadata": {},
   "outputs": [
    {
     "data": {
      "text/html": [
       "<div>\n",
       "<style scoped>\n",
       "    .dataframe tbody tr th:only-of-type {\n",
       "        vertical-align: middle;\n",
       "    }\n",
       "\n",
       "    .dataframe tbody tr th {\n",
       "        vertical-align: top;\n",
       "    }\n",
       "\n",
       "    .dataframe thead th {\n",
       "        text-align: right;\n",
       "    }\n",
       "</style>\n",
       "<table border=\"1\" class=\"dataframe\">\n",
       "  <thead>\n",
       "    <tr style=\"text-align: right;\">\n",
       "      <th></th>\n",
       "      <th>id</th>\n",
       "      <th>name</th>\n",
       "      <th>host_location</th>\n",
       "      <th>neighbourhood</th>\n",
       "      <th>neighbourhood_cleansed</th>\n",
       "      <th>latitude</th>\n",
       "      <th>longitude</th>\n",
       "      <th>price</th>\n",
       "      <th>review_scores_value</th>\n",
       "      <th>reviews</th>\n",
       "      <th>overallSentiment</th>\n",
       "    </tr>\n",
       "  </thead>\n",
       "  <tbody>\n",
       "    <tr>\n",
       "      <th>1</th>\n",
       "      <td>30387856</td>\n",
       "      <td>Charismatic 1BR in W. Village w/ Doorman &amp; Gym</td>\n",
       "      <td>New York, NY</td>\n",
       "      <td>New York, United States</td>\n",
       "      <td>Ward E (councilmember James Solomon)</td>\n",
       "      <td>40.729222</td>\n",
       "      <td>-74.002791</td>\n",
       "      <td>418</td>\n",
       "      <td>1.00</td>\n",
       "      <td>lots problems maintenance ussues apartment mov...</td>\n",
       "      <td>Positive</td>\n",
       "    </tr>\n",
       "    <tr>\n",
       "      <th>2</th>\n",
       "      <td>5506</td>\n",
       "      <td>** Fort Hill Inn Private! Minutes to center!**</td>\n",
       "      <td>Boston, MA</td>\n",
       "      <td>Boston, Massachusetts, United States</td>\n",
       "      <td>Roxbury</td>\n",
       "      <td>42.328440</td>\n",
       "      <td>-71.095810</td>\n",
       "      <td>149</td>\n",
       "      <td>4.73</td>\n",
       "      <td>stayed terryfor 3 nights guest room great clea...</td>\n",
       "      <td>Positive</td>\n",
       "    </tr>\n",
       "    <tr>\n",
       "      <th>183</th>\n",
       "      <td>33607399</td>\n",
       "      <td>FiDi 1BR w/ Roofdeck, Gym &amp; Doorman nr Wall St.</td>\n",
       "      <td>New York, NY</td>\n",
       "      <td>New York, United States</td>\n",
       "      <td>Ward F (councilmember Jermaine D. Robinson)</td>\n",
       "      <td>40.705040</td>\n",
       "      <td>-74.008120</td>\n",
       "      <td>547</td>\n",
       "      <td>1.00</td>\n",
       "      <td>worst experiencehave airbnb br br blueground h...</td>\n",
       "      <td>Negative</td>\n",
       "    </tr>\n",
       "    <tr>\n",
       "      <th>206</th>\n",
       "      <td>34420009</td>\n",
       "      <td>LUX CONDO 15 Min Times Square NYC Organic Smar...</td>\n",
       "      <td>NaN</td>\n",
       "      <td>Jersey City, New Jersey, United States</td>\n",
       "      <td>Ward C (councilmember Richard Boggiano)</td>\n",
       "      <td>40.738130</td>\n",
       "      <td>-74.047990</td>\n",
       "      <td>109</td>\n",
       "      <td>1.00</td>\n",
       "      <td>favorite thing living whengot check outhad abs...</td>\n",
       "      <td>Positive</td>\n",
       "    </tr>\n",
       "    <tr>\n",
       "      <th>253</th>\n",
       "      <td>46006086</td>\n",
       "      <td>Modern, Clean 1BR in Hudson Exchange w/ Gym + ...</td>\n",
       "      <td>NaN</td>\n",
       "      <td>Jersey City, New Jersey, United States</td>\n",
       "      <td>Ward E (councilmember James Solomon)</td>\n",
       "      <td>40.724545</td>\n",
       "      <td>-74.035912</td>\n",
       "      <td>417</td>\n",
       "      <td>1.00</td>\n",
       "      <td>terrible experience waited 3 hours baggage che...</td>\n",
       "      <td>Negative</td>\n",
       "    </tr>\n",
       "    <tr>\n",
       "      <th>...</th>\n",
       "      <td>...</td>\n",
       "      <td>...</td>\n",
       "      <td>...</td>\n",
       "      <td>...</td>\n",
       "      <td>...</td>\n",
       "      <td>...</td>\n",
       "      <td>...</td>\n",
       "      <td>...</td>\n",
       "      <td>...</td>\n",
       "      <td>...</td>\n",
       "      <td>...</td>\n",
       "    </tr>\n",
       "    <tr>\n",
       "      <th>5207</th>\n",
       "      <td>24246244</td>\n",
       "      <td>The Little Green Bungalow</td>\n",
       "      <td>Nashville, TN</td>\n",
       "      <td>Nashville, Tennessee, United States</td>\n",
       "      <td>District 7</td>\n",
       "      <td>36.203300</td>\n",
       "      <td>-86.731020</td>\n",
       "      <td>129</td>\n",
       "      <td>4.99</td>\n",
       "      <td>impressed cleanliness house inside decorations...</td>\n",
       "      <td>Positive</td>\n",
       "    </tr>\n",
       "    <tr>\n",
       "      <th>5208</th>\n",
       "      <td>32958841</td>\n",
       "      <td>Goodwin Oasis</td>\n",
       "      <td>Nashville, TN</td>\n",
       "      <td>Nashville, Tennessee, United States</td>\n",
       "      <td>District 29</td>\n",
       "      <td>36.089940</td>\n",
       "      <td>-86.623970</td>\n",
       "      <td>203</td>\n",
       "      <td>4.99</td>\n",
       "      <td>wildcat cottage amazing stay beautiful decor f...</td>\n",
       "      <td>Positive</td>\n",
       "    </tr>\n",
       "    <tr>\n",
       "      <th>5209</th>\n",
       "      <td>33013006</td>\n",
       "      <td>Charming and Private Detached Guesthouse in Ea...</td>\n",
       "      <td>Nashville, TN</td>\n",
       "      <td>Nashville, Tennessee, United States</td>\n",
       "      <td>District 8</td>\n",
       "      <td>36.229690</td>\n",
       "      <td>-86.727730</td>\n",
       "      <td>86</td>\n",
       "      <td>4.99</td>\n",
       "      <td>clean even cuter person pictures convenient do...</td>\n",
       "      <td>Positive</td>\n",
       "    </tr>\n",
       "    <tr>\n",
       "      <th>5210</th>\n",
       "      <td>34331421</td>\n",
       "      <td>Spacious basement guest suite near airport/dwntn</td>\n",
       "      <td>Nashville, TN</td>\n",
       "      <td>Nashville, Tennessee, United States</td>\n",
       "      <td>District 15</td>\n",
       "      <td>36.184250</td>\n",
       "      <td>-86.673460</td>\n",
       "      <td>110</td>\n",
       "      <td>4.99</td>\n",
       "      <td>beautiful home incredibly relaxing enjoyable i...</td>\n",
       "      <td>Positive</td>\n",
       "    </tr>\n",
       "    <tr>\n",
       "      <th>5211</th>\n",
       "      <td>34388698</td>\n",
       "      <td>*AMAZING View! * Close to EVERYTHING! *</td>\n",
       "      <td>Nashville, TN</td>\n",
       "      <td>Nashville, Tennessee, United States</td>\n",
       "      <td>District 21</td>\n",
       "      <td>36.153950</td>\n",
       "      <td>-86.824910</td>\n",
       "      <td>435</td>\n",
       "      <td>4.99</td>\n",
       "      <td>say enough good things stay wildcat cottage as...</td>\n",
       "      <td>Positive</td>\n",
       "    </tr>\n",
       "  </tbody>\n",
       "</table>\n",
       "<p>79 rows × 11 columns</p>\n",
       "</div>"
      ],
      "text/plain": [
       "            id                                               name  \\\n",
       "1     30387856     Charismatic 1BR in W. Village w/ Doorman & Gym   \n",
       "2         5506     ** Fort Hill Inn Private! Minutes to center!**   \n",
       "183   33607399    FiDi 1BR w/ Roofdeck, Gym & Doorman nr Wall St.   \n",
       "206   34420009  LUX CONDO 15 Min Times Square NYC Organic Smar...   \n",
       "253   46006086  Modern, Clean 1BR in Hudson Exchange w/ Gym + ...   \n",
       "...        ...                                                ...   \n",
       "5207  24246244                          The Little Green Bungalow   \n",
       "5208  32958841                                      Goodwin Oasis   \n",
       "5209  33013006  Charming and Private Detached Guesthouse in Ea...   \n",
       "5210  34331421   Spacious basement guest suite near airport/dwntn   \n",
       "5211  34388698            *AMAZING View! * Close to EVERYTHING! *   \n",
       "\n",
       "      host_location                           neighbourhood  \\\n",
       "1      New York, NY                 New York, United States   \n",
       "2        Boston, MA    Boston, Massachusetts, United States   \n",
       "183    New York, NY                 New York, United States   \n",
       "206             NaN  Jersey City, New Jersey, United States   \n",
       "253             NaN  Jersey City, New Jersey, United States   \n",
       "...             ...                                     ...   \n",
       "5207  Nashville, TN     Nashville, Tennessee, United States   \n",
       "5208  Nashville, TN     Nashville, Tennessee, United States   \n",
       "5209  Nashville, TN     Nashville, Tennessee, United States   \n",
       "5210  Nashville, TN     Nashville, Tennessee, United States   \n",
       "5211  Nashville, TN     Nashville, Tennessee, United States   \n",
       "\n",
       "                           neighbourhood_cleansed   latitude  longitude  \\\n",
       "1            Ward E (councilmember James Solomon)  40.729222 -74.002791   \n",
       "2                                         Roxbury  42.328440 -71.095810   \n",
       "183   Ward F (councilmember Jermaine D. Robinson)  40.705040 -74.008120   \n",
       "206       Ward C (councilmember Richard Boggiano)  40.738130 -74.047990   \n",
       "253          Ward E (councilmember James Solomon)  40.724545 -74.035912   \n",
       "...                                           ...        ...        ...   \n",
       "5207                                   District 7  36.203300 -86.731020   \n",
       "5208                                  District 29  36.089940 -86.623970   \n",
       "5209                                   District 8  36.229690 -86.727730   \n",
       "5210                                  District 15  36.184250 -86.673460   \n",
       "5211                                  District 21  36.153950 -86.824910   \n",
       "\n",
       "      price  review_scores_value  \\\n",
       "1       418                 1.00   \n",
       "2       149                 4.73   \n",
       "183     547                 1.00   \n",
       "206     109                 1.00   \n",
       "253     417                 1.00   \n",
       "...     ...                  ...   \n",
       "5207    129                 4.99   \n",
       "5208    203                 4.99   \n",
       "5209     86                 4.99   \n",
       "5210    110                 4.99   \n",
       "5211    435                 4.99   \n",
       "\n",
       "                                                reviews overallSentiment  \n",
       "1     lots problems maintenance ussues apartment mov...         Positive  \n",
       "2     stayed terryfor 3 nights guest room great clea...         Positive  \n",
       "183   worst experiencehave airbnb br br blueground h...         Negative  \n",
       "206   favorite thing living whengot check outhad abs...         Positive  \n",
       "253   terrible experience waited 3 hours baggage che...         Negative  \n",
       "...                                                 ...              ...  \n",
       "5207  impressed cleanliness house inside decorations...         Positive  \n",
       "5208  wildcat cottage amazing stay beautiful decor f...         Positive  \n",
       "5209  clean even cuter person pictures convenient do...         Positive  \n",
       "5210  beautiful home incredibly relaxing enjoyable i...         Positive  \n",
       "5211  say enough good things stay wildcat cottage as...         Positive  \n",
       "\n",
       "[79 rows x 11 columns]"
      ]
     },
     "execution_count": 23,
     "metadata": {},
     "output_type": "execute_result"
    }
   ],
   "source": [
    "df"
   ]
  },
  {
   "cell_type": "markdown",
   "id": "08577124",
   "metadata": {},
   "source": [
    "## Text Classifcation "
   ]
  },
  {
   "cell_type": "markdown",
   "id": "17b44243",
   "metadata": {},
   "source": [
    "## Count Vectorization "
   ]
  },
  {
   "cell_type": "code",
   "execution_count": 24,
   "id": "295dbbbd-3cb9-4779-919b-7253112c3aaf",
   "metadata": {},
   "outputs": [
    {
     "data": {
      "text/plain": [
       "(79, 1637)"
      ]
     },
     "execution_count": 24,
     "metadata": {},
     "output_type": "execute_result"
    }
   ],
   "source": [
    "counts = feature_extraction.text.CountVectorizer()\n",
    "X = counts.fit_transform(vader['reviews'].values)\n",
    "X.shape"
   ]
  },
  {
   "cell_type": "code",
   "execution_count": 25,
   "id": "091f94cc-8fa0-4c3f-9bf1-cce38307094d",
   "metadata": {},
   "outputs": [
    {
     "data": {
      "text/plain": [
       "array([2, 0, 1])"
      ]
     },
     "execution_count": 25,
     "metadata": {},
     "output_type": "execute_result"
    }
   ],
   "source": [
    "# Import label encoder\n",
    "from sklearn import preprocessing\n",
    "  \n",
    "# label_encoder object knows how to understand word labels.\n",
    "label_encoder = preprocessing.LabelEncoder()\n",
    "  \n",
    "# Encode labels in column 'species'.\n",
    "vader['Overall Sentiment']= label_encoder.fit_transform(vader['Overall Sentiment'])\n",
    "\n",
    "vader['Overall Sentiment'].unique()"
   ]
  },
  {
   "cell_type": "code",
   "execution_count": 26,
   "id": "f9184ab7-f685-418c-b96c-183f879a9acf",
   "metadata": {},
   "outputs": [],
   "source": [
    "y = vader['Overall Sentiment'].values"
   ]
  },
  {
   "cell_type": "markdown",
   "id": "1994046f",
   "metadata": {},
   "source": [
    "## Train Test Split"
   ]
  },
  {
   "cell_type": "code",
   "execution_count": 27,
   "id": "8db58f76-9c16-4e0c-8df0-0c505b5f498b",
   "metadata": {},
   "outputs": [],
   "source": [
    "X_train, X_test, y_train, y_test = ms.train_test_split(X, y, test_size=0.2, random_state=42)"
   ]
  },
  {
   "cell_type": "markdown",
   "id": "3910ec82",
   "metadata": {},
   "source": [
    "## Multinomial Naive Bayes"
   ]
  },
  {
   "cell_type": "code",
   "execution_count": 28,
   "id": "b7634baf-4585-4f0c-9eef-f4062d66cf81",
   "metadata": {},
   "outputs": [
    {
     "name": "stdout",
     "output_type": "stream",
     "text": [
      "\n",
      "\n",
      "MultinomialNB: 56.25 \n",
      "\n",
      "              precision    recall  f1-score   support\n",
      "\n",
      "           0       0.17      0.33      0.22         3\n",
      "           1       0.00      0.00      0.00         1\n",
      "           2       0.80      0.67      0.73        12\n",
      "\n",
      "    accuracy                           0.56        16\n",
      "   macro avg       0.32      0.33      0.32        16\n",
      "weighted avg       0.63      0.56      0.59        16\n",
      "\n"
     ]
    }
   ],
   "source": [
    "from sklearn.naive_bayes import MultinomialNB\n",
    "from sklearn.metrics import confusion_matrix\n",
    "from sklearn.metrics import accuracy_score\n",
    "from sklearn.metrics import classification_report\n",
    "from sklearn.metrics import precision_score, recall_score, f1_score, accuracy_score\n",
    "m3 = 'MultinomialNB'\n",
    "rf = MultinomialNB()\n",
    "classifier=rf.fit(X_train,y_train)\n",
    "rf_predicted = rf.predict(X_test)\n",
    "rf_conf_matrix = confusion_matrix(y_test, rf_predicted)           \n",
    "rf_acc_score = accuracy_score(y_test, rf_predicted)\n",
    "print(\"\\n\")\n",
    "score_rf=rf_acc_score*100\n",
    "print(\"MultinomialNB:\",rf_acc_score*100,'\\n')\n",
    "print(classification_report(y_test,rf_predicted))"
   ]
  },
  {
   "cell_type": "code",
   "execution_count": 29,
   "id": "fc8fe600-5375-40ef-acab-4e84b4f14dde",
   "metadata": {},
   "outputs": [
    {
     "name": "stdout",
     "output_type": "stream",
     "text": [
      "Precision: 0.562\n"
     ]
    }
   ],
   "source": [
    "# calculate prediction\n",
    "precision = precision_score(y_test, rf_predicted, labels=[2, 0, 1], average='micro')\n",
    "print('Precision: %.3f' % precision)"
   ]
  },
  {
   "cell_type": "code",
   "execution_count": 30,
   "id": "f166ba3f-a529-4032-9be8-63d9a612098b",
   "metadata": {},
   "outputs": [
    {
     "name": "stdout",
     "output_type": "stream",
     "text": [
      "Recall: 0.562\n"
     ]
    }
   ],
   "source": [
    "# calculate recall\n",
    "recall = recall_score(y_test, rf_predicted, labels=[2, 0, 1], average='micro')\n",
    "print('Recall: %.3f' % recall)"
   ]
  },
  {
   "cell_type": "code",
   "execution_count": 31,
   "id": "9f31bf20-66d4-46ad-9acf-979d715e486e",
   "metadata": {},
   "outputs": [
    {
     "name": "stdout",
     "output_type": "stream",
     "text": [
      "F-Measure: 0.562\n"
     ]
    }
   ],
   "source": [
    "# calculate score\n",
    "score = f1_score(y_test, rf_predicted,  average='micro')\n",
    "print('F-Measure: %.3f' % score)"
   ]
  },
  {
   "cell_type": "code",
   "execution_count": 32,
   "id": "6f23fa98-73d1-4241-bd56-486158372cee",
   "metadata": {},
   "outputs": [
    {
     "name": "stdout",
     "output_type": "stream",
     "text": [
      "Requirement already satisfied: mlxtend in c:\\users\\umar\\anaconda3\\lib\\site-packages (0.21.0)\n",
      "Requirement already satisfied: scikit-learn>=1.0.2 in c:\\users\\umar\\anaconda3\\lib\\site-packages (from mlxtend) (1.0.2)\n",
      "Requirement already satisfied: pandas>=0.24.2 in c:\\users\\umar\\anaconda3\\lib\\site-packages (from mlxtend) (1.4.2)\n",
      "Requirement already satisfied: matplotlib>=3.0.0 in c:\\users\\umar\\anaconda3\\lib\\site-packages (from mlxtend) (3.5.1)\n",
      "Requirement already satisfied: scipy>=1.2.1 in c:\\users\\umar\\anaconda3\\lib\\site-packages (from mlxtend) (1.7.3)\n",
      "Requirement already satisfied: numpy>=1.16.2 in c:\\users\\umar\\anaconda3\\lib\\site-packages (from mlxtend) (1.21.5)\n",
      "Requirement already satisfied: setuptools in c:\\users\\umar\\anaconda3\\lib\\site-packages (from mlxtend) (61.2.0)\n",
      "Requirement already satisfied: joblib>=0.13.2 in c:\\users\\umar\\anaconda3\\lib\\site-packages (from mlxtend) (1.1.0)\n",
      "Requirement already satisfied: fonttools>=4.22.0 in c:\\users\\umar\\anaconda3\\lib\\site-packages (from matplotlib>=3.0.0->mlxtend) (4.25.0)\n",
      "Requirement already satisfied: pillow>=6.2.0 in c:\\users\\umar\\anaconda3\\lib\\site-packages (from matplotlib>=3.0.0->mlxtend) (9.0.1)\n",
      "Requirement already satisfied: python-dateutil>=2.7 in c:\\users\\umar\\anaconda3\\lib\\site-packages (from matplotlib>=3.0.0->mlxtend) (2.8.2)\n",
      "Requirement already satisfied: kiwisolver>=1.0.1 in c:\\users\\umar\\anaconda3\\lib\\site-packages (from matplotlib>=3.0.0->mlxtend) (1.3.2)\n",
      "Requirement already satisfied: cycler>=0.10 in c:\\users\\umar\\anaconda3\\lib\\site-packages (from matplotlib>=3.0.0->mlxtend) (0.11.0)\n",
      "Requirement already satisfied: pyparsing>=2.2.1 in c:\\users\\umar\\anaconda3\\lib\\site-packages (from matplotlib>=3.0.0->mlxtend) (3.0.4)\n",
      "Requirement already satisfied: packaging>=20.0 in c:\\users\\umar\\anaconda3\\lib\\site-packages (from matplotlib>=3.0.0->mlxtend) (21.3)\n",
      "Requirement already satisfied: pytz>=2020.1 in c:\\users\\umar\\anaconda3\\lib\\site-packages (from pandas>=0.24.2->mlxtend) (2021.3)\n",
      "Requirement already satisfied: six>=1.5 in c:\\users\\umar\\anaconda3\\lib\\site-packages (from python-dateutil>=2.7->matplotlib>=3.0.0->mlxtend) (1.16.0)\n",
      "Requirement already satisfied: threadpoolctl>=2.0.0 in c:\\users\\umar\\anaconda3\\lib\\site-packages (from scikit-learn>=1.0.2->mlxtend) (2.2.0)\n"
     ]
    }
   ],
   "source": [
    "!pip install mlxtend"
   ]
  },
  {
   "cell_type": "code",
   "execution_count": 33,
   "id": "b7f78d70-e8d1-4be6-86b5-b2d2e9c06b9c",
   "metadata": {},
   "outputs": [
    {
     "data": {
      "image/png": "[encoded data removed]",
      "text/plain": [
       "<Figure size 432x288 with 2 Axes>"
      ]
     },
     "metadata": {
      "needs_background": "light"
     },
     "output_type": "display_data"
    }
   ],
   "source": [
    "# Imports\n",
    "from mlxtend.plotting import plot_confusion_matrix\n",
    "import matplotlib.pyplot as plt\n",
    "\n",
    "figure, ax = plot_confusion_matrix(conf_mat = rf_conf_matrix,\n",
    "                                  #  class_names = classes,\n",
    "                                   show_absolute = False,\n",
    "                                   show_normed = True,\n",
    "                                   colorbar = True)\n",
    "\n",
    "plt.show()"
   ]
  },
  {
   "cell_type": "markdown",
   "id": "cb38f3da",
   "metadata": {},
   "source": [
    "## SVM"
   ]
  },
  {
   "cell_type": "code",
   "execution_count": 34,
   "id": "096dcf22-60dd-4b7f-8cb5-6f1128b773e3",
   "metadata": {},
   "outputs": [
    {
     "name": "stdout",
     "output_type": "stream",
     "text": [
      "\n",
      "\n",
      "SVM: 75.0 \n",
      "\n",
      "              precision    recall  f1-score   support\n",
      "\n",
      "           0       0.00      0.00      0.00         3\n",
      "           1       0.00      0.00      0.00         1\n",
      "           2       0.75      1.00      0.86        12\n",
      "\n",
      "    accuracy                           0.75        16\n",
      "   macro avg       0.25      0.33      0.29        16\n",
      "weighted avg       0.56      0.75      0.64        16\n",
      "\n"
     ]
    }
   ],
   "source": [
    "from sklearn import svm\n",
    "\n",
    "m3 = 'SVM'\n",
    "rf =  svm.SVC(decision_function_shape='ovo')\n",
    "classifier=rf.fit(X_train,y_train)\n",
    "rf_predicted = rf.predict(X_test)\n",
    "rf_conf_matrix = confusion_matrix(y_test, rf_predicted)           \n",
    "rf_acc_score = accuracy_score(y_test, rf_predicted)\n",
    "print(\"\\n\")\n",
    "score_rf=rf_acc_score*100\n",
    "print(\"SVM:\",rf_acc_score*100,'\\n')\n",
    "print(classification_report(y_test,rf_predicted))"
   ]
  },
  {
   "cell_type": "markdown",
   "id": "84165886",
   "metadata": {},
   "source": [
    "## Confusion Matrix"
   ]
  },
  {
   "cell_type": "code",
   "execution_count": 35,
   "id": "af5a7756-56f1-4382-bd41-14f09d503b2c",
   "metadata": {},
   "outputs": [
    {
     "data": {
      "image/png": "[encoded data removed]",
      "text/plain": [
       "<Figure size 432x288 with 2 Axes>"
      ]
     },
     "metadata": {
      "needs_background": "light"
     },
     "output_type": "display_data"
    }
   ],
   "source": [
    "# Imports\n",
    "from mlxtend.plotting import plot_confusion_matrix\n",
    "import matplotlib.pyplot as plt\n",
    "\n",
    "figure, ax = plot_confusion_matrix(conf_mat = rf_conf_matrix,\n",
    "                                  #  class_names = classes,\n",
    "                                   show_absolute = False,\n",
    "                                   show_normed = True,\n",
    "                                   colorbar = True)\n",
    "\n",
    "plt.show()"
   ]
  },
  {
   "cell_type": "code",
   "execution_count": 36,
   "id": "c40a11fd-251d-45a4-8e99-e306dbd92093",
   "metadata": {},
   "outputs": [
    {
     "name": "stdout",
     "output_type": "stream",
     "text": [
      "Precision: 0.750\n"
     ]
    }
   ],
   "source": [
    "# calculate prediction\n",
    "precision = precision_score(y_test, rf_predicted, labels=[2, 0, 1], average='micro')\n",
    "print('Precision: %.3f' % precision)"
   ]
  },
  {
   "cell_type": "code",
   "execution_count": 37,
   "id": "af539087",
   "metadata": {},
   "outputs": [
    {
     "name": "stdout",
     "output_type": "stream",
     "text": [
      "Recall: 0.750\n"
     ]
    }
   ],
   "source": [
    "# calculate recall\n",
    "recall = recall_score(y_test, rf_predicted, labels=[2, 0, 1], average='micro')\n",
    "print('Recall: %.3f' % recall)"
   ]
  },
  {
   "cell_type": "code",
   "execution_count": 38,
   "id": "e025d93f",
   "metadata": {},
   "outputs": [
    {
     "name": "stdout",
     "output_type": "stream",
     "text": [
      "F-Measure: 0.750\n"
     ]
    }
   ],
   "source": [
    "# calculate score\n",
    "score = f1_score(y_test, rf_predicted,  average='micro')\n",
    "print('F-Measure: %.3f' % score)"
   ]
  },
  {
   "cell_type": "markdown",
   "id": "bd71a742",
   "metadata": {},
   "source": [
    "## Random Forest Classifier"
   ]
  },
  {
   "cell_type": "code",
   "execution_count": 39,
   "id": "452efe2a",
   "metadata": {},
   "outputs": [
    {
     "name": "stdout",
     "output_type": "stream",
     "text": [
      "\n",
      "\n",
      "Random Forest : 75.0 \n",
      "\n",
      "              precision    recall  f1-score   support\n",
      "\n",
      "           0       0.00      0.00      0.00         3\n",
      "           1       0.00      0.00      0.00         1\n",
      "           2       0.75      1.00      0.86        12\n",
      "\n",
      "    accuracy                           0.75        16\n",
      "   macro avg       0.25      0.33      0.29        16\n",
      "weighted avg       0.56      0.75      0.64        16\n",
      "\n"
     ]
    }
   ],
   "source": [
    "from sklearn.ensemble import RandomForestClassifier\n",
    "\n",
    "\n",
    "rf =  RandomForestClassifier(max_depth=3)\n",
    "classifier=rf.fit(X_train,y_train)\n",
    "rf_predicted = rf.predict(X_test)\n",
    "rf_conf_matrix = confusion_matrix(y_test, rf_predicted)           \n",
    "rf_acc_score = accuracy_score(y_test, rf_predicted)\n",
    "print(\"\\n\")\n",
    "score_rf=rf_acc_score*100\n",
    "print(\"Random Forest :\",rf_acc_score*100,'\\n')\n",
    "print(classification_report(y_test,rf_predicted))"
   ]
  },
  {
   "cell_type": "code",
   "execution_count": 40,
   "id": "d8364385",
   "metadata": {},
   "outputs": [
    {
     "data": {
      "image/png": "[encoded data removed]",
      "text/plain": [
       "<Figure size 432x288 with 2 Axes>"
      ]
     },
     "metadata": {
      "needs_background": "light"
     },
     "output_type": "display_data"
    }
   ],
   "source": [
    "# Imports\n",
    "from mlxtend.plotting import plot_confusion_matrix\n",
    "import matplotlib.pyplot as plt\n",
    "\n",
    "figure, ax = plot_confusion_matrix(conf_mat = rf_conf_matrix,\n",
    "                                  #  class_names = classes,\n",
    "                                   show_absolute = False,\n",
    "                                   show_normed = True,\n",
    "                                   colorbar = True)\n",
    "\n",
    "plt.show()"
   ]
  },
  {
   "cell_type": "code",
   "execution_count": 41,
   "id": "7e3b78b0",
   "metadata": {},
   "outputs": [
    {
     "name": "stdout",
     "output_type": "stream",
     "text": [
      "F-Measure: 0.750\n"
     ]
    }
   ],
   "source": [
    "# calculate score\n",
    "score = f1_score(y_test, rf_predicted,  average='micro')\n",
    "print('F-Measure: %.3f' % score)"
   ]
  },
  {
   "cell_type": "code",
   "execution_count": 42,
   "id": "8f0b15aa",
   "metadata": {},
   "outputs": [
    {
     "name": "stdout",
     "output_type": "stream",
     "text": [
      "Recall: 0.750\n"
     ]
    }
   ],
   "source": [
    "# calculate recall\n",
    "recall = recall_score(y_test, rf_predicted, labels=[2, 0, 1], average='micro')\n",
    "print('Recall: %.3f' % recall)"
   ]
  },
  {
   "cell_type": "code",
   "execution_count": 43,
   "id": "b6344e5b",
   "metadata": {},
   "outputs": [
    {
     "name": "stdout",
     "output_type": "stream",
     "text": [
      "Precision: 0.750\n"
     ]
    }
   ],
   "source": [
    "# calculate prediction\n",
    "precision = precision_score(y_test, rf_predicted, labels=[2, 0, 1], average='micro')\n",
    "print('Precision: %.3f' % precision)"
   ]
  },
  {
   "cell_type": "code",
   "execution_count": null,
   "id": "26e2659f",
   "metadata": {},
   "outputs": [],
   "source": []
  }
 ],
 "metadata": {
  "kernelspec": {
   "display_name": "Python 3 (ipykernel)",
   "language": "python",
   "name": "python3"
  },
  "language_info": {
   "codemirror_mode": {
    "name": "ipython",
    "version": 3
   },
   "file_extension": ".py",
   "mimetype": "text/x-python",
   "name": "python",
   "nbconvert_exporter": "python",
   "pygments_lexer": "ipython3",
   "version": "3.9.12"
  }
 },
 "nbformat": 4,
 "nbformat_minor": 5
}
